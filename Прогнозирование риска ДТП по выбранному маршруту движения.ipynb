{
 "cells": [
  {
   "cell_type": "markdown",
   "id": "0e6fc59b",
   "metadata": {},
   "source": [
    "## Оценка риска ДТП по выбранному маршруту движения"
   ]
  },
  {
   "cell_type": "code",
   "execution_count": 48,
   "id": "1a9abf6e",
   "metadata": {},
   "outputs": [],
   "source": [
    "# Импорт бибилиотек\n",
    "import numpy as np\n",
    "import pandas as pd\n",
    "import seaborn as sns\n",
    "import matplotlib.pyplot as plt\n",
    "import catboost as cb\n",
    "\n",
    "from catboost import CatBoostRegressor\n",
    "from catboost import CatBoostClassifier\n",
    "from catboost import MetricVisualizer\n",
    "from catboost import  Pool\n",
    "\n",
    "from sklearn.ensemble import RandomForestClassifier\n",
    "from sklearn.tree import DecisionTreeClassifier\n",
    "\n",
    "from sklearn.model_selection import train_test_split\n",
    "from sklearn.model_selection import GridSearchCV\n",
    "from sklearn.model_selection import RandomizedSearchCV\n",
    "\n",
    "from sklearn.preprocessing import OneHotEncoder\n",
    "from sklearn.preprocessing import StandardScaler\n",
    "from sklearn.preprocessing import OrdinalEncoder\n",
    "\n",
    "from sklearn.pipeline import Pipeline\n",
    "from sklearn.metrics import mean_squared_error\n",
    "from sklearn.metrics import r2_score\n",
    "from sklearn.metrics import roc_auc_score\n",
    "from sklearn.metrics import f1_score\n",
    "from sklearn.metrics import precision_recall_curve\n",
    "from sklearn.metrics import confusion_matrix\n",
    "from sklearn.metrics import ConfusionMatrixDisplay\n",
    "\n",
    "from sqlalchemy import create_engine "
   ]
  },
  {
   "cell_type": "markdown",
   "id": "f28005fc",
   "metadata": {
    "ExecuteTime": {
     "end_time": "2022-05-05T04:58:05.692448Z",
     "start_time": "2022-05-05T04:58:05.688565Z"
    }
   },
   "source": [
    "## Подключение к базе. Загрузка таблицы sql"
   ]
  },
  {
   "cell_type": "code",
   "execution_count": 49,
   "id": "96a9d37b",
   "metadata": {},
   "outputs": [],
   "source": [
    "db_config = {\n",
    "'user': 'praktikum_student', # имя пользователя,\n",
    "'pwd': 'Sdf4$2;d-d30pp', # пароль,\n",
    "'host': 'rc1b-wcoijxj3yxfsf3fs.mdb.yandexcloud.net',\n",
    "'port': 6432, # порт подключения,\n",
    "'db': 'data-science-vehicle-db' # название базы данных,\n",
    "} \n",
    " \n",
    "connection_string = 'postgresql://{}:{}@{}:{}/{}'.format(\n",
    "    db_config['user'],\n",
    "    db_config['pwd'],\n",
    "    db_config['host'],\n",
    "    db_config['port'],\n",
    "    db_config['db'],\n",
    ")"
   ]
  },
  {
   "cell_type": "code",
   "execution_count": 50,
   "id": "5b28149a",
   "metadata": {},
   "outputs": [],
   "source": [
    "engine = create_engine(connection_string) "
   ]
  },
  {
   "cell_type": "markdown",
   "id": "b808a624",
   "metadata": {},
   "source": [
    "## Проведение первичного исследования таблиц"
   ]
  },
  {
   "cell_type": "code",
   "execution_count": 51,
   "id": "592594eb",
   "metadata": {},
   "outputs": [],
   "source": [
    "query = '''\n",
    "SELECT *\n",
    "FROM collisions;\n",
    "'''\n",
    "\n",
    "df_collisions = pd.read_sql_query(query, con=engine) "
   ]
  },
  {
   "cell_type": "code",
   "execution_count": 52,
   "id": "35e01453",
   "metadata": {
    "scrolled": false
   },
   "outputs": [
    {
     "data": {
      "text/html": [
       "<div>\n",
       "<style scoped>\n",
       "    .dataframe tbody tr th:only-of-type {\n",
       "        vertical-align: middle;\n",
       "    }\n",
       "\n",
       "    .dataframe tbody tr th {\n",
       "        vertical-align: top;\n",
       "    }\n",
       "\n",
       "    .dataframe thead th {\n",
       "        text-align: right;\n",
       "    }\n",
       "</style>\n",
       "<table border=\"1\" class=\"dataframe\">\n",
       "  <thead>\n",
       "    <tr style=\"text-align: right;\">\n",
       "      <th></th>\n",
       "      <th>case_id</th>\n",
       "      <th>county_city_location</th>\n",
       "      <th>county_location</th>\n",
       "      <th>distance</th>\n",
       "      <th>direction</th>\n",
       "      <th>intersection</th>\n",
       "      <th>weather_1</th>\n",
       "      <th>location_type</th>\n",
       "      <th>collision_damage</th>\n",
       "      <th>party_count</th>\n",
       "      <th>primary_collision_factor</th>\n",
       "      <th>pcf_violation_category</th>\n",
       "      <th>type_of_collision</th>\n",
       "      <th>motor_vehicle_involved_with</th>\n",
       "      <th>road_surface</th>\n",
       "      <th>road_condition_1</th>\n",
       "      <th>lighting</th>\n",
       "      <th>control_device</th>\n",
       "      <th>collision_date</th>\n",
       "      <th>collision_time</th>\n",
       "    </tr>\n",
       "  </thead>\n",
       "  <tbody>\n",
       "    <tr>\n",
       "      <th>0</th>\n",
       "      <td>4083072</td>\n",
       "      <td>1942</td>\n",
       "      <td>los angeles</td>\n",
       "      <td>528.0</td>\n",
       "      <td>north</td>\n",
       "      <td>0.0</td>\n",
       "      <td>cloudy</td>\n",
       "      <td>highway</td>\n",
       "      <td>small damage</td>\n",
       "      <td>2</td>\n",
       "      <td>vehicle code violation</td>\n",
       "      <td>unsafe lane change</td>\n",
       "      <td>sideswipe</td>\n",
       "      <td>other motor vehicle</td>\n",
       "      <td>wet</td>\n",
       "      <td>normal</td>\n",
       "      <td>daylight</td>\n",
       "      <td>none</td>\n",
       "      <td>2009-01-22</td>\n",
       "      <td>07:25:00</td>\n",
       "    </tr>\n",
       "    <tr>\n",
       "      <th>1</th>\n",
       "      <td>4083075</td>\n",
       "      <td>4313</td>\n",
       "      <td>santa clara</td>\n",
       "      <td>0.0</td>\n",
       "      <td>None</td>\n",
       "      <td>1.0</td>\n",
       "      <td>clear</td>\n",
       "      <td>None</td>\n",
       "      <td>small damage</td>\n",
       "      <td>1</td>\n",
       "      <td>vehicle code violation</td>\n",
       "      <td>improper passing</td>\n",
       "      <td>hit object</td>\n",
       "      <td>fixed object</td>\n",
       "      <td>dry</td>\n",
       "      <td>normal</td>\n",
       "      <td>dark with street lights</td>\n",
       "      <td>functioning</td>\n",
       "      <td>2009-01-03</td>\n",
       "      <td>02:26:00</td>\n",
       "    </tr>\n",
       "    <tr>\n",
       "      <th>2</th>\n",
       "      <td>4083073</td>\n",
       "      <td>0109</td>\n",
       "      <td>alameda</td>\n",
       "      <td>0.0</td>\n",
       "      <td>None</td>\n",
       "      <td>1.0</td>\n",
       "      <td>clear</td>\n",
       "      <td>None</td>\n",
       "      <td>scratch</td>\n",
       "      <td>2</td>\n",
       "      <td>vehicle code violation</td>\n",
       "      <td>improper turning</td>\n",
       "      <td>broadside</td>\n",
       "      <td>other motor vehicle</td>\n",
       "      <td>dry</td>\n",
       "      <td>normal</td>\n",
       "      <td>dark with street lights</td>\n",
       "      <td>functioning</td>\n",
       "      <td>2009-01-11</td>\n",
       "      <td>03:32:00</td>\n",
       "    </tr>\n",
       "  </tbody>\n",
       "</table>\n",
       "</div>"
      ],
      "text/plain": [
       "   case_id county_city_location county_location  distance direction  \\\n",
       "0  4083072                 1942     los angeles     528.0     north   \n",
       "1  4083075                 4313     santa clara       0.0      None   \n",
       "2  4083073                 0109         alameda       0.0      None   \n",
       "\n",
       "   intersection weather_1 location_type collision_damage  party_count  \\\n",
       "0           0.0    cloudy       highway     small damage            2   \n",
       "1           1.0     clear          None     small damage            1   \n",
       "2           1.0     clear          None          scratch            2   \n",
       "\n",
       "  primary_collision_factor pcf_violation_category type_of_collision  \\\n",
       "0   vehicle code violation     unsafe lane change         sideswipe   \n",
       "1   vehicle code violation       improper passing        hit object   \n",
       "2   vehicle code violation       improper turning         broadside   \n",
       "\n",
       "  motor_vehicle_involved_with road_surface road_condition_1  \\\n",
       "0         other motor vehicle          wet           normal   \n",
       "1                fixed object          dry           normal   \n",
       "2         other motor vehicle          dry           normal   \n",
       "\n",
       "                  lighting control_device collision_date collision_time  \n",
       "0                 daylight           none     2009-01-22       07:25:00  \n",
       "1  dark with street lights    functioning     2009-01-03       02:26:00  \n",
       "2  dark with street lights    functioning     2009-01-11       03:32:00  "
      ]
     },
     "metadata": {},
     "output_type": "display_data"
    },
    {
     "name": "stdout",
     "output_type": "stream",
     "text": [
      "<class 'pandas.core.frame.DataFrame'>\n",
      "RangeIndex: 1400000 entries, 0 to 1399999\n",
      "Data columns (total 20 columns):\n",
      " #   Column                       Non-Null Count    Dtype  \n",
      "---  ------                       --------------    -----  \n",
      " 0   case_id                      1400000 non-null  object \n",
      " 1   county_city_location         1400000 non-null  object \n",
      " 2   county_location              1400000 non-null  object \n",
      " 3   distance                     1400000 non-null  float64\n",
      " 4   direction                    1059358 non-null  object \n",
      " 5   intersection                 1387781 non-null  float64\n",
      " 6   weather_1                    1392741 non-null  object \n",
      " 7   location_type                518779 non-null   object \n",
      " 8   collision_damage             1400000 non-null  object \n",
      " 9   party_count                  1400000 non-null  int64  \n",
      " 10  primary_collision_factor     1391834 non-null  object \n",
      " 11  pcf_violation_category       1372046 non-null  object \n",
      " 12  type_of_collision            1388176 non-null  object \n",
      " 13  motor_vehicle_involved_with  1393181 non-null  object \n",
      " 14  road_surface                 1386907 non-null  object \n",
      " 15  road_condition_1             1388012 non-null  object \n",
      " 16  lighting                     1391407 non-null  object \n",
      " 17  control_device               1391593 non-null  object \n",
      " 18  collision_date               1400000 non-null  object \n",
      " 19  collision_time               1387692 non-null  object \n",
      "dtypes: float64(2), int64(1), object(17)\n",
      "memory usage: 213.6+ MB\n"
     ]
    },
    {
     "data": {
      "text/plain": [
       "None"
      ]
     },
     "metadata": {},
     "output_type": "display_data"
    }
   ],
   "source": [
    "display(df_collisions.head(3))\n",
    "display(df_collisions.info())"
   ]
  },
  {
   "cell_type": "code",
   "execution_count": 53,
   "id": "0ecb467d",
   "metadata": {},
   "outputs": [],
   "source": [
    "query = '''\n",
    "SELECT *\n",
    "FROM parties\n",
    "'''\n",
    "\n",
    "df_parties = pd.read_sql_query(query, con=engine) "
   ]
  },
  {
   "cell_type": "code",
   "execution_count": 54,
   "id": "0c3dacb0",
   "metadata": {},
   "outputs": [
    {
     "data": {
      "text/html": [
       "<div>\n",
       "<style scoped>\n",
       "    .dataframe tbody tr th:only-of-type {\n",
       "        vertical-align: middle;\n",
       "    }\n",
       "\n",
       "    .dataframe tbody tr th {\n",
       "        vertical-align: top;\n",
       "    }\n",
       "\n",
       "    .dataframe thead th {\n",
       "        text-align: right;\n",
       "    }\n",
       "</style>\n",
       "<table border=\"1\" class=\"dataframe\">\n",
       "  <thead>\n",
       "    <tr style=\"text-align: right;\">\n",
       "      <th></th>\n",
       "      <th>id</th>\n",
       "      <th>case_id</th>\n",
       "      <th>party_number</th>\n",
       "      <th>party_type</th>\n",
       "      <th>at_fault</th>\n",
       "      <th>insurance_premium</th>\n",
       "      <th>party_sobriety</th>\n",
       "      <th>party_drug_physical</th>\n",
       "      <th>cellphone_in_use</th>\n",
       "    </tr>\n",
       "  </thead>\n",
       "  <tbody>\n",
       "    <tr>\n",
       "      <th>0</th>\n",
       "      <td>22</td>\n",
       "      <td>3899454</td>\n",
       "      <td>1</td>\n",
       "      <td>road signs</td>\n",
       "      <td>1</td>\n",
       "      <td>29.0</td>\n",
       "      <td>had not been drinking</td>\n",
       "      <td>None</td>\n",
       "      <td>0.0</td>\n",
       "    </tr>\n",
       "    <tr>\n",
       "      <th>1</th>\n",
       "      <td>23</td>\n",
       "      <td>3899454</td>\n",
       "      <td>2</td>\n",
       "      <td>road signs</td>\n",
       "      <td>0</td>\n",
       "      <td>7.0</td>\n",
       "      <td>had not been drinking</td>\n",
       "      <td>None</td>\n",
       "      <td>0.0</td>\n",
       "    </tr>\n",
       "    <tr>\n",
       "      <th>2</th>\n",
       "      <td>29</td>\n",
       "      <td>3899462</td>\n",
       "      <td>2</td>\n",
       "      <td>car</td>\n",
       "      <td>0</td>\n",
       "      <td>21.0</td>\n",
       "      <td>had not been drinking</td>\n",
       "      <td>None</td>\n",
       "      <td>0.0</td>\n",
       "    </tr>\n",
       "  </tbody>\n",
       "</table>\n",
       "</div>"
      ],
      "text/plain": [
       "   id  case_id  party_number  party_type  at_fault  insurance_premium  \\\n",
       "0  22  3899454             1  road signs         1               29.0   \n",
       "1  23  3899454             2  road signs         0                7.0   \n",
       "2  29  3899462             2         car         0               21.0   \n",
       "\n",
       "          party_sobriety party_drug_physical  cellphone_in_use  \n",
       "0  had not been drinking                None               0.0  \n",
       "1  had not been drinking                None               0.0  \n",
       "2  had not been drinking                None               0.0  "
      ]
     },
     "metadata": {},
     "output_type": "display_data"
    },
    {
     "name": "stdout",
     "output_type": "stream",
     "text": [
      "<class 'pandas.core.frame.DataFrame'>\n",
      "RangeIndex: 2752408 entries, 0 to 2752407\n",
      "Data columns (total 9 columns):\n",
      " #   Column               Dtype  \n",
      "---  ------               -----  \n",
      " 0   id                   int64  \n",
      " 1   case_id              object \n",
      " 2   party_number         int64  \n",
      " 3   party_type           object \n",
      " 4   at_fault             int64  \n",
      " 5   insurance_premium    float64\n",
      " 6   party_sobriety       object \n",
      " 7   party_drug_physical  object \n",
      " 8   cellphone_in_use     float64\n",
      "dtypes: float64(2), int64(3), object(4)\n",
      "memory usage: 189.0+ MB\n"
     ]
    },
    {
     "data": {
      "text/plain": [
       "None"
      ]
     },
     "metadata": {},
     "output_type": "display_data"
    }
   ],
   "source": [
    "display(df_parties.head(3))\n",
    "display(df_parties.info())"
   ]
  },
  {
   "cell_type": "code",
   "execution_count": 55,
   "id": "04bc5751",
   "metadata": {},
   "outputs": [],
   "source": [
    "query = '''\n",
    "SELECT *\n",
    "FROM vehicles  \n",
    "'''\n",
    "\n",
    "df_vehicless = pd.read_sql_query(query, con=engine) "
   ]
  },
  {
   "cell_type": "code",
   "execution_count": 56,
   "id": "6e1f8ab5",
   "metadata": {},
   "outputs": [
    {
     "data": {
      "text/html": [
       "<div>\n",
       "<style scoped>\n",
       "    .dataframe tbody tr th:only-of-type {\n",
       "        vertical-align: middle;\n",
       "    }\n",
       "\n",
       "    .dataframe tbody tr th {\n",
       "        vertical-align: top;\n",
       "    }\n",
       "\n",
       "    .dataframe thead th {\n",
       "        text-align: right;\n",
       "    }\n",
       "</style>\n",
       "<table border=\"1\" class=\"dataframe\">\n",
       "  <thead>\n",
       "    <tr style=\"text-align: right;\">\n",
       "      <th></th>\n",
       "      <th>id</th>\n",
       "      <th>case_id</th>\n",
       "      <th>party_number</th>\n",
       "      <th>vehicle_type</th>\n",
       "      <th>vehicle_transmission</th>\n",
       "      <th>vehicle_age</th>\n",
       "    </tr>\n",
       "  </thead>\n",
       "  <tbody>\n",
       "    <tr>\n",
       "      <th>0</th>\n",
       "      <td>1175713</td>\n",
       "      <td>5305032</td>\n",
       "      <td>2</td>\n",
       "      <td>sedan</td>\n",
       "      <td>manual</td>\n",
       "      <td>3.0</td>\n",
       "    </tr>\n",
       "    <tr>\n",
       "      <th>1</th>\n",
       "      <td>1</td>\n",
       "      <td>3858022</td>\n",
       "      <td>1</td>\n",
       "      <td>sedan</td>\n",
       "      <td>auto</td>\n",
       "      <td>3.0</td>\n",
       "    </tr>\n",
       "    <tr>\n",
       "      <th>2</th>\n",
       "      <td>1175712</td>\n",
       "      <td>5305030</td>\n",
       "      <td>1</td>\n",
       "      <td>sedan</td>\n",
       "      <td>auto</td>\n",
       "      <td>3.0</td>\n",
       "    </tr>\n",
       "  </tbody>\n",
       "</table>\n",
       "</div>"
      ],
      "text/plain": [
       "        id  case_id  party_number vehicle_type vehicle_transmission  \\\n",
       "0  1175713  5305032             2        sedan               manual   \n",
       "1        1  3858022             1        sedan                 auto   \n",
       "2  1175712  5305030             1        sedan                 auto   \n",
       "\n",
       "   vehicle_age  \n",
       "0          3.0  \n",
       "1          3.0  \n",
       "2          3.0  "
      ]
     },
     "metadata": {},
     "output_type": "display_data"
    },
    {
     "name": "stdout",
     "output_type": "stream",
     "text": [
      "<class 'pandas.core.frame.DataFrame'>\n",
      "RangeIndex: 1021234 entries, 0 to 1021233\n",
      "Data columns (total 6 columns):\n",
      " #   Column                Non-Null Count    Dtype  \n",
      "---  ------                --------------    -----  \n",
      " 0   id                    1021234 non-null  int64  \n",
      " 1   case_id               1021234 non-null  object \n",
      " 2   party_number          1021234 non-null  int64  \n",
      " 3   vehicle_type          1021234 non-null  object \n",
      " 4   vehicle_transmission  997575 non-null   object \n",
      " 5   vehicle_age           996652 non-null   float64\n",
      "dtypes: float64(1), int64(2), object(3)\n",
      "memory usage: 46.7+ MB\n"
     ]
    },
    {
     "data": {
      "text/plain": [
       "None"
      ]
     },
     "metadata": {},
     "output_type": "display_data"
    }
   ],
   "source": [
    "display(df_vehicless.head(3))\n",
    "display(df_vehicless.info())"
   ]
  },
  {
   "cell_type": "markdown",
   "id": "9a434872",
   "metadata": {},
   "source": [
    "Краткое описание таблиц:\n",
    "- collisions — общая информация о ДТП. Имеет уникальный case_id. Эта таблица описывает общую информацию о ДТП. Например, где оно произошло и когда;\n",
    "- parties — информация об участниках ДТП. Имеет неуникальный case_id, который сопоставляется с соответствующим ДТП в таблице collisions. Каждая строка здесь описывает одну из сторон, участвующих в ДТП. Если столкнулись две машины, в этой таблице должно быть две строки с совпадением case_id. Если нужен уникальный идентификатор, это case_id and party_number;\n",
    "- vehicles — информация о пострадавших машинах. Имеет неуникальные case_id и неуникальные party_number, которые сопоставляются с таблицей collisions и таблицей parties. Если нужен уникальный идентификатор, это case_id and party_number.\n",
    "\n",
    "У всех таблиц есть общий ключ для связи."
   ]
  },
  {
   "cell_type": "markdown",
   "id": "fd21f9fd",
   "metadata": {},
   "source": [
    "##  Проведие статистического анализ факторов ДТП"
   ]
  },
  {
   "cell_type": "markdown",
   "id": "c206b94c",
   "metadata": {},
   "source": [
    "### Количество аварий по месяцам"
   ]
  },
  {
   "cell_type": "code",
   "execution_count": 57,
   "id": "1aafe05d",
   "metadata": {},
   "outputs": [],
   "source": [
    "query = '''\n",
    "SELECT EXTRACT(YEAR FROM collision_date) AS year_collision,\n",
    "       EXTRACT(MONTH FROM collision_date) AS month_collision,\n",
    "       COUNT(case_id) AS count_collision\n",
    "FROM collisions\n",
    "GROUP BY 1, 2\n",
    "ORDER BY 1, 3 DESC\n",
    "'''\n",
    "collisions_count = pd.read_sql_query(query, con=engine) "
   ]
  },
  {
   "cell_type": "code",
   "execution_count": 60,
   "id": "c6f43b1f",
   "metadata": {},
   "outputs": [
    {
     "data": {
      "text/html": [
       "<div>\n",
       "<style scoped>\n",
       "    .dataframe tbody tr th:only-of-type {\n",
       "        vertical-align: middle;\n",
       "    }\n",
       "\n",
       "    .dataframe tbody tr th {\n",
       "        vertical-align: top;\n",
       "    }\n",
       "\n",
       "    .dataframe thead th {\n",
       "        text-align: right;\n",
       "    }\n",
       "</style>\n",
       "<table border=\"1\" class=\"dataframe\">\n",
       "  <thead>\n",
       "    <tr style=\"text-align: right;\">\n",
       "      <th></th>\n",
       "      <th>year_collision</th>\n",
       "      <th>month_collision</th>\n",
       "      <th>count_collision</th>\n",
       "    </tr>\n",
       "  </thead>\n",
       "  <tbody>\n",
       "    <tr>\n",
       "      <th>0</th>\n",
       "      <td>2009.0</td>\n",
       "      <td>10.0</td>\n",
       "      <td>37835</td>\n",
       "    </tr>\n",
       "    <tr>\n",
       "      <th>1</th>\n",
       "      <td>2009.0</td>\n",
       "      <td>5.0</td>\n",
       "      <td>36916</td>\n",
       "    </tr>\n",
       "    <tr>\n",
       "      <th>2</th>\n",
       "      <td>2009.0</td>\n",
       "      <td>3.0</td>\n",
       "      <td>36648</td>\n",
       "    </tr>\n",
       "  </tbody>\n",
       "</table>\n",
       "</div>"
      ],
      "text/plain": [
       "   year_collision  month_collision  count_collision\n",
       "0          2009.0             10.0            37835\n",
       "1          2009.0              5.0            36916\n",
       "2          2009.0              3.0            36648"
      ]
     },
     "execution_count": 60,
     "metadata": {},
     "output_type": "execute_result"
    }
   ],
   "source": [
    "collisions_count.head(3)"
   ]
  },
  {
   "cell_type": "code",
   "execution_count": 61,
   "id": "0f0e4961",
   "metadata": {
    "scrolled": false
   },
   "outputs": [
    {
     "data": {
      "image/png": "[encoded data removed]",
      "text/plain": [
       "<Figure size 1296x576 with 1 Axes>"
      ]
     },
     "metadata": {
      "needs_background": "light"
     },
     "output_type": "display_data"
    }
   ],
   "source": [
    "fig, ax = plt.subplots(figsize=(18, 8))\n",
    "sns.barplot(data = collisions_count, x='month_collision', y='count_collision', hue='year_collision')\n",
    "plt.title('Количество аварий в месяц')\n",
    "plt.xlabel('Месяц')\n",
    "plt.ylabel('Количество аварий')\n",
    "plt.show()"
   ]
  },
  {
   "cell_type": "markdown",
   "id": "e793e520",
   "metadata": {},
   "source": [
    "Наибольшее количество ДТП за 2009-20011 приходится на октябрь, декабрь и март месяц. В 2012 году с июня месяца обнаружено снижение количества ДТП с 25000-33000 до 200-3000. Возникает вопрос о причинах отсутсвия данных, так как вряд ли так может снизиться аварийность."
   ]
  },
  {
   "cell_type": "markdown",
   "id": "18dc3df1",
   "metadata": {},
   "source": [
    "### Аналитические задачи:\n",
    "- провести анализ серьёзности повреждений транспортного средства, исходя из состояния дороги в момент ДТП (связать collisions и parties);\n",
    "- проанадизировать самые частые причины ДТП (таблица parties);\n",
    "- изучить трезвость участников ДТП и оценить его влияние на виновность участника;\n",
    "- изучить серьезность повреждений ТС в зависимости от трезвости участника;\n",
    "- провести анализ зависимости ДТП и погоды;\n",
    "- Выявить типы КПП и возраст автомобилей, и ценить их влияние на ДТП."
   ]
  },
  {
   "cell_type": "markdown",
   "id": "a0d84230",
   "metadata": {},
   "source": [
    "### Анализ серьёзности повреждений транспортного средства, исходя из состояния дороги в момент ДТП"
   ]
  },
  {
   "cell_type": "code",
   "execution_count": 62,
   "id": "95a34df3",
   "metadata": {},
   "outputs": [
    {
     "data": {
      "text/html": [
       "<div>\n",
       "<style scoped>\n",
       "    .dataframe tbody tr th:only-of-type {\n",
       "        vertical-align: middle;\n",
       "    }\n",
       "\n",
       "    .dataframe tbody tr th {\n",
       "        vertical-align: top;\n",
       "    }\n",
       "\n",
       "    .dataframe thead th {\n",
       "        text-align: right;\n",
       "    }\n",
       "</style>\n",
       "<table border=\"1\" class=\"dataframe\">\n",
       "  <thead>\n",
       "    <tr style=\"text-align: right;\">\n",
       "      <th></th>\n",
       "      <th>collision_damage</th>\n",
       "      <th>road_surface</th>\n",
       "      <th>count</th>\n",
       "    </tr>\n",
       "  </thead>\n",
       "  <tbody>\n",
       "    <tr>\n",
       "      <th>0</th>\n",
       "      <td>fatal</td>\n",
       "      <td>dry</td>\n",
       "      <td>9823</td>\n",
       "    </tr>\n",
       "    <tr>\n",
       "      <th>1</th>\n",
       "      <td>fatal</td>\n",
       "      <td>wet</td>\n",
       "      <td>857</td>\n",
       "    </tr>\n",
       "    <tr>\n",
       "      <th>2</th>\n",
       "      <td>fatal</td>\n",
       "      <td>None</td>\n",
       "      <td>55</td>\n",
       "    </tr>\n",
       "    <tr>\n",
       "      <th>3</th>\n",
       "      <td>fatal</td>\n",
       "      <td>snowy</td>\n",
       "      <td>46</td>\n",
       "    </tr>\n",
       "    <tr>\n",
       "      <th>4</th>\n",
       "      <td>fatal</td>\n",
       "      <td>slippery</td>\n",
       "      <td>12</td>\n",
       "    </tr>\n",
       "  </tbody>\n",
       "</table>\n",
       "</div>"
      ],
      "text/plain": [
       "  collision_damage road_surface  count\n",
       "0            fatal          dry   9823\n",
       "1            fatal          wet    857\n",
       "2            fatal         None     55\n",
       "3            fatal        snowy     46\n",
       "4            fatal     slippery     12"
      ]
     },
     "execution_count": 62,
     "metadata": {},
     "output_type": "execute_result"
    }
   ],
   "source": [
    "query = '''\n",
    "SELECT collision_damage,\n",
    "       road_surface AS road_surface,\n",
    "       COUNT(collision_damage)  \n",
    "FROM collisions\n",
    "GROUP BY 1, 2\n",
    "ORDER BY 1, 3 DESC\n",
    "'''\n",
    "road_surface = pd.read_sql_query(query, con=engine)\n",
    "road_surface.head()"
   ]
  },
  {
   "cell_type": "code",
   "execution_count": 64,
   "id": "4ca03fd4",
   "metadata": {},
   "outputs": [
    {
     "data": {
      "image/png": "[encoded data removed]",
      "text/plain": [
       "<Figure size 1080x576 with 1 Axes>"
      ]
     },
     "metadata": {
      "needs_background": "light"
     },
     "output_type": "display_data"
    }
   ],
   "source": [
    "fig, ax = plt.subplots(figsize=(15, 8))\n",
    "sns.barplot(\n",
    "    x='collision_damage', \n",
    "    y='count', \n",
    "    hue='road_surface', \n",
    "    ci=None,\n",
    "    order=['scratch', 'small damage', 'middle damage', 'severe damage', 'fatal'],\n",
    "    data=road_surface\n",
    ")\n",
    "plt.title('Количество повреждений транспортных средств, исходя из состояния дороги')\n",
    "plt.xlabel('Серьезность повреждений')\n",
    "plt.ylabel('Количество повреждений')\n",
    "plt.show()"
   ]
  },
  {
   "cell_type": "markdown",
   "id": "11ad0671",
   "metadata": {},
   "source": [
    "Наибольшее количество ДТП происходит на сухой дороге. Также много ДТП происходит на сырой дороге. Больше всего повреждений - это небольшие повреждения и царапины, как на сухой дороге, так и на мокрой."
   ]
  },
  {
   "cell_type": "code",
   "execution_count": 65,
   "id": "2e0d1411",
   "metadata": {
    "scrolled": true
   },
   "outputs": [
    {
     "data": {
      "text/html": [
       "<div>\n",
       "<style scoped>\n",
       "    .dataframe tbody tr th:only-of-type {\n",
       "        vertical-align: middle;\n",
       "    }\n",
       "\n",
       "    .dataframe tbody tr th {\n",
       "        vertical-align: top;\n",
       "    }\n",
       "\n",
       "    .dataframe thead th {\n",
       "        text-align: right;\n",
       "    }\n",
       "</style>\n",
       "<table border=\"1\" class=\"dataframe\">\n",
       "  <thead>\n",
       "    <tr style=\"text-align: right;\">\n",
       "      <th></th>\n",
       "      <th>collision_damage</th>\n",
       "      <th>road_condition</th>\n",
       "      <th>count</th>\n",
       "    </tr>\n",
       "  </thead>\n",
       "  <tbody>\n",
       "    <tr>\n",
       "      <th>0</th>\n",
       "      <td>fatal</td>\n",
       "      <td>construction</td>\n",
       "      <td>174</td>\n",
       "    </tr>\n",
       "    <tr>\n",
       "      <th>1</th>\n",
       "      <td>fatal</td>\n",
       "      <td>other</td>\n",
       "      <td>54</td>\n",
       "    </tr>\n",
       "    <tr>\n",
       "      <th>2</th>\n",
       "      <td>fatal</td>\n",
       "      <td>obstruction</td>\n",
       "      <td>49</td>\n",
       "    </tr>\n",
       "    <tr>\n",
       "      <th>3</th>\n",
       "      <td>fatal</td>\n",
       "      <td>loose material</td>\n",
       "      <td>34</td>\n",
       "    </tr>\n",
       "    <tr>\n",
       "      <th>4</th>\n",
       "      <td>fatal</td>\n",
       "      <td>holes</td>\n",
       "      <td>23</td>\n",
       "    </tr>\n",
       "  </tbody>\n",
       "</table>\n",
       "</div>"
      ],
      "text/plain": [
       "  collision_damage  road_condition  count\n",
       "0            fatal    construction    174\n",
       "1            fatal           other     54\n",
       "2            fatal     obstruction     49\n",
       "3            fatal  loose material     34\n",
       "4            fatal           holes     23"
      ]
     },
     "execution_count": 65,
     "metadata": {},
     "output_type": "execute_result"
    }
   ],
   "source": [
    "query = '''\n",
    "SELECT collision_damage,\n",
    "       road_condition_1 AS road_condition,\n",
    "       COUNT(collision_damage)  \n",
    "FROM collisions\n",
    "WHERE road_condition_1 != 'normal'\n",
    "GROUP BY 1, 2\n",
    "ORDER BY 1, 3 DESC\n",
    "'''\n",
    "road_collisions = pd.read_sql_query(query, con=engine)\n",
    "road_collisions.head()"
   ]
  },
  {
   "cell_type": "code",
   "execution_count": 66,
   "id": "7ff40715",
   "metadata": {
    "scrolled": false
   },
   "outputs": [
    {
     "data": {
      "image/png": "[encoded data removed]",
      "text/plain": [
       "<Figure size 1080x576 with 1 Axes>"
      ]
     },
     "metadata": {
      "needs_background": "light"
     },
     "output_type": "display_data"
    }
   ],
   "source": [
    "fig, ax = plt.subplots(figsize=(15, 8))\n",
    "sns.barplot(\n",
    "    x='collision_damage', \n",
    "    y='count', \n",
    "    hue=\"road_condition\", \n",
    "    ci=None,\n",
    "    order=['scratch', 'small damage', 'middle damage', 'severe damage', 'fatal'],\n",
    "    data=road_collisions\n",
    ")\n",
    "plt.title('Количество повреждений транспортных средств, исходя из дорожного состояния')\n",
    "plt.xlabel('Серьезность повреждений')\n",
    "plt.ylabel('Количество повреждений')\n",
    "plt.show()"
   ]
  },
  {
   "cell_type": "markdown",
   "id": "70ec754b",
   "metadata": {},
   "source": [
    "Ненадлежащее состояние дорог является частой причиной ДТП. Так, строительство, препятствие на дороге и отверстия приводят к ДТП, которые повлекли такие повреждения, как царапины, небольшие и средние вореждения машин."
   ]
  },
  {
   "cell_type": "code",
   "execution_count": 67,
   "id": "13b65cfb",
   "metadata": {},
   "outputs": [
    {
     "data": {
      "text/html": [
       "<div>\n",
       "<style scoped>\n",
       "    .dataframe tbody tr th:only-of-type {\n",
       "        vertical-align: middle;\n",
       "    }\n",
       "\n",
       "    .dataframe tbody tr th {\n",
       "        vertical-align: top;\n",
       "    }\n",
       "\n",
       "    .dataframe thead th {\n",
       "        text-align: right;\n",
       "    }\n",
       "</style>\n",
       "<table border=\"1\" class=\"dataframe\">\n",
       "  <thead>\n",
       "    <tr style=\"text-align: right;\">\n",
       "      <th></th>\n",
       "      <th>collision_damage</th>\n",
       "      <th>count</th>\n",
       "    </tr>\n",
       "  </thead>\n",
       "  <tbody>\n",
       "    <tr>\n",
       "      <th>0</th>\n",
       "      <td>small damage</td>\n",
       "      <td>812420</td>\n",
       "    </tr>\n",
       "    <tr>\n",
       "      <th>1</th>\n",
       "      <td>scratch</td>\n",
       "      <td>333996</td>\n",
       "    </tr>\n",
       "    <tr>\n",
       "      <th>2</th>\n",
       "      <td>middle damage</td>\n",
       "      <td>160428</td>\n",
       "    </tr>\n",
       "    <tr>\n",
       "      <th>3</th>\n",
       "      <td>severe damage</td>\n",
       "      <td>29439</td>\n",
       "    </tr>\n",
       "    <tr>\n",
       "      <th>4</th>\n",
       "      <td>fatal</td>\n",
       "      <td>10372</td>\n",
       "    </tr>\n",
       "  </tbody>\n",
       "</table>\n",
       "</div>"
      ],
      "text/plain": [
       "  collision_damage   count\n",
       "0     small damage  812420\n",
       "1          scratch  333996\n",
       "2    middle damage  160428\n",
       "3    severe damage   29439\n",
       "4            fatal   10372"
      ]
     },
     "execution_count": 67,
     "metadata": {},
     "output_type": "execute_result"
    }
   ],
   "source": [
    "query = '''\n",
    "SELECT collision_damage,\n",
    "       COUNT(collision_damage)  \n",
    "FROM collisions\n",
    "WHERE road_condition_1 = 'normal'\n",
    "GROUP BY 1\n",
    "ORDER BY 2 DESC\n",
    "'''\n",
    "road_collisions_nornal = pd.read_sql_query(query, con=engine)\n",
    "road_collisions_nornal.head()"
   ]
  },
  {
   "cell_type": "code",
   "execution_count": 68,
   "id": "54995635",
   "metadata": {
    "scrolled": false
   },
   "outputs": [
    {
     "data": {
      "image/png": "[encoded data removed]",
      "text/plain": [
       "<Figure size 1080x432 with 1 Axes>"
      ]
     },
     "metadata": {
      "needs_background": "light"
     },
     "output_type": "display_data"
    }
   ],
   "source": [
    "fig, ax = plt.subplots(figsize=(15, 6))\n",
    "sns.barplot(\n",
    "    x='collision_damage', \n",
    "    y='count', \n",
    "    ci=None,\n",
    "    order=['scratch', 'small damage', 'middle damage', 'severe damage', 'fatal'],\n",
    "    data=road_collisions_nornal\n",
    ")\n",
    "plt.title('Количество повреждений транспортных средств, исходя из нормального дорожного состояния')\n",
    "plt.xlabel('Серьезность повреждений')\n",
    "plt.ylabel('Количество повреждений')\n",
    "plt.show()"
   ]
  },
  {
   "cell_type": "markdown",
   "id": "45f30386",
   "metadata": {},
   "source": [
    "При нормальном сотоянии дорожного покрытия чаще всего происходят ДТП небольшой тяжести, а без повреждения ТС (царапины)."
   ]
  },
  {
   "cell_type": "markdown",
   "id": "52b17b61",
   "metadata": {},
   "source": [
    "### Самые частые причины ДТП"
   ]
  },
  {
   "cell_type": "code",
   "execution_count": 69,
   "id": "e6c2b8eb",
   "metadata": {},
   "outputs": [
    {
     "data": {
      "text/html": [
       "<div>\n",
       "<style scoped>\n",
       "    .dataframe tbody tr th:only-of-type {\n",
       "        vertical-align: middle;\n",
       "    }\n",
       "\n",
       "    .dataframe tbody tr th {\n",
       "        vertical-align: top;\n",
       "    }\n",
       "\n",
       "    .dataframe thead th {\n",
       "        text-align: right;\n",
       "    }\n",
       "</style>\n",
       "<table border=\"1\" class=\"dataframe\">\n",
       "  <thead>\n",
       "    <tr style=\"text-align: right;\">\n",
       "      <th></th>\n",
       "      <th>primary_collision_factor</th>\n",
       "      <th>count_collision_factor</th>\n",
       "    </tr>\n",
       "  </thead>\n",
       "  <tbody>\n",
       "    <tr>\n",
       "      <th>0</th>\n",
       "      <td>vehicle code violation</td>\n",
       "      <td>1316453</td>\n",
       "    </tr>\n",
       "    <tr>\n",
       "      <th>1</th>\n",
       "      <td>other than driver</td>\n",
       "      <td>29780</td>\n",
       "    </tr>\n",
       "    <tr>\n",
       "      <th>2</th>\n",
       "      <td>other improper driving</td>\n",
       "      <td>8470</td>\n",
       "    </tr>\n",
       "    <tr>\n",
       "      <th>3</th>\n",
       "      <td>fell asleep</td>\n",
       "      <td>117</td>\n",
       "    </tr>\n",
       "  </tbody>\n",
       "</table>\n",
       "</div>"
      ],
      "text/plain": [
       "  primary_collision_factor  count_collision_factor\n",
       "0   vehicle code violation                 1316453\n",
       "1        other than driver                   29780\n",
       "2   other improper driving                    8470\n",
       "3              fell asleep                     117"
      ]
     },
     "execution_count": 69,
     "metadata": {},
     "output_type": "execute_result"
    }
   ],
   "source": [
    "query = '''\n",
    "SELECT primary_collision_factor,\n",
    "       COUNT(primary_collision_factor) count_collision_factor\n",
    "FROM collisions\n",
    "WHERE primary_collision_factor != 'unknown' \n",
    "GROUP BY 1\n",
    "ORDER BY 2 DESC\n",
    "'''\n",
    "collisions_reasons = pd.read_sql_query(query, con=engine)\n",
    "collisions_reasons"
   ]
  },
  {
   "cell_type": "code",
   "execution_count": 70,
   "id": "c1b41574",
   "metadata": {},
   "outputs": [
    {
     "data": {
      "text/html": [
       "<div>\n",
       "<style scoped>\n",
       "    .dataframe tbody tr th:only-of-type {\n",
       "        vertical-align: middle;\n",
       "    }\n",
       "\n",
       "    .dataframe tbody tr th {\n",
       "        vertical-align: top;\n",
       "    }\n",
       "\n",
       "    .dataframe thead th {\n",
       "        text-align: right;\n",
       "    }\n",
       "</style>\n",
       "<table border=\"1\" class=\"dataframe\">\n",
       "  <thead>\n",
       "    <tr style=\"text-align: right;\">\n",
       "      <th></th>\n",
       "      <th>pcf_violation_category</th>\n",
       "      <th>count_collision_factor</th>\n",
       "    </tr>\n",
       "  </thead>\n",
       "  <tbody>\n",
       "    <tr>\n",
       "      <th>0</th>\n",
       "      <td>speeding</td>\n",
       "      <td>438439</td>\n",
       "    </tr>\n",
       "    <tr>\n",
       "      <th>1</th>\n",
       "      <td>improper turning</td>\n",
       "      <td>238987</td>\n",
       "    </tr>\n",
       "    <tr>\n",
       "      <th>2</th>\n",
       "      <td>automobile right of way</td>\n",
       "      <td>158291</td>\n",
       "    </tr>\n",
       "    <tr>\n",
       "      <th>3</th>\n",
       "      <td>dui</td>\n",
       "      <td>110476</td>\n",
       "    </tr>\n",
       "    <tr>\n",
       "      <th>4</th>\n",
       "      <td>unsafe lane change</td>\n",
       "      <td>93962</td>\n",
       "    </tr>\n",
       "    <tr>\n",
       "      <th>5</th>\n",
       "      <td>traffic signals and signs</td>\n",
       "      <td>72751</td>\n",
       "    </tr>\n",
       "    <tr>\n",
       "      <th>6</th>\n",
       "      <td>unsafe starting or backing</td>\n",
       "      <td>55674</td>\n",
       "    </tr>\n",
       "    <tr>\n",
       "      <th>7</th>\n",
       "      <td>unknown</td>\n",
       "      <td>39558</td>\n",
       "    </tr>\n",
       "    <tr>\n",
       "      <th>8</th>\n",
       "      <td>wrong side of road</td>\n",
       "      <td>33631</td>\n",
       "    </tr>\n",
       "    <tr>\n",
       "      <th>9</th>\n",
       "      <td>following too closely</td>\n",
       "      <td>30033</td>\n",
       "    </tr>\n",
       "    <tr>\n",
       "      <th>10</th>\n",
       "      <td>other than driver (or pedestrian)</td>\n",
       "      <td>29780</td>\n",
       "    </tr>\n",
       "    <tr>\n",
       "      <th>11</th>\n",
       "      <td>pedestrian right of way</td>\n",
       "      <td>15739</td>\n",
       "    </tr>\n",
       "    <tr>\n",
       "      <th>12</th>\n",
       "      <td>pedestrian violation</td>\n",
       "      <td>15392</td>\n",
       "    </tr>\n",
       "    <tr>\n",
       "      <th>13</th>\n",
       "      <td>other hazardous violation</td>\n",
       "      <td>13851</td>\n",
       "    </tr>\n",
       "    <tr>\n",
       "      <th>14</th>\n",
       "      <td>improper passing</td>\n",
       "      <td>12136</td>\n",
       "    </tr>\n",
       "    <tr>\n",
       "      <th>15</th>\n",
       "      <td>other improper driving</td>\n",
       "      <td>8470</td>\n",
       "    </tr>\n",
       "    <tr>\n",
       "      <th>16</th>\n",
       "      <td>other equipment</td>\n",
       "      <td>1747</td>\n",
       "    </tr>\n",
       "    <tr>\n",
       "      <th>17</th>\n",
       "      <td>hazardous parking</td>\n",
       "      <td>1746</td>\n",
       "    </tr>\n",
       "    <tr>\n",
       "      <th>18</th>\n",
       "      <td>impeding traffic</td>\n",
       "      <td>752</td>\n",
       "    </tr>\n",
       "    <tr>\n",
       "      <th>19</th>\n",
       "      <td>brakes</td>\n",
       "      <td>303</td>\n",
       "    </tr>\n",
       "    <tr>\n",
       "      <th>20</th>\n",
       "      <td>lights</td>\n",
       "      <td>209</td>\n",
       "    </tr>\n",
       "    <tr>\n",
       "      <th>21</th>\n",
       "      <td>fell asleep</td>\n",
       "      <td>117</td>\n",
       "    </tr>\n",
       "    <tr>\n",
       "      <th>22</th>\n",
       "      <td>pedestrian dui</td>\n",
       "      <td>2</td>\n",
       "    </tr>\n",
       "    <tr>\n",
       "      <th>23</th>\n",
       "      <td>None</td>\n",
       "      <td>0</td>\n",
       "    </tr>\n",
       "  </tbody>\n",
       "</table>\n",
       "</div>"
      ],
      "text/plain": [
       "               pcf_violation_category  count_collision_factor\n",
       "0                            speeding                  438439\n",
       "1                    improper turning                  238987\n",
       "2             automobile right of way                  158291\n",
       "3                                 dui                  110476\n",
       "4                  unsafe lane change                   93962\n",
       "5           traffic signals and signs                   72751\n",
       "6          unsafe starting or backing                   55674\n",
       "7                             unknown                   39558\n",
       "8                  wrong side of road                   33631\n",
       "9               following too closely                   30033\n",
       "10  other than driver (or pedestrian)                   29780\n",
       "11            pedestrian right of way                   15739\n",
       "12               pedestrian violation                   15392\n",
       "13          other hazardous violation                   13851\n",
       "14                   improper passing                   12136\n",
       "15             other improper driving                    8470\n",
       "16                    other equipment                    1747\n",
       "17                  hazardous parking                    1746\n",
       "18                   impeding traffic                     752\n",
       "19                             brakes                     303\n",
       "20                             lights                     209\n",
       "21                        fell asleep                     117\n",
       "22                     pedestrian dui                       2\n",
       "23                               None                       0"
      ]
     },
     "execution_count": 70,
     "metadata": {},
     "output_type": "execute_result"
    }
   ],
   "source": [
    "query = '''\n",
    "SELECT PCF_VIOLATION_CATEGORY,\n",
    "       COUNT(PCF_VIOLATION_CATEGORY) AS count_collision_factor\n",
    "FROM collisions\n",
    "GROUP BY 1\n",
    "ORDER BY 2 DESC\n",
    "'''\n",
    "collisions_category = pd.read_sql_query(query, con=engine)\n",
    "collisions_category"
   ]
  },
  {
   "cell_type": "code",
   "execution_count": 71,
   "id": "2d5e597f",
   "metadata": {
    "scrolled": false
   },
   "outputs": [
    {
     "data": {
      "image/png": "[encoded data removed]",
      "text/plain": [
       "<Figure size 1080x432 with 1 Axes>"
      ]
     },
     "metadata": {
      "needs_background": "light"
     },
     "output_type": "display_data"
    }
   ],
   "source": [
    "fig, ax = plt.subplots(figsize=(15, 6))\n",
    "sns.barplot(\n",
    "    x='count_collision_factor', \n",
    "    y='pcf_violation_category', \n",
    "    ci=None,\n",
    "    data=collisions_category\n",
    ")\n",
    "plt.title('Причины ДТП')\n",
    "plt.xlabel('Количество ДТП')\n",
    "plt.ylabel('Категория нарушения')\n",
    "plt.show()"
   ]
  },
  {
   "cell_type": "markdown",
   "id": "fbcf1dbc",
   "metadata": {},
   "source": [
    "Основные причины ДТП - нарушение скоростного режима (438 тыс.), поворот в неустановленном месте (238 тыс.), непредоставление преимущества (158 тыс.) и управление в состоянии опьянения (110 тыс.)."
   ]
  },
  {
   "cell_type": "markdown",
   "id": "63ceb692",
   "metadata": {},
   "source": [
    "## Создание модели для оценки водительского риска"
   ]
  },
  {
   "cell_type": "markdown",
   "id": "eda2601f",
   "metadata": {},
   "source": [
    "Для создания модели нам понадобятся следующие признаки:\n",
    "- **таблица collisions**: \n",
    " - intersection (является ли место происшествия перекрестком)\n",
    " - weather_1 (погода)\n",
    " - road_surface (состояние дороги)\n",
    " - lighting (освещение)\n",
    " - location_type (тип дороги)\n",
    " - road_condition_1 (состояние дорожного покрытия)\n",
    "- **таблица parties**:\n",
    "  - at_fault (виновность участника) - целевой признак\n",
    "  - party_sobriety (трезвость участника\n",
    "  - party_drug_physical (состояние участника: физическое или с учётом принятых лекарств)\n",
    "  - cellphone_in_use (наличие телефона в автомобиле - возможности разговаривать по громкой связи)\n",
    "- **таблица vehicles**:\n",
    "  - vehicle_type (тип кузова)\n",
    "  - vehicle_transmission (тип КПП)\n",
    "  - vehicle_age (возраст автомобиля)\n",
    "\n",
    "Все эти признаки важны, так как отражают и объективные причины ДТП (состояние дороги и транспортного средства), и субъективные - состояние участника ДТП."
   ]
  },
  {
   "cell_type": "markdown",
   "id": "b5104016",
   "metadata": {},
   "source": [
    "### Подготовка данных"
   ]
  },
  {
   "cell_type": "code",
   "execution_count": 72,
   "id": "46ca71ae",
   "metadata": {},
   "outputs": [],
   "source": [
    "query = '''\n",
    "with \n",
    "c AS (SELECT case_id,\n",
    "             intersection,\n",
    "             weather_1,\n",
    "             road_surface,\n",
    "             lighting,\n",
    "             location_type,\n",
    "             road_condition_1\n",
    "      FROM collisions\n",
    "      WHERE EXTRACT(YEAR FROM collision_date) = 2012\n",
    "            AND collision_damage != 'scratch'),\n",
    "p AS (SELECT case_id,\n",
    "             at_fault,\n",
    "             party_sobriety,\n",
    "             party_drug_physical,\n",
    "             cellphone_in_use\n",
    "      FROM parties\n",
    "      WHERE party_type = 'car'),\n",
    "      \n",
    "v AS (SELECT case_id,\n",
    "             vehicle_type,\n",
    "             vehicle_transmission,\n",
    "             vehicle_age\n",
    "       FROM vehicles),\n",
    "       \n",
    "c_i as (SELECT case_id\n",
    "        FROM case_ids)\n",
    "        \n",
    "SELECT  p.at_fault,\n",
    "        p.party_sobriety,\n",
    "        p.party_drug_physical,\n",
    "        p.cellphone_in_use,\n",
    "        c.intersection,\n",
    "        c.weather_1,\n",
    "        c.road_surface,\n",
    "        c.lighting,\n",
    "        c.location_type,\n",
    "        c.road_condition_1,\n",
    "        v.vehicle_type,\n",
    "        v.vehicle_transmission,\n",
    "        v.vehicle_age\n",
    "FROM c_i\n",
    "JOIN c on c_i.case_id = c.case_id\n",
    "JOIN p on c_i.case_id = p.case_id\n",
    "JOIN v on c_i.case_id = v.case_id\n",
    "'''\n",
    "df = pd.read_sql_query(query, con=engine)"
   ]
  },
  {
   "cell_type": "code",
   "execution_count": 73,
   "id": "1409189a",
   "metadata": {},
   "outputs": [
    {
     "data": {
      "text/html": [
       "<div>\n",
       "<style scoped>\n",
       "    .dataframe tbody tr th:only-of-type {\n",
       "        vertical-align: middle;\n",
       "    }\n",
       "\n",
       "    .dataframe tbody tr th {\n",
       "        vertical-align: top;\n",
       "    }\n",
       "\n",
       "    .dataframe thead th {\n",
       "        text-align: right;\n",
       "    }\n",
       "</style>\n",
       "<table border=\"1\" class=\"dataframe\">\n",
       "  <thead>\n",
       "    <tr style=\"text-align: right;\">\n",
       "      <th></th>\n",
       "      <th>at_fault</th>\n",
       "      <th>party_sobriety</th>\n",
       "      <th>party_drug_physical</th>\n",
       "      <th>cellphone_in_use</th>\n",
       "      <th>intersection</th>\n",
       "      <th>weather_1</th>\n",
       "      <th>road_surface</th>\n",
       "      <th>lighting</th>\n",
       "      <th>location_type</th>\n",
       "      <th>road_condition_1</th>\n",
       "      <th>vehicle_type</th>\n",
       "      <th>vehicle_transmission</th>\n",
       "      <th>vehicle_age</th>\n",
       "    </tr>\n",
       "  </thead>\n",
       "  <tbody>\n",
       "    <tr>\n",
       "      <th>0</th>\n",
       "      <td>1</td>\n",
       "      <td>had not been drinking</td>\n",
       "      <td>None</td>\n",
       "      <td>0.0</td>\n",
       "      <td>1.0</td>\n",
       "      <td>cloudy</td>\n",
       "      <td>dry</td>\n",
       "      <td>daylight</td>\n",
       "      <td>None</td>\n",
       "      <td>other</td>\n",
       "      <td>sedan</td>\n",
       "      <td>auto</td>\n",
       "      <td>2.0</td>\n",
       "    </tr>\n",
       "    <tr>\n",
       "      <th>1</th>\n",
       "      <td>0</td>\n",
       "      <td>had not been drinking</td>\n",
       "      <td>None</td>\n",
       "      <td>0.0</td>\n",
       "      <td>1.0</td>\n",
       "      <td>cloudy</td>\n",
       "      <td>dry</td>\n",
       "      <td>daylight</td>\n",
       "      <td>None</td>\n",
       "      <td>other</td>\n",
       "      <td>sedan</td>\n",
       "      <td>auto</td>\n",
       "      <td>2.0</td>\n",
       "    </tr>\n",
       "    <tr>\n",
       "      <th>2</th>\n",
       "      <td>1</td>\n",
       "      <td>had not been drinking</td>\n",
       "      <td>None</td>\n",
       "      <td>0.0</td>\n",
       "      <td>1.0</td>\n",
       "      <td>clear</td>\n",
       "      <td>dry</td>\n",
       "      <td>daylight</td>\n",
       "      <td>None</td>\n",
       "      <td>normal</td>\n",
       "      <td>sedan</td>\n",
       "      <td>auto</td>\n",
       "      <td>5.0</td>\n",
       "    </tr>\n",
       "    <tr>\n",
       "      <th>3</th>\n",
       "      <td>0</td>\n",
       "      <td>had not been drinking</td>\n",
       "      <td>None</td>\n",
       "      <td>0.0</td>\n",
       "      <td>1.0</td>\n",
       "      <td>clear</td>\n",
       "      <td>dry</td>\n",
       "      <td>daylight</td>\n",
       "      <td>None</td>\n",
       "      <td>normal</td>\n",
       "      <td>sedan</td>\n",
       "      <td>auto</td>\n",
       "      <td>5.0</td>\n",
       "    </tr>\n",
       "    <tr>\n",
       "      <th>4</th>\n",
       "      <td>0</td>\n",
       "      <td>had not been drinking</td>\n",
       "      <td>None</td>\n",
       "      <td>0.0</td>\n",
       "      <td>1.0</td>\n",
       "      <td>clear</td>\n",
       "      <td>dry</td>\n",
       "      <td>daylight</td>\n",
       "      <td>None</td>\n",
       "      <td>normal</td>\n",
       "      <td>sedan</td>\n",
       "      <td>auto</td>\n",
       "      <td>1.0</td>\n",
       "    </tr>\n",
       "  </tbody>\n",
       "</table>\n",
       "</div>"
      ],
      "text/plain": [
       "   at_fault         party_sobriety party_drug_physical  cellphone_in_use  \\\n",
       "0         1  had not been drinking                None               0.0   \n",
       "1         0  had not been drinking                None               0.0   \n",
       "2         1  had not been drinking                None               0.0   \n",
       "3         0  had not been drinking                None               0.0   \n",
       "4         0  had not been drinking                None               0.0   \n",
       "\n",
       "   intersection weather_1 road_surface  lighting location_type  \\\n",
       "0           1.0    cloudy          dry  daylight          None   \n",
       "1           1.0    cloudy          dry  daylight          None   \n",
       "2           1.0     clear          dry  daylight          None   \n",
       "3           1.0     clear          dry  daylight          None   \n",
       "4           1.0     clear          dry  daylight          None   \n",
       "\n",
       "  road_condition_1 vehicle_type vehicle_transmission  vehicle_age  \n",
       "0            other        sedan                 auto          2.0  \n",
       "1            other        sedan                 auto          2.0  \n",
       "2           normal        sedan                 auto          5.0  \n",
       "3           normal        sedan                 auto          5.0  \n",
       "4           normal        sedan                 auto          1.0  "
      ]
     },
     "metadata": {},
     "output_type": "display_data"
    },
    {
     "name": "stdout",
     "output_type": "stream",
     "text": [
      "<class 'pandas.core.frame.DataFrame'>\n",
      "RangeIndex: 118411 entries, 0 to 118410\n",
      "Data columns (total 13 columns):\n",
      " #   Column                Non-Null Count   Dtype  \n",
      "---  ------                --------------   -----  \n",
      " 0   at_fault              118411 non-null  int64  \n",
      " 1   party_sobriety        116682 non-null  object \n",
      " 2   party_drug_physical   8695 non-null    object \n",
      " 3   cellphone_in_use      107507 non-null  float64\n",
      " 4   intersection          118043 non-null  float64\n",
      " 5   weather_1             118022 non-null  object \n",
      " 6   road_surface          117645 non-null  object \n",
      " 7   lighting              118080 non-null  object \n",
      " 8   location_type         55137 non-null   object \n",
      " 9   road_condition_1      117843 non-null  object \n",
      " 10  vehicle_type          118411 non-null  object \n",
      " 11  vehicle_transmission  116545 non-null  object \n",
      " 12  vehicle_age           115046 non-null  float64\n",
      "dtypes: float64(3), int64(1), object(9)\n",
      "memory usage: 11.7+ MB\n"
     ]
    },
    {
     "data": {
      "text/plain": [
       "None"
      ]
     },
     "metadata": {},
     "output_type": "display_data"
    }
   ],
   "source": [
    "# Получение общей информации о датафрейме\n",
    "display(df.head(5))\n",
    "display(df.info())"
   ]
  },
  {
   "cell_type": "code",
   "execution_count": 74,
   "id": "21ae5dd1",
   "metadata": {},
   "outputs": [
    {
     "data": {
      "text/plain": [
       "at_fault                     0\n",
       "party_sobriety            1729\n",
       "party_drug_physical     109716\n",
       "cellphone_in_use         10904\n",
       "intersection               368\n",
       "weather_1                  389\n",
       "road_surface               766\n",
       "lighting                   331\n",
       "location_type            63274\n",
       "road_condition_1           568\n",
       "vehicle_type                 0\n",
       "vehicle_transmission      1866\n",
       "vehicle_age               3365\n",
       "dtype: int64"
      ]
     },
     "execution_count": 74,
     "metadata": {},
     "output_type": "execute_result"
    }
   ],
   "source": [
    "# Проверка на наличие пропусков\n",
    "df.isna().sum()"
   ]
  },
  {
   "cell_type": "code",
   "execution_count": 75,
   "id": "37911eaf",
   "metadata": {
    "scrolled": true
   },
   "outputs": [
    {
     "data": {
      "text/plain": [
       "at_fault                0.000000\n",
       "party_sobriety          0.014602\n",
       "party_drug_physical     0.926569\n",
       "cellphone_in_use        0.092086\n",
       "intersection            0.003108\n",
       "weather_1               0.003285\n",
       "road_surface            0.006469\n",
       "lighting                0.002795\n",
       "location_type           0.534359\n",
       "road_condition_1        0.004797\n",
       "vehicle_type            0.000000\n",
       "vehicle_transmission    0.015759\n",
       "vehicle_age             0.028418\n",
       "dtype: float64"
      ]
     },
     "execution_count": 75,
     "metadata": {},
     "output_type": "execute_result"
    }
   ],
   "source": [
    "df.isna().mean()"
   ]
  },
  {
   "cell_type": "markdown",
   "id": "b6c14197",
   "metadata": {},
   "source": [
    "Столбец party_drug_physical мог бы быть полезен, но в нем отсутствует более 90% данных, поэтому особой ценности он не представляет, удалим его."
   ]
  },
  {
   "cell_type": "code",
   "execution_count": 76,
   "id": "0c6d2c36",
   "metadata": {},
   "outputs": [],
   "source": [
    "df = df.drop('party_drug_physical', axis=1)"
   ]
  },
  {
   "cell_type": "code",
   "execution_count": 334,
   "id": "86df5b29",
   "metadata": {
    "scrolled": false
   },
   "outputs": [
    {
     "data": {
      "image/png": "[encoded data removed]",
      "text/plain": [
       "<Figure size 1080x432 with 1 Axes>"
      ]
     },
     "metadata": {
      "needs_background": "light"
     },
     "output_type": "display_data"
    }
   ],
   "source": [
    "# Проверим распределение возраста автомобилей\n",
    "df['vehicle_age'].value_counts().plot(figsize=(15,6), kind='bar')\n",
    "plt.title('Гистограмма распределения возраста автомобиля')\n",
    "plt.xlabel('Возраст автомобиля')\n",
    "plt.ylabel('Количество автомобилей')\n",
    "plt.legend([])\n",
    "plt.show()"
   ]
  },
  {
   "cell_type": "code",
   "execution_count": 335,
   "id": "64e11797",
   "metadata": {},
   "outputs": [],
   "source": [
    "# Заменим значения возраста автомобиля > 15 на 15\n",
    "df.loc[df['vehicle_age'] > 10, 'vehicle_age'] = 10"
   ]
  },
  {
   "cell_type": "code",
   "execution_count": 77,
   "id": "3bc6f0ba",
   "metadata": {
    "scrolled": true
   },
   "outputs": [
    {
     "data": {
      "text/html": [
       "<div>\n",
       "<style scoped>\n",
       "    .dataframe tbody tr th:only-of-type {\n",
       "        vertical-align: middle;\n",
       "    }\n",
       "\n",
       "    .dataframe tbody tr th {\n",
       "        vertical-align: top;\n",
       "    }\n",
       "\n",
       "    .dataframe thead th {\n",
       "        text-align: right;\n",
       "    }\n",
       "</style>\n",
       "<table border=\"1\" class=\"dataframe\">\n",
       "  <thead>\n",
       "    <tr style=\"text-align: right;\">\n",
       "      <th></th>\n",
       "      <th>at_fault</th>\n",
       "      <th>cellphone_in_use</th>\n",
       "      <th>intersection</th>\n",
       "      <th>vehicle_age</th>\n",
       "    </tr>\n",
       "  </thead>\n",
       "  <tbody>\n",
       "    <tr>\n",
       "      <th>count</th>\n",
       "      <td>118411.000000</td>\n",
       "      <td>107507.000000</td>\n",
       "      <td>118043.000000</td>\n",
       "      <td>115046.000000</td>\n",
       "    </tr>\n",
       "    <tr>\n",
       "      <th>mean</th>\n",
       "      <td>0.469686</td>\n",
       "      <td>0.021320</td>\n",
       "      <td>0.234711</td>\n",
       "      <td>4.908263</td>\n",
       "    </tr>\n",
       "    <tr>\n",
       "      <th>std</th>\n",
       "      <td>0.499082</td>\n",
       "      <td>0.144448</td>\n",
       "      <td>0.423820</td>\n",
       "      <td>3.266265</td>\n",
       "    </tr>\n",
       "    <tr>\n",
       "      <th>min</th>\n",
       "      <td>0.000000</td>\n",
       "      <td>0.000000</td>\n",
       "      <td>0.000000</td>\n",
       "      <td>0.000000</td>\n",
       "    </tr>\n",
       "    <tr>\n",
       "      <th>25%</th>\n",
       "      <td>0.000000</td>\n",
       "      <td>0.000000</td>\n",
       "      <td>0.000000</td>\n",
       "      <td>3.000000</td>\n",
       "    </tr>\n",
       "    <tr>\n",
       "      <th>50%</th>\n",
       "      <td>0.000000</td>\n",
       "      <td>0.000000</td>\n",
       "      <td>0.000000</td>\n",
       "      <td>4.000000</td>\n",
       "    </tr>\n",
       "    <tr>\n",
       "      <th>75%</th>\n",
       "      <td>1.000000</td>\n",
       "      <td>0.000000</td>\n",
       "      <td>0.000000</td>\n",
       "      <td>7.000000</td>\n",
       "    </tr>\n",
       "    <tr>\n",
       "      <th>max</th>\n",
       "      <td>1.000000</td>\n",
       "      <td>1.000000</td>\n",
       "      <td>1.000000</td>\n",
       "      <td>161.000000</td>\n",
       "    </tr>\n",
       "  </tbody>\n",
       "</table>\n",
       "</div>"
      ],
      "text/plain": [
       "            at_fault  cellphone_in_use   intersection    vehicle_age\n",
       "count  118411.000000     107507.000000  118043.000000  115046.000000\n",
       "mean        0.469686          0.021320       0.234711       4.908263\n",
       "std         0.499082          0.144448       0.423820       3.266265\n",
       "min         0.000000          0.000000       0.000000       0.000000\n",
       "25%         0.000000          0.000000       0.000000       3.000000\n",
       "50%         0.000000          0.000000       0.000000       4.000000\n",
       "75%         1.000000          0.000000       0.000000       7.000000\n",
       "max         1.000000          1.000000       1.000000     161.000000"
      ]
     },
     "execution_count": 77,
     "metadata": {},
     "output_type": "execute_result"
    }
   ],
   "source": [
    "df.describe()"
   ]
  },
  {
   "cell_type": "code",
   "execution_count": 78,
   "id": "027a3351",
   "metadata": {},
   "outputs": [],
   "source": [
    "# Заменим пропуски в числовых данных на значение медианы\n",
    "df = df.fillna(df[{'vehicle_age','cellphone_in_use','intersection'}].median())"
   ]
  },
  {
   "cell_type": "code",
   "execution_count": 79,
   "id": "26abc4bf",
   "metadata": {
    "scrolled": true
   },
   "outputs": [
    {
     "data": {
      "text/plain": [
       "at_fault                    0\n",
       "party_sobriety           1729\n",
       "cellphone_in_use            0\n",
       "intersection                0\n",
       "weather_1                 389\n",
       "road_surface              766\n",
       "lighting                  331\n",
       "location_type           63274\n",
       "road_condition_1          568\n",
       "vehicle_type                0\n",
       "vehicle_transmission     1866\n",
       "vehicle_age                 0\n",
       "dtype: int64"
      ]
     },
     "execution_count": 79,
     "metadata": {},
     "output_type": "execute_result"
    }
   ],
   "source": [
    "df.isna().sum()"
   ]
  },
  {
   "cell_type": "code",
   "execution_count": 80,
   "id": "b347e3f6",
   "metadata": {
    "scrolled": false
   },
   "outputs": [
    {
     "data": {
      "image/png": "[encoded data removed]",
      "text/plain": [
       "<Figure size 432x288 with 1 Axes>"
      ]
     },
     "metadata": {
      "needs_background": "light"
     },
     "output_type": "display_data"
    }
   ],
   "source": [
    "# Посмотрим на распределение значений столбца location_type\n",
    "df['location_type'].value_counts().plot(figsize=(6,4), kind='bar')\n",
    "plt.title('Гистограмма распределения типа дороги')\n",
    "plt.xlabel('Тип дороги')\n",
    "plt.ylabel('Количество')\n",
    "plt.legend([])\n",
    "plt.show()"
   ]
  },
  {
   "cell_type": "code",
   "execution_count": 81,
   "id": "8fd20dab",
   "metadata": {},
   "outputs": [
    {
     "data": {
      "image/png": "[encoded data removed]",
      "text/plain": [
       "<Figure size 432x288 with 1 Axes>"
      ]
     },
     "metadata": {
      "needs_background": "light"
     },
     "output_type": "display_data"
    }
   ],
   "source": [
    "# Посмотрим на распределение значений столбца location_type\n",
    "df['party_sobriety'].value_counts().plot(figsize=(6,4), kind='bar')\n",
    "plt.title('Гистограмма распределения трезвости участника')\n",
    "plt.xlabel('Трезвость участника')\n",
    "plt.ylabel('Количество')\n",
    "plt.legend([])\n",
    "plt.show()"
   ]
  },
  {
   "cell_type": "markdown",
   "id": "aa6383ae",
   "metadata": {},
   "source": [
    "Заменим пропуски в столбце 'party_sobriety', 'weather_1', 'road_surface', 'lighting', 'road_condition_1', 'vehicle_transmission' значениями с такой же вероятностью."
   ]
  },
  {
   "cell_type": "code",
   "execution_count": 82,
   "id": "d7420859",
   "metadata": {
    "scrolled": true
   },
   "outputs": [],
   "source": [
    "for i in df[['location_type', 'party_sobriety', 'weather_1', 'road_surface', 'lighting', 'road_condition_1', 'vehicle_transmission']]:\n",
    "    mask = df[i].isna()\n",
    "    p = df[i].value_counts() / len(df[i].dropna())\n",
    "    df.loc[mask, i] = np.random.choice(p.index.to_list(), size=mask.sum(), p=p.to_list())"
   ]
  },
  {
   "cell_type": "code",
   "execution_count": 83,
   "id": "c16635ad",
   "metadata": {
    "scrolled": false
   },
   "outputs": [
    {
     "data": {
      "text/plain": [
       "at_fault                0\n",
       "party_sobriety          0\n",
       "cellphone_in_use        0\n",
       "intersection            0\n",
       "weather_1               0\n",
       "road_surface            0\n",
       "lighting                0\n",
       "location_type           0\n",
       "road_condition_1        0\n",
       "vehicle_type            0\n",
       "vehicle_transmission    0\n",
       "vehicle_age             0\n",
       "dtype: int64"
      ]
     },
     "execution_count": 83,
     "metadata": {},
     "output_type": "execute_result"
    }
   ],
   "source": [
    "df.isna().sum()"
   ]
  },
  {
   "cell_type": "markdown",
   "id": "a6b2e304",
   "metadata": {},
   "source": [
    "Подготовили данные:\n",
    "- удалили столбец party_drug_physical, так как пропусков более 90%, для модели не даст никакой значимости;\n",
    "- в числовых признаках 'vehicle_age','cellphone_in_use','intersection' заменили пропуски медианой;\n",
    "- пропуски в признаках 'party_sobriety', 'weather_1', 'road_surface', 'lighting', 'road_condition_1', 'vehicle_transmission' заменили теми же значениями с такой же вероятностью."
   ]
  },
  {
   "cell_type": "code",
   "execution_count": 84,
   "id": "98d07b21",
   "metadata": {
    "scrolled": false
   },
   "outputs": [
    {
     "data": {
      "text/html": [
       "<div>\n",
       "<style scoped>\n",
       "    .dataframe tbody tr th:only-of-type {\n",
       "        vertical-align: middle;\n",
       "    }\n",
       "\n",
       "    .dataframe tbody tr th {\n",
       "        vertical-align: top;\n",
       "    }\n",
       "\n",
       "    .dataframe thead th {\n",
       "        text-align: right;\n",
       "    }\n",
       "</style>\n",
       "<table border=\"1\" class=\"dataframe\">\n",
       "  <thead>\n",
       "    <tr style=\"text-align: right;\">\n",
       "      <th></th>\n",
       "      <th>at_fault</th>\n",
       "      <th>party_sobriety</th>\n",
       "      <th>cellphone_in_use</th>\n",
       "      <th>intersection</th>\n",
       "      <th>weather_1</th>\n",
       "      <th>road_surface</th>\n",
       "      <th>lighting</th>\n",
       "      <th>location_type</th>\n",
       "      <th>road_condition_1</th>\n",
       "      <th>vehicle_type</th>\n",
       "      <th>vehicle_transmission</th>\n",
       "      <th>vehicle_age</th>\n",
       "    </tr>\n",
       "  </thead>\n",
       "  <tbody>\n",
       "    <tr>\n",
       "      <th>0</th>\n",
       "      <td>1</td>\n",
       "      <td>had not been drinking</td>\n",
       "      <td>0.0</td>\n",
       "      <td>1.0</td>\n",
       "      <td>cloudy</td>\n",
       "      <td>dry</td>\n",
       "      <td>daylight</td>\n",
       "      <td>ramp</td>\n",
       "      <td>other</td>\n",
       "      <td>sedan</td>\n",
       "      <td>auto</td>\n",
       "      <td>2.0</td>\n",
       "    </tr>\n",
       "    <tr>\n",
       "      <th>1</th>\n",
       "      <td>0</td>\n",
       "      <td>had not been drinking</td>\n",
       "      <td>0.0</td>\n",
       "      <td>1.0</td>\n",
       "      <td>cloudy</td>\n",
       "      <td>dry</td>\n",
       "      <td>daylight</td>\n",
       "      <td>highway</td>\n",
       "      <td>other</td>\n",
       "      <td>sedan</td>\n",
       "      <td>auto</td>\n",
       "      <td>2.0</td>\n",
       "    </tr>\n",
       "    <tr>\n",
       "      <th>2</th>\n",
       "      <td>1</td>\n",
       "      <td>had not been drinking</td>\n",
       "      <td>0.0</td>\n",
       "      <td>1.0</td>\n",
       "      <td>clear</td>\n",
       "      <td>dry</td>\n",
       "      <td>daylight</td>\n",
       "      <td>highway</td>\n",
       "      <td>normal</td>\n",
       "      <td>sedan</td>\n",
       "      <td>auto</td>\n",
       "      <td>5.0</td>\n",
       "    </tr>\n",
       "  </tbody>\n",
       "</table>\n",
       "</div>"
      ],
      "text/plain": [
       "   at_fault         party_sobriety  cellphone_in_use  intersection weather_1  \\\n",
       "0         1  had not been drinking               0.0           1.0    cloudy   \n",
       "1         0  had not been drinking               0.0           1.0    cloudy   \n",
       "2         1  had not been drinking               0.0           1.0     clear   \n",
       "\n",
       "  road_surface  lighting location_type road_condition_1 vehicle_type  \\\n",
       "0          dry  daylight          ramp            other        sedan   \n",
       "1          dry  daylight       highway            other        sedan   \n",
       "2          dry  daylight       highway           normal        sedan   \n",
       "\n",
       "  vehicle_transmission  vehicle_age  \n",
       "0                 auto          2.0  \n",
       "1                 auto          2.0  \n",
       "2                 auto          5.0  "
      ]
     },
     "execution_count": 84,
     "metadata": {},
     "output_type": "execute_result"
    }
   ],
   "source": [
    "df.head(3)"
   ]
  },
  {
   "cell_type": "code",
   "execution_count": 85,
   "id": "3b689878",
   "metadata": {},
   "outputs": [],
   "source": [
    "# Создадим фрейм для кодирования и масштабирования\n",
    "df_encoder = df.copy()"
   ]
  },
  {
   "cell_type": "code",
   "execution_count": 86,
   "id": "62216f0a",
   "metadata": {},
   "outputs": [],
   "source": [
    "# Создадим признаки и целевой признак\n",
    "features = df.drop('at_fault', axis=1)\n",
    "target = df['at_fault']\n",
    "\n",
    "features_encoder = df_encoder.drop('at_fault', axis=1)\n",
    "target_encoder = df_encoder['at_fault']"
   ]
  },
  {
   "cell_type": "code",
   "execution_count": 87,
   "id": "1f4883c1",
   "metadata": {},
   "outputs": [
    {
     "data": {
      "image/png": "[encoded data removed]",
      "text/plain": [
       "<Figure size 432x288 with 1 Axes>"
      ]
     },
     "metadata": {
      "needs_background": "light"
     },
     "output_type": "display_data"
    }
   ],
   "source": [
    "# Посмотрим на распределение целевого призака\n",
    "target.value_counts().plot(figsize=(6,4), kind='bar')\n",
    "plt.title('Распределение классов целевого признака')\n",
    "plt.xlabel('Класс признака')\n",
    "plt.ylabel('Количество')\n",
    "plt.legend([])\n",
    "plt.show()"
   ]
  },
  {
   "cell_type": "markdown",
   "id": "75a95124",
   "metadata": {},
   "source": [
    "В целом можно утверждать о балансе классов."
   ]
  },
  {
   "cell_type": "code",
   "execution_count": 88,
   "id": "26430595",
   "metadata": {
    "scrolled": false
   },
   "outputs": [
    {
     "data": {
      "text/plain": [
       "(71046, 11)"
      ]
     },
     "metadata": {},
     "output_type": "display_data"
    },
    {
     "data": {
      "text/plain": [
       "(23682, 11)"
      ]
     },
     "metadata": {},
     "output_type": "display_data"
    },
    {
     "data": {
      "text/plain": [
       "(23683, 11)"
      ]
     },
     "metadata": {},
     "output_type": "display_data"
    },
    {
     "data": {
      "text/plain": [
       "(71046,)"
      ]
     },
     "metadata": {},
     "output_type": "display_data"
    },
    {
     "data": {
      "text/plain": [
       "(23682,)"
      ]
     },
     "metadata": {},
     "output_type": "display_data"
    },
    {
     "data": {
      "text/plain": [
       "(23683,)"
      ]
     },
     "metadata": {},
     "output_type": "display_data"
    }
   ],
   "source": [
    "# Разделим на обучающую, валидационную и тестовую выборки для СatBoost\n",
    "features_train, features_other, target_train, target_other = train_test_split(features.copy(), target.copy(), test_size=0.4, \n",
    "                                                                              shuffle=True, random_state=12345)\n",
    "features_valid, features_test, target_valid, target_test = train_test_split(features_other.copy(), target_other.copy(), test_size=0.5, \n",
    "                                                                            shuffle=True, random_state=12345)\n",
    "# Проверим соотношение выборок\n",
    "display(features_train.shape, features_valid.shape, features_test.shape)\n",
    "display(target_train.shape, target_valid.shape, target_test.shape)"
   ]
  },
  {
   "cell_type": "code",
   "execution_count": 89,
   "id": "31db1250",
   "metadata": {},
   "outputs": [
    {
     "data": {
      "text/plain": [
       "(71046, 11)"
      ]
     },
     "metadata": {},
     "output_type": "display_data"
    },
    {
     "data": {
      "text/plain": [
       "(23682, 11)"
      ]
     },
     "metadata": {},
     "output_type": "display_data"
    },
    {
     "data": {
      "text/plain": [
       "(23683, 11)"
      ]
     },
     "metadata": {},
     "output_type": "display_data"
    },
    {
     "data": {
      "text/plain": [
       "(71046,)"
      ]
     },
     "metadata": {},
     "output_type": "display_data"
    },
    {
     "data": {
      "text/plain": [
       "(23682,)"
      ]
     },
     "metadata": {},
     "output_type": "display_data"
    },
    {
     "data": {
      "text/plain": [
       "(23683,)"
      ]
     },
     "metadata": {},
     "output_type": "display_data"
    }
   ],
   "source": [
    "# Разделим на обучающую, валидационную и тестовую выборки для моделей DecisionTree и RandomForest\n",
    "features_train_encoder, features_other_encoder, target_train_encoder, target_other_encoder = train_test_split(\n",
    "    features_encoder.copy(), target_encoder.copy(), test_size=0.4, shuffle=True, random_state=12345)\n",
    "\n",
    "features_valid_encoder, features_test_encoder, target_valid_encoder, target_test_encoder = train_test_split(\n",
    "    features_other_encoder.copy(), target_other_encoder.copy(), test_size=0.5, shuffle=True, random_state=12345)\n",
    "\n",
    "\n",
    "# Проверим соотношение выборок\n",
    "display(features_train_encoder.shape, features_valid_encoder.shape, features_test_encoder.shape)\n",
    "display(target_train_encoder.shape, target_valid_encoder.shape, target_test_encoder.shape)"
   ]
  },
  {
   "cell_type": "code",
   "execution_count": 90,
   "id": "b7287031",
   "metadata": {},
   "outputs": [],
   "source": [
    "# Масштабируем числовые признаки\n",
    "numeric = ['vehicle_age']\n",
    "\n",
    "scaler = StandardScaler()\n",
    "scaler.fit(features_train_encoder[numeric])\n",
    "\n",
    "features_train_encoder[numeric] = scaler.transform(features_train_encoder[numeric])\n",
    "features_valid_encoder[numeric] = scaler.transform(features_valid_encoder[numeric])\n",
    "features_test_encoder[numeric] = scaler.transform(features_test_encoder[numeric])"
   ]
  },
  {
   "cell_type": "code",
   "execution_count": 91,
   "id": "aeed81e1",
   "metadata": {},
   "outputs": [],
   "source": [
    "# Закодируем категориальные признаки\n",
    "categorial = ['party_sobriety', 'weather_1', 'road_surface', 'lighting', 'location_type', 'road_condition_1', \n",
    "              'vehicle_type', 'vehicle_transmission']\n",
    "\n",
    "encoder = OneHotEncoder(handle_unknown='ignore', sparse=False)\n",
    "encoder.fit(features_train_encoder[categorial])\n",
    "\n",
    "features_train_encoder_ohe = pd.DataFrame(encoder.transform(features_train_encoder[categorial]), columns = encoder.get_feature_names(categorial))\n",
    "features_valid_encoder_ohe = pd.DataFrame(encoder.transform(features_valid_encoder[categorial]), columns = encoder.get_feature_names(categorial))\n",
    "features_test_encoder_ohe = pd.DataFrame(encoder.transform(features_test_encoder[categorial]), columns = encoder.get_feature_names(categorial))"
   ]
  },
  {
   "cell_type": "code",
   "execution_count": 92,
   "id": "6ad40e92",
   "metadata": {},
   "outputs": [],
   "source": [
    "# Удаляем столбцы с категориальными признаками\n",
    "features_train_encoder = features_train_encoder.drop(categorial, axis=1)\n",
    "features_valid_encoder = features_valid_encoder.drop(categorial, axis=1)\n",
    "features_test_encoder = features_test_encoder.drop(categorial, axis=1)"
   ]
  },
  {
   "cell_type": "code",
   "execution_count": 93,
   "id": "585744d2",
   "metadata": {},
   "outputs": [],
   "source": [
    "# объединяем таблицы\n",
    "features_train_encoder = pd.concat([features_train_encoder_ohe.reset_index(drop=True), features_train_encoder.reset_index(drop=True)], axis=1, ignore_index=False)\n",
    "features_valid_encoder = pd.concat([features_valid_encoder_ohe.reset_index(drop=True), features_valid_encoder.reset_index(drop=True)], axis=1, ignore_index=False)\n",
    "features_test_encoder = pd.concat([features_test_encoder_ohe.reset_index(drop=True), features_test_encoder.reset_index(drop=True)], axis=1, ignore_index=False)"
   ]
  },
  {
   "cell_type": "code",
   "execution_count": 94,
   "id": "09cdb862",
   "metadata": {},
   "outputs": [
    {
     "data": {
      "text/html": [
       "<div>\n",
       "<style scoped>\n",
       "    .dataframe tbody tr th:only-of-type {\n",
       "        vertical-align: middle;\n",
       "    }\n",
       "\n",
       "    .dataframe tbody tr th {\n",
       "        vertical-align: top;\n",
       "    }\n",
       "\n",
       "    .dataframe thead th {\n",
       "        text-align: right;\n",
       "    }\n",
       "</style>\n",
       "<table border=\"1\" class=\"dataframe\">\n",
       "  <thead>\n",
       "    <tr style=\"text-align: right;\">\n",
       "      <th></th>\n",
       "      <th>party_sobriety_had been drinking, impairment unknown</th>\n",
       "      <th>party_sobriety_had been drinking, not under influence</th>\n",
       "      <th>party_sobriety_had been drinking, under influence</th>\n",
       "      <th>party_sobriety_had not been drinking</th>\n",
       "      <th>party_sobriety_impairment unknown</th>\n",
       "      <th>party_sobriety_not applicable</th>\n",
       "      <th>weather_1_clear</th>\n",
       "      <th>weather_1_cloudy</th>\n",
       "      <th>weather_1_fog</th>\n",
       "      <th>weather_1_other</th>\n",
       "      <th>...</th>\n",
       "      <th>vehicle_type_coupe</th>\n",
       "      <th>vehicle_type_hatchback</th>\n",
       "      <th>vehicle_type_minivan</th>\n",
       "      <th>vehicle_type_other</th>\n",
       "      <th>vehicle_type_sedan</th>\n",
       "      <th>vehicle_transmission_auto</th>\n",
       "      <th>vehicle_transmission_manual</th>\n",
       "      <th>cellphone_in_use</th>\n",
       "      <th>intersection</th>\n",
       "      <th>vehicle_age</th>\n",
       "    </tr>\n",
       "  </thead>\n",
       "  <tbody>\n",
       "    <tr>\n",
       "      <th>0</th>\n",
       "      <td>0.0</td>\n",
       "      <td>0.0</td>\n",
       "      <td>0.0</td>\n",
       "      <td>1.0</td>\n",
       "      <td>0.0</td>\n",
       "      <td>0.0</td>\n",
       "      <td>1.0</td>\n",
       "      <td>0.0</td>\n",
       "      <td>0.0</td>\n",
       "      <td>0.0</td>\n",
       "      <td>...</td>\n",
       "      <td>0.0</td>\n",
       "      <td>0.0</td>\n",
       "      <td>0.0</td>\n",
       "      <td>0.0</td>\n",
       "      <td>1.0</td>\n",
       "      <td>1.0</td>\n",
       "      <td>0.0</td>\n",
       "      <td>0.0</td>\n",
       "      <td>0.0</td>\n",
       "      <td>2.186693</td>\n",
       "    </tr>\n",
       "    <tr>\n",
       "      <th>1</th>\n",
       "      <td>0.0</td>\n",
       "      <td>0.0</td>\n",
       "      <td>0.0</td>\n",
       "      <td>1.0</td>\n",
       "      <td>0.0</td>\n",
       "      <td>0.0</td>\n",
       "      <td>1.0</td>\n",
       "      <td>0.0</td>\n",
       "      <td>0.0</td>\n",
       "      <td>0.0</td>\n",
       "      <td>...</td>\n",
       "      <td>0.0</td>\n",
       "      <td>0.0</td>\n",
       "      <td>0.0</td>\n",
       "      <td>0.0</td>\n",
       "      <td>1.0</td>\n",
       "      <td>0.0</td>\n",
       "      <td>1.0</td>\n",
       "      <td>0.0</td>\n",
       "      <td>0.0</td>\n",
       "      <td>-1.191695</td>\n",
       "    </tr>\n",
       "    <tr>\n",
       "      <th>2</th>\n",
       "      <td>0.0</td>\n",
       "      <td>0.0</td>\n",
       "      <td>0.0</td>\n",
       "      <td>1.0</td>\n",
       "      <td>0.0</td>\n",
       "      <td>0.0</td>\n",
       "      <td>1.0</td>\n",
       "      <td>0.0</td>\n",
       "      <td>0.0</td>\n",
       "      <td>0.0</td>\n",
       "      <td>...</td>\n",
       "      <td>0.0</td>\n",
       "      <td>0.0</td>\n",
       "      <td>0.0</td>\n",
       "      <td>0.0</td>\n",
       "      <td>1.0</td>\n",
       "      <td>0.0</td>\n",
       "      <td>1.0</td>\n",
       "      <td>0.0</td>\n",
       "      <td>0.0</td>\n",
       "      <td>-0.577443</td>\n",
       "    </tr>\n",
       "  </tbody>\n",
       "</table>\n",
       "<p>3 rows × 43 columns</p>\n",
       "</div>"
      ],
      "text/plain": [
       "   party_sobriety_had been drinking, impairment unknown  \\\n",
       "0                                                0.0      \n",
       "1                                                0.0      \n",
       "2                                                0.0      \n",
       "\n",
       "   party_sobriety_had been drinking, not under influence  \\\n",
       "0                                                0.0       \n",
       "1                                                0.0       \n",
       "2                                                0.0       \n",
       "\n",
       "   party_sobriety_had been drinking, under influence  \\\n",
       "0                                                0.0   \n",
       "1                                                0.0   \n",
       "2                                                0.0   \n",
       "\n",
       "   party_sobriety_had not been drinking  party_sobriety_impairment unknown  \\\n",
       "0                                   1.0                                0.0   \n",
       "1                                   1.0                                0.0   \n",
       "2                                   1.0                                0.0   \n",
       "\n",
       "   party_sobriety_not applicable  weather_1_clear  weather_1_cloudy  \\\n",
       "0                            0.0              1.0               0.0   \n",
       "1                            0.0              1.0               0.0   \n",
       "2                            0.0              1.0               0.0   \n",
       "\n",
       "   weather_1_fog  weather_1_other  ...  vehicle_type_coupe  \\\n",
       "0            0.0              0.0  ...                 0.0   \n",
       "1            0.0              0.0  ...                 0.0   \n",
       "2            0.0              0.0  ...                 0.0   \n",
       "\n",
       "   vehicle_type_hatchback  vehicle_type_minivan  vehicle_type_other  \\\n",
       "0                     0.0                   0.0                 0.0   \n",
       "1                     0.0                   0.0                 0.0   \n",
       "2                     0.0                   0.0                 0.0   \n",
       "\n",
       "   vehicle_type_sedan  vehicle_transmission_auto  vehicle_transmission_manual  \\\n",
       "0                 1.0                        1.0                          0.0   \n",
       "1                 1.0                        0.0                          1.0   \n",
       "2                 1.0                        0.0                          1.0   \n",
       "\n",
       "   cellphone_in_use  intersection  vehicle_age  \n",
       "0               0.0           0.0     2.186693  \n",
       "1               0.0           0.0    -1.191695  \n",
       "2               0.0           0.0    -0.577443  \n",
       "\n",
       "[3 rows x 43 columns]"
      ]
     },
     "execution_count": 94,
     "metadata": {},
     "output_type": "execute_result"
    }
   ],
   "source": [
    "# Проверим кодирование и масштабирование признаков\n",
    "features_train_encoder.head(3)"
   ]
  },
  {
   "cell_type": "markdown",
   "id": "526298ad",
   "metadata": {},
   "source": [
    "### DecisionTreeClassifier"
   ]
  },
  {
   "cell_type": "code",
   "execution_count": 95,
   "id": "909ebe03",
   "metadata": {},
   "outputs": [],
   "source": [
    "# Зададим параметры модели\n",
    "decision_tree_params = {\n",
    "    'max_depth': range(1, 20, 2),\n",
    "    'min_samples_split': [5], \n",
    "    'min_samples_leaf': [25],\n",
    "    'class_weight':['balanced']\n",
    "}\n",
    "\n",
    "dt_gs = GridSearchCV(DecisionTreeClassifier(random_state=5),\n",
    "                         decision_tree_params, n_jobs=-1, cv=5, scoring='roc_auc')\n",
    "dt_f1 = dt_gs.fit(features_train_encoder, target_train_encoder)"
   ]
  },
  {
   "cell_type": "code",
   "execution_count": 96,
   "id": "1619afdd",
   "metadata": {},
   "outputs": [
    {
     "data": {
      "text/plain": [
       "{'class_weight': 'balanced',\n",
       " 'max_depth': 9,\n",
       " 'min_samples_leaf': 25,\n",
       " 'min_samples_split': 5}"
      ]
     },
     "execution_count": 96,
     "metadata": {},
     "output_type": "execute_result"
    }
   ],
   "source": [
    "# Найдем лучшие гиперпараметры\n",
    "dt_f1.best_params_"
   ]
  },
  {
   "cell_type": "code",
   "execution_count": 97,
   "id": "fb93eefe",
   "metadata": {},
   "outputs": [
    {
     "name": "stdout",
     "output_type": "stream",
     "text": [
      "CPU times: user 12 ms, sys: 7.99 ms, total: 19.9 ms\n",
      "Wall time: 19.8 ms\n"
     ]
    }
   ],
   "source": [
    "%%time \n",
    "# Предсказания модели с лучшими гиперпараметрами\n",
    "pred_dt = dt_f1.best_estimator_.predict(features_valid_encoder)"
   ]
  },
  {
   "cell_type": "code",
   "execution_count": 98,
   "id": "9eb1fad6",
   "metadata": {
    "scrolled": true
   },
   "outputs": [
    {
     "name": "stdout",
     "output_type": "stream",
     "text": [
      "F1 на валидационной выборке: 0.42296338169712955\n",
      "ROC_AUC на валидационной выборке: 0.6435224415252992\n"
     ]
    }
   ],
   "source": [
    "print('F1 на валидационной выборке:', f1_score(pred_dt, target_valid_encoder))\n",
    "print('ROC_AUC на валидационной выборке:', roc_auc_score(pred_dt, target_valid_encoder))"
   ]
  },
  {
   "cell_type": "markdown",
   "id": "4c08a511",
   "metadata": {},
   "source": [
    "### RandomForestClassifier"
   ]
  },
  {
   "cell_type": "code",
   "execution_count": 99,
   "id": "b0dd634a",
   "metadata": {},
   "outputs": [],
   "source": [
    "# Зададим гиперпараметры модели\n",
    "param_grid = {\n",
    "    'n_estimators': range(80, 101, 5),\n",
    "    'max_depth': range(1, 11, 2),\n",
    "    'class_weight':['balanced']\n",
    "}\n",
    "\n",
    "rf = RandomForestClassifier(random_state=5)\n",
    "rf_grid = GridSearchCV(rf, param_grid, cv=5, n_jobs=-1, verbose=2)"
   ]
  },
  {
   "cell_type": "code",
   "execution_count": 100,
   "id": "e51d4e97",
   "metadata": {
    "scrolled": true
   },
   "outputs": [
    {
     "name": "stdout",
     "output_type": "stream",
     "text": [
      "Fitting 5 folds for each of 25 candidates, totalling 125 fits\n",
      "CPU times: user 2.38 s, sys: 137 ms, total: 2.52 s\n",
      "Wall time: 1min 5s\n"
     ]
    },
    {
     "data": {
      "text/plain": [
       "GridSearchCV(cv=5, estimator=RandomForestClassifier(random_state=5), n_jobs=-1,\n",
       "             param_grid={'class_weight': ['balanced'],\n",
       "                         'max_depth': range(1, 11, 2),\n",
       "                         'n_estimators': range(80, 101, 5)},\n",
       "             verbose=2)"
      ]
     },
     "execution_count": 100,
     "metadata": {},
     "output_type": "execute_result"
    }
   ],
   "source": [
    "%%time\n",
    "# Обучим модель\n",
    "rf_grid.fit(features_train_encoder, target_train_encoder)"
   ]
  },
  {
   "cell_type": "code",
   "execution_count": 101,
   "id": "7a290bf9",
   "metadata": {},
   "outputs": [
    {
     "data": {
      "text/plain": [
       "{'class_weight': 'balanced', 'max_depth': 9, 'n_estimators': 90}"
      ]
     },
     "execution_count": 101,
     "metadata": {},
     "output_type": "execute_result"
    }
   ],
   "source": [
    "# Найдем лучшие гиперпараметры\n",
    "rf_grid.best_params_"
   ]
  },
  {
   "cell_type": "code",
   "execution_count": 102,
   "id": "74be6158",
   "metadata": {},
   "outputs": [
    {
     "name": "stdout",
     "output_type": "stream",
     "text": [
      "CPU times: user 157 ms, sys: 4.79 ms, total: 162 ms\n",
      "Wall time: 166 ms\n"
     ]
    }
   ],
   "source": [
    "%%time \n",
    "# Предсказания модели с лучшими гиперпараметрами\n",
    "pred_rf = rf_grid.best_estimator_.predict(features_valid_encoder)"
   ]
  },
  {
   "cell_type": "code",
   "execution_count": 103,
   "id": "a3d0163d",
   "metadata": {},
   "outputs": [
    {
     "name": "stdout",
     "output_type": "stream",
     "text": [
      "F1 на валидационной выборке: 0.40534578954197475\n",
      "ROC_AUC на валидационной выборке: 0.6553482611662811\n"
     ]
    }
   ],
   "source": [
    "print('F1 на валидационной выборке:', f1_score(pred_rf, target_valid_encoder))\n",
    "print('ROC_AUC на валидационной выборке:', roc_auc_score(pred_rf, target_valid_encoder))"
   ]
  },
  {
   "cell_type": "markdown",
   "id": "f245682c",
   "metadata": {},
   "source": [
    "### CatBoostClassifier"
   ]
  },
  {
   "cell_type": "code",
   "execution_count": 104,
   "id": "e098862a",
   "metadata": {},
   "outputs": [],
   "source": [
    "model_cat = cb.CatBoostClassifier(loss_function='Logloss', eval_metric='AUC')"
   ]
  },
  {
   "cell_type": "code",
   "execution_count": 105,
   "id": "8112683a",
   "metadata": {},
   "outputs": [],
   "source": [
    "# Зададим категориальные признаки\n",
    "cat_features = ['party_sobriety', 'weather_1', 'road_surface', 'lighting', 'location_type', 'road_condition_1', \n",
    "              'vehicle_type', 'vehicle_transmission']"
   ]
  },
  {
   "cell_type": "code",
   "execution_count": 106,
   "id": "58d24a80",
   "metadata": {},
   "outputs": [],
   "source": [
    "# Зададим гиперпараметры модели\n",
    "grid = {'iterations': [100, 120],\n",
    "        'learning_rate': [0.001, 0.002],\n",
    "        'depth': range(6, 9)\n",
    "       }"
   ]
  },
  {
   "cell_type": "code",
   "execution_count": 107,
   "id": "ac65fff6",
   "metadata": {
    "scrolled": true
   },
   "outputs": [
    {
     "name": "stdout",
     "output_type": "stream",
     "text": [
      "0:\ttest: 0.5881524\tbest: 0.5881524 (0)\ttotal: 88.6ms\tremaining: 8.78s\n",
      "1:\ttest: 0.5881524\tbest: 0.5881524 (0)\ttotal: 111ms\tremaining: 5.46s\n",
      "2:\ttest: 0.5960176\tbest: 0.5960176 (2)\ttotal: 130ms\tremaining: 4.19s\n",
      "3:\ttest: 0.5960176\tbest: 0.5960176 (2)\ttotal: 149ms\tremaining: 3.58s\n",
      "4:\ttest: 0.5960176\tbest: 0.5960176 (2)\ttotal: 166ms\tremaining: 3.15s\n",
      "5:\ttest: 0.5967603\tbest: 0.5967603 (5)\ttotal: 185ms\tremaining: 2.89s\n",
      "6:\ttest: 0.5992192\tbest: 0.5992192 (6)\ttotal: 204ms\tremaining: 2.71s\n",
      "7:\ttest: 0.5985119\tbest: 0.5992192 (6)\ttotal: 223ms\tremaining: 2.56s\n",
      "8:\ttest: 0.5993843\tbest: 0.5993843 (8)\ttotal: 242ms\tremaining: 2.44s\n",
      "9:\ttest: 0.5985216\tbest: 0.5993843 (8)\ttotal: 260ms\tremaining: 2.34s\n",
      "10:\ttest: 0.5986372\tbest: 0.5993843 (8)\ttotal: 279ms\tremaining: 2.25s\n",
      "11:\ttest: 0.5991389\tbest: 0.5993843 (8)\ttotal: 313ms\tremaining: 2.29s\n",
      "12:\ttest: 0.5991442\tbest: 0.5993843 (8)\ttotal: 338ms\tremaining: 2.26s\n",
      "13:\ttest: 0.6012270\tbest: 0.6012270 (13)\ttotal: 362ms\tremaining: 2.22s\n",
      "14:\ttest: 0.6015015\tbest: 0.6015015 (14)\ttotal: 381ms\tremaining: 2.16s\n",
      "15:\ttest: 0.6017419\tbest: 0.6017419 (15)\ttotal: 400ms\tremaining: 2.1s\n",
      "16:\ttest: 0.6016572\tbest: 0.6017419 (15)\ttotal: 418ms\tremaining: 2.04s\n",
      "17:\ttest: 0.6016572\tbest: 0.6017419 (15)\ttotal: 431ms\tremaining: 1.96s\n",
      "18:\ttest: 0.6014468\tbest: 0.6017419 (15)\ttotal: 449ms\tremaining: 1.91s\n",
      "19:\ttest: 0.6042089\tbest: 0.6042089 (19)\ttotal: 464ms\tremaining: 1.86s\n",
      "20:\ttest: 0.6039595\tbest: 0.6042089 (19)\ttotal: 483ms\tremaining: 1.82s\n",
      "21:\ttest: 0.6039595\tbest: 0.6042089 (19)\ttotal: 497ms\tremaining: 1.76s\n",
      "22:\ttest: 0.6041571\tbest: 0.6042089 (19)\ttotal: 516ms\tremaining: 1.73s\n",
      "23:\ttest: 0.6044728\tbest: 0.6044728 (23)\ttotal: 560ms\tremaining: 1.77s\n",
      "24:\ttest: 0.6053414\tbest: 0.6053414 (24)\ttotal: 585ms\tremaining: 1.75s\n",
      "25:\ttest: 0.6053469\tbest: 0.6053469 (25)\ttotal: 603ms\tremaining: 1.72s\n",
      "26:\ttest: 0.6054160\tbest: 0.6054160 (26)\ttotal: 622ms\tremaining: 1.68s\n",
      "27:\ttest: 0.6052969\tbest: 0.6054160 (26)\ttotal: 643ms\tremaining: 1.65s\n",
      "28:\ttest: 0.6052865\tbest: 0.6054160 (26)\ttotal: 660ms\tremaining: 1.62s\n",
      "29:\ttest: 0.6052242\tbest: 0.6054160 (26)\ttotal: 679ms\tremaining: 1.58s\n",
      "30:\ttest: 0.6051702\tbest: 0.6054160 (26)\ttotal: 692ms\tremaining: 1.54s\n",
      "31:\ttest: 0.6056834\tbest: 0.6056834 (31)\ttotal: 711ms\tremaining: 1.51s\n",
      "32:\ttest: 0.6057389\tbest: 0.6057389 (32)\ttotal: 736ms\tremaining: 1.5s\n",
      "33:\ttest: 0.6057389\tbest: 0.6057389 (32)\ttotal: 765ms\tremaining: 1.48s\n",
      "34:\ttest: 0.6060138\tbest: 0.6060138 (34)\ttotal: 779ms\tremaining: 1.45s\n",
      "35:\ttest: 0.6062311\tbest: 0.6062311 (35)\ttotal: 798ms\tremaining: 1.42s\n",
      "36:\ttest: 0.6062311\tbest: 0.6062311 (35)\ttotal: 811ms\tremaining: 1.38s\n",
      "37:\ttest: 0.6062098\tbest: 0.6062311 (35)\ttotal: 829ms\tremaining: 1.35s\n",
      "38:\ttest: 0.6062137\tbest: 0.6062311 (35)\ttotal: 847ms\tremaining: 1.32s\n",
      "39:\ttest: 0.6060183\tbest: 0.6062311 (35)\ttotal: 862ms\tremaining: 1.29s\n",
      "40:\ttest: 0.6060226\tbest: 0.6062311 (35)\ttotal: 880ms\tremaining: 1.27s\n",
      "41:\ttest: 0.6060226\tbest: 0.6062311 (35)\ttotal: 894ms\tremaining: 1.23s\n",
      "42:\ttest: 0.6070452\tbest: 0.6070452 (42)\ttotal: 911ms\tremaining: 1.21s\n",
      "43:\ttest: 0.6070397\tbest: 0.6070452 (42)\ttotal: 929ms\tremaining: 1.18s\n",
      "44:\ttest: 0.6070377\tbest: 0.6070452 (42)\ttotal: 953ms\tremaining: 1.16s\n",
      "45:\ttest: 0.6070377\tbest: 0.6070452 (42)\ttotal: 973ms\tremaining: 1.14s\n",
      "46:\ttest: 0.6070377\tbest: 0.6070452 (42)\ttotal: 988ms\tremaining: 1.11s\n",
      "47:\ttest: 0.6070513\tbest: 0.6070513 (47)\ttotal: 1.01s\tremaining: 1.09s\n",
      "48:\ttest: 0.6073358\tbest: 0.6073358 (48)\ttotal: 1.03s\tremaining: 1.07s\n",
      "49:\ttest: 0.6072491\tbest: 0.6073358 (48)\ttotal: 1.04s\tremaining: 1.04s\n",
      "50:\ttest: 0.6071642\tbest: 0.6073358 (48)\ttotal: 1.06s\tremaining: 1.02s\n",
      "51:\ttest: 0.6071503\tbest: 0.6073358 (48)\ttotal: 1.08s\tremaining: 995ms\n",
      "52:\ttest: 0.6071065\tbest: 0.6073358 (48)\ttotal: 1.1s\tremaining: 972ms\n",
      "53:\ttest: 0.6071065\tbest: 0.6073358 (48)\ttotal: 1.11s\tremaining: 946ms\n",
      "54:\ttest: 0.6069722\tbest: 0.6073358 (48)\ttotal: 1.15s\tremaining: 937ms\n",
      "55:\ttest: 0.6071837\tbest: 0.6073358 (48)\ttotal: 1.19s\tremaining: 938ms\n",
      "56:\ttest: 0.6075419\tbest: 0.6075419 (56)\ttotal: 1.25s\tremaining: 944ms\n",
      "57:\ttest: 0.6075295\tbest: 0.6075419 (56)\ttotal: 1.3s\tremaining: 943ms\n",
      "58:\ttest: 0.6074946\tbest: 0.6075419 (56)\ttotal: 1.33s\tremaining: 922ms\n",
      "59:\ttest: 0.6075947\tbest: 0.6075947 (59)\ttotal: 1.34s\tremaining: 897ms\n",
      "60:\ttest: 0.6076462\tbest: 0.6076462 (60)\ttotal: 1.37s\tremaining: 874ms\n",
      "61:\ttest: 0.6076482\tbest: 0.6076482 (61)\ttotal: 1.39s\tremaining: 849ms\n",
      "62:\ttest: 0.6076482\tbest: 0.6076482 (61)\ttotal: 1.42s\tremaining: 833ms\n",
      "63:\ttest: 0.6076994\tbest: 0.6076994 (63)\ttotal: 1.44s\tremaining: 812ms\n",
      "64:\ttest: 0.6077057\tbest: 0.6077057 (64)\ttotal: 1.46s\tremaining: 787ms\n",
      "65:\ttest: 0.6076861\tbest: 0.6077057 (64)\ttotal: 1.48s\tremaining: 764ms\n",
      "66:\ttest: 0.6077132\tbest: 0.6077132 (66)\ttotal: 1.5s\tremaining: 738ms\n",
      "67:\ttest: 0.6075243\tbest: 0.6077132 (66)\ttotal: 1.52s\tremaining: 716ms\n",
      "68:\ttest: 0.6075108\tbest: 0.6077132 (66)\ttotal: 1.54s\tremaining: 692ms\n",
      "69:\ttest: 0.6075587\tbest: 0.6077132 (66)\ttotal: 1.56s\tremaining: 668ms\n",
      "70:\ttest: 0.6075658\tbest: 0.6077132 (66)\ttotal: 1.57s\tremaining: 643ms\n",
      "71:\ttest: 0.6076034\tbest: 0.6077132 (66)\ttotal: 1.59s\tremaining: 620ms\n",
      "72:\ttest: 0.6075710\tbest: 0.6077132 (66)\ttotal: 1.61s\tremaining: 596ms\n",
      "73:\ttest: 0.6075993\tbest: 0.6077132 (66)\ttotal: 1.65s\tremaining: 578ms\n",
      "74:\ttest: 0.6074304\tbest: 0.6077132 (66)\ttotal: 1.67s\tremaining: 557ms\n",
      "75:\ttest: 0.6074316\tbest: 0.6077132 (66)\ttotal: 1.69s\tremaining: 532ms\n",
      "76:\ttest: 0.6073761\tbest: 0.6077132 (66)\ttotal: 1.7s\tremaining: 509ms\n",
      "77:\ttest: 0.6073754\tbest: 0.6077132 (66)\ttotal: 1.72s\tremaining: 486ms\n",
      "78:\ttest: 0.6074463\tbest: 0.6077132 (66)\ttotal: 1.74s\tremaining: 463ms\n",
      "79:\ttest: 0.6073671\tbest: 0.6077132 (66)\ttotal: 1.76s\tremaining: 440ms\n",
      "80:\ttest: 0.6073671\tbest: 0.6077132 (66)\ttotal: 1.77s\tremaining: 416ms\n",
      "81:\ttest: 0.6076238\tbest: 0.6077132 (66)\ttotal: 1.79s\tremaining: 393ms\n",
      "82:\ttest: 0.6076238\tbest: 0.6077132 (66)\ttotal: 1.8s\tremaining: 370ms\n",
      "83:\ttest: 0.6078986\tbest: 0.6078986 (83)\ttotal: 1.82s\tremaining: 348ms\n",
      "84:\ttest: 0.6078986\tbest: 0.6078986 (83)\ttotal: 1.85s\tremaining: 326ms\n",
      "85:\ttest: 0.6078982\tbest: 0.6078986 (83)\ttotal: 1.89s\tremaining: 308ms\n",
      "86:\ttest: 0.6078982\tbest: 0.6078986 (83)\ttotal: 1.94s\tremaining: 290ms\n",
      "87:\ttest: 0.6079144\tbest: 0.6079144 (87)\ttotal: 1.98s\tremaining: 271ms\n",
      "88:\ttest: 0.6078449\tbest: 0.6079144 (87)\ttotal: 2.01s\tremaining: 249ms\n",
      "89:\ttest: 0.6078449\tbest: 0.6079144 (87)\ttotal: 2.03s\tremaining: 225ms\n",
      "90:\ttest: 0.6075008\tbest: 0.6079144 (87)\ttotal: 2.05s\tremaining: 203ms\n",
      "91:\ttest: 0.6074963\tbest: 0.6079144 (87)\ttotal: 2.08s\tremaining: 181ms\n",
      "92:\ttest: 0.6074962\tbest: 0.6079144 (87)\ttotal: 2.11s\tremaining: 159ms\n",
      "93:\ttest: 0.6073678\tbest: 0.6079144 (87)\ttotal: 2.13s\tremaining: 136ms\n",
      "94:\ttest: 0.6073230\tbest: 0.6079144 (87)\ttotal: 2.15s\tremaining: 113ms\n",
      "95:\ttest: 0.6073230\tbest: 0.6079144 (87)\ttotal: 2.16s\tremaining: 90.2ms\n",
      "96:\ttest: 0.6073144\tbest: 0.6079144 (87)\ttotal: 2.18s\tremaining: 67.6ms\n",
      "97:\ttest: 0.6073144\tbest: 0.6079144 (87)\ttotal: 2.21s\tremaining: 45ms\n",
      "98:\ttest: 0.6073144\tbest: 0.6079144 (87)\ttotal: 2.22s\tremaining: 22.4ms\n",
      "99:\ttest: 0.6073144\tbest: 0.6079144 (87)\ttotal: 2.24s\tremaining: 0us\n",
      "\n",
      "bestTest = 0.6079144135\n",
      "bestIteration = 87\n",
      "\n",
      "Metric AUC is not calculated on train by default. To calculate this metric on train, add hints=skip_train~false to metric parameters.\n",
      "0:\tloss: 0.6079144\tbest: 0.6079144 (0)\ttotal: 2.28s\tremaining: 25.1s\n",
      "0:\ttest: 0.5881524\tbest: 0.5881524 (0)\ttotal: 23.6ms\tremaining: 2.34s\n",
      "1:\ttest: 0.5881524\tbest: 0.5881524 (0)\ttotal: 60.1ms\tremaining: 2.94s\n",
      "2:\ttest: 0.5960176\tbest: 0.5960176 (2)\ttotal: 89ms\tremaining: 2.88s\n",
      "3:\ttest: 0.5960176\tbest: 0.5960176 (2)\ttotal: 111ms\tremaining: 2.66s\n",
      "4:\ttest: 0.5960176\tbest: 0.5960176 (2)\ttotal: 128ms\tremaining: 2.43s\n",
      "5:\ttest: 0.5960176\tbest: 0.5960176 (2)\ttotal: 147ms\tremaining: 2.3s\n",
      "6:\ttest: 0.5960176\tbest: 0.5960176 (2)\ttotal: 161ms\tremaining: 2.14s\n",
      "7:\ttest: 0.5960176\tbest: 0.5960176 (2)\ttotal: 174ms\tremaining: 2s\n",
      "8:\ttest: 0.6044034\tbest: 0.6044034 (8)\ttotal: 215ms\tremaining: 2.17s\n",
      "9:\ttest: 0.6044034\tbest: 0.6044034 (8)\ttotal: 253ms\tremaining: 2.27s\n",
      "10:\ttest: 0.6044909\tbest: 0.6044909 (10)\ttotal: 314ms\tremaining: 2.54s\n",
      "11:\ttest: 0.6060393\tbest: 0.6060393 (11)\ttotal: 346ms\tremaining: 2.53s\n",
      "12:\ttest: 0.6060393\tbest: 0.6060393 (11)\ttotal: 359ms\tremaining: 2.4s\n",
      "13:\ttest: 0.6076481\tbest: 0.6076481 (13)\ttotal: 378ms\tremaining: 2.32s\n",
      "14:\ttest: 0.6075767\tbest: 0.6076481 (13)\ttotal: 393ms\tremaining: 2.23s\n",
      "15:\ttest: 0.6076549\tbest: 0.6076549 (15)\ttotal: 413ms\tremaining: 2.17s\n",
      "16:\ttest: 0.6084129\tbest: 0.6084129 (16)\ttotal: 432ms\tremaining: 2.11s\n",
      "17:\ttest: 0.6084177\tbest: 0.6084177 (17)\ttotal: 447ms\tremaining: 2.04s\n",
      "18:\ttest: 0.6084702\tbest: 0.6084702 (18)\ttotal: 465ms\tremaining: 1.98s\n",
      "19:\ttest: 0.6083618\tbest: 0.6084702 (18)\ttotal: 483ms\tremaining: 1.93s\n",
      "20:\ttest: 0.6083614\tbest: 0.6084702 (18)\ttotal: 501ms\tremaining: 1.89s\n",
      "21:\ttest: 0.6083614\tbest: 0.6084702 (18)\ttotal: 516ms\tremaining: 1.83s\n",
      "22:\ttest: 0.6083232\tbest: 0.6084702 (18)\ttotal: 551ms\tremaining: 1.84s\n",
      "23:\ttest: 0.6080665\tbest: 0.6084702 (18)\ttotal: 574ms\tremaining: 1.82s\n",
      "24:\ttest: 0.6080665\tbest: 0.6084702 (18)\ttotal: 593ms\tremaining: 1.78s\n",
      "25:\ttest: 0.6081841\tbest: 0.6084702 (18)\ttotal: 610ms\tremaining: 1.74s\n",
      "26:\ttest: 0.6081841\tbest: 0.6084702 (18)\ttotal: 627ms\tremaining: 1.7s\n",
      "27:\ttest: 0.6071573\tbest: 0.6084702 (18)\ttotal: 647ms\tremaining: 1.66s\n",
      "28:\ttest: 0.6057668\tbest: 0.6084702 (18)\ttotal: 664ms\tremaining: 1.63s\n",
      "29:\ttest: 0.6055857\tbest: 0.6084702 (18)\ttotal: 683ms\tremaining: 1.59s\n",
      "30:\ttest: 0.6055856\tbest: 0.6084702 (18)\ttotal: 701ms\tremaining: 1.56s\n",
      "31:\ttest: 0.6048657\tbest: 0.6084702 (18)\ttotal: 718ms\tremaining: 1.53s\n",
      "32:\ttest: 0.6048491\tbest: 0.6084702 (18)\ttotal: 750ms\tremaining: 1.52s\n",
      "33:\ttest: 0.6046868\tbest: 0.6084702 (18)\ttotal: 771ms\tremaining: 1.5s\n",
      "34:\ttest: 0.6044830\tbest: 0.6084702 (18)\ttotal: 791ms\tremaining: 1.47s\n",
      "35:\ttest: 0.6044442\tbest: 0.6084702 (18)\ttotal: 809ms\tremaining: 1.44s\n",
      "36:\ttest: 0.6044434\tbest: 0.6084702 (18)\ttotal: 827ms\tremaining: 1.41s\n",
      "37:\ttest: 0.6047385\tbest: 0.6084702 (18)\ttotal: 846ms\tremaining: 1.38s\n",
      "38:\ttest: 0.6046927\tbest: 0.6084702 (18)\ttotal: 865ms\tremaining: 1.35s\n",
      "39:\ttest: 0.6046949\tbest: 0.6084702 (18)\ttotal: 882ms\tremaining: 1.32s\n",
      "40:\ttest: 0.6052004\tbest: 0.6084702 (18)\ttotal: 898ms\tremaining: 1.29s\n",
      "41:\ttest: 0.6052004\tbest: 0.6084702 (18)\ttotal: 910ms\tremaining: 1.26s\n",
      "42:\ttest: 0.6051872\tbest: 0.6084702 (18)\ttotal: 941ms\tremaining: 1.25s\n",
      "43:\ttest: 0.6051872\tbest: 0.6084702 (18)\ttotal: 958ms\tremaining: 1.22s\n",
      "44:\ttest: 0.6053433\tbest: 0.6084702 (18)\ttotal: 977ms\tremaining: 1.19s\n",
      "45:\ttest: 0.6053426\tbest: 0.6084702 (18)\ttotal: 993ms\tremaining: 1.17s\n",
      "46:\ttest: 0.6053974\tbest: 0.6084702 (18)\ttotal: 1.01s\tremaining: 1.14s\n",
      "47:\ttest: 0.6057924\tbest: 0.6084702 (18)\ttotal: 1.03s\tremaining: 1.12s\n",
      "48:\ttest: 0.6056229\tbest: 0.6084702 (18)\ttotal: 1.05s\tremaining: 1.09s\n",
      "49:\ttest: 0.6056091\tbest: 0.6084702 (18)\ttotal: 1.06s\tremaining: 1.06s\n",
      "50:\ttest: 0.6056554\tbest: 0.6084702 (18)\ttotal: 1.08s\tremaining: 1.04s\n",
      "51:\ttest: 0.6053954\tbest: 0.6084702 (18)\ttotal: 1.1s\tremaining: 1.01s\n",
      "52:\ttest: 0.6053933\tbest: 0.6084702 (18)\ttotal: 1.12s\tremaining: 991ms\n",
      "53:\ttest: 0.6054327\tbest: 0.6084702 (18)\ttotal: 1.14s\tremaining: 969ms\n",
      "54:\ttest: 0.6056068\tbest: 0.6084702 (18)\ttotal: 1.21s\tremaining: 987ms\n",
      "55:\ttest: 0.6055576\tbest: 0.6084702 (18)\ttotal: 1.22s\tremaining: 962ms\n",
      "56:\ttest: 0.6055986\tbest: 0.6084702 (18)\ttotal: 1.31s\tremaining: 987ms\n",
      "57:\ttest: 0.6055930\tbest: 0.6084702 (18)\ttotal: 1.33s\tremaining: 961ms\n",
      "58:\ttest: 0.6056779\tbest: 0.6084702 (18)\ttotal: 1.36s\tremaining: 949ms\n",
      "59:\ttest: 0.6057205\tbest: 0.6084702 (18)\ttotal: 1.38s\tremaining: 922ms\n",
      "60:\ttest: 0.6057205\tbest: 0.6084702 (18)\ttotal: 1.4s\tremaining: 897ms\n",
      "61:\ttest: 0.6057205\tbest: 0.6084702 (18)\ttotal: 1.44s\tremaining: 881ms\n",
      "62:\ttest: 0.6057113\tbest: 0.6084702 (18)\ttotal: 1.46s\tremaining: 857ms\n",
      "63:\ttest: 0.6058278\tbest: 0.6084702 (18)\ttotal: 1.48s\tremaining: 831ms\n",
      "64:\ttest: 0.6058204\tbest: 0.6084702 (18)\ttotal: 1.5s\tremaining: 805ms\n",
      "65:\ttest: 0.6058204\tbest: 0.6084702 (18)\ttotal: 1.51s\tremaining: 777ms\n",
      "66:\ttest: 0.6058542\tbest: 0.6084702 (18)\ttotal: 1.53s\tremaining: 752ms\n",
      "67:\ttest: 0.6058967\tbest: 0.6084702 (18)\ttotal: 1.54s\tremaining: 727ms\n",
      "68:\ttest: 0.6056543\tbest: 0.6084702 (18)\ttotal: 1.56s\tremaining: 703ms\n",
      "69:\ttest: 0.6057254\tbest: 0.6084702 (18)\ttotal: 1.58s\tremaining: 678ms\n",
      "70:\ttest: 0.6057032\tbest: 0.6084702 (18)\ttotal: 1.6s\tremaining: 654ms\n",
      "71:\ttest: 0.6057182\tbest: 0.6084702 (18)\ttotal: 1.62s\tremaining: 629ms\n",
      "72:\ttest: 0.6052262\tbest: 0.6084702 (18)\ttotal: 1.63s\tremaining: 604ms\n",
      "73:\ttest: 0.6062732\tbest: 0.6084702 (18)\ttotal: 1.67s\tremaining: 587ms\n",
      "74:\ttest: 0.6063377\tbest: 0.6084702 (18)\ttotal: 1.68s\tremaining: 561ms\n",
      "75:\ttest: 0.6063354\tbest: 0.6084702 (18)\ttotal: 1.7s\tremaining: 536ms\n",
      "76:\ttest: 0.6063354\tbest: 0.6084702 (18)\ttotal: 1.73s\tremaining: 517ms\n",
      "77:\ttest: 0.6061338\tbest: 0.6084702 (18)\ttotal: 1.78s\tremaining: 502ms\n",
      "78:\ttest: 0.6062248\tbest: 0.6084702 (18)\ttotal: 1.81s\tremaining: 483ms\n",
      "79:\ttest: 0.6062557\tbest: 0.6084702 (18)\ttotal: 1.84s\tremaining: 460ms\n",
      "80:\ttest: 0.6062557\tbest: 0.6084702 (18)\ttotal: 1.86s\tremaining: 436ms\n",
      "81:\ttest: 0.6062557\tbest: 0.6084702 (18)\ttotal: 1.87s\tremaining: 411ms\n",
      "82:\ttest: 0.6062557\tbest: 0.6084702 (18)\ttotal: 1.9s\tremaining: 389ms\n",
      "83:\ttest: 0.6061679\tbest: 0.6084702 (18)\ttotal: 1.92s\tremaining: 366ms\n",
      "84:\ttest: 0.6061670\tbest: 0.6084702 (18)\ttotal: 1.94s\tremaining: 343ms\n",
      "85:\ttest: 0.6061053\tbest: 0.6084702 (18)\ttotal: 1.96s\tremaining: 319ms\n",
      "86:\ttest: 0.6061541\tbest: 0.6084702 (18)\ttotal: 1.98s\tremaining: 296ms\n",
      "87:\ttest: 0.6064215\tbest: 0.6084702 (18)\ttotal: 2s\tremaining: 272ms\n",
      "88:\ttest: 0.6065056\tbest: 0.6084702 (18)\ttotal: 2.01s\tremaining: 249ms\n",
      "89:\ttest: 0.6065081\tbest: 0.6084702 (18)\ttotal: 2.03s\tremaining: 226ms\n",
      "90:\ttest: 0.6065081\tbest: 0.6084702 (18)\ttotal: 2.05s\tremaining: 203ms\n",
      "91:\ttest: 0.6065004\tbest: 0.6084702 (18)\ttotal: 2.07s\tremaining: 180ms\n",
      "92:\ttest: 0.6062816\tbest: 0.6084702 (18)\ttotal: 2.1s\tremaining: 158ms\n",
      "93:\ttest: 0.6062645\tbest: 0.6084702 (18)\ttotal: 2.12s\tremaining: 135ms\n",
      "94:\ttest: 0.6062974\tbest: 0.6084702 (18)\ttotal: 2.13s\tremaining: 112ms\n",
      "95:\ttest: 0.6060465\tbest: 0.6084702 (18)\ttotal: 2.15s\tremaining: 89.8ms\n",
      "96:\ttest: 0.6059951\tbest: 0.6084702 (18)\ttotal: 2.17s\tremaining: 67.2ms\n",
      "97:\ttest: 0.6059957\tbest: 0.6084702 (18)\ttotal: 2.19s\tremaining: 44.7ms\n",
      "98:\ttest: 0.6059957\tbest: 0.6084702 (18)\ttotal: 2.21s\tremaining: 22.3ms\n",
      "99:\ttest: 0.6053166\tbest: 0.6084702 (18)\ttotal: 2.23s\tremaining: 0us\n",
      "\n",
      "bestTest = 0.6084701688\n",
      "bestIteration = 18\n",
      "\n",
      "Metric AUC is not calculated on train by default. To calculate this metric on train, add hints=skip_train~false to metric parameters.\n",
      "0:\ttest: 0.5881524\tbest: 0.5881524 (0)\ttotal: 22.2ms\tremaining: 2.64s\n",
      "1:\ttest: 0.5881524\tbest: 0.5881524 (0)\ttotal: 43.5ms\tremaining: 2.56s\n",
      "2:\ttest: 0.5960176\tbest: 0.5960176 (2)\ttotal: 61.5ms\tremaining: 2.4s\n",
      "3:\ttest: 0.5960176\tbest: 0.5960176 (2)\ttotal: 97.4ms\tremaining: 2.82s\n",
      "4:\ttest: 0.5960176\tbest: 0.5960176 (2)\ttotal: 119ms\tremaining: 2.74s\n",
      "5:\ttest: 0.5967603\tbest: 0.5967603 (5)\ttotal: 138ms\tremaining: 2.63s\n",
      "6:\ttest: 0.5992192\tbest: 0.5992192 (6)\ttotal: 157ms\tremaining: 2.53s\n",
      "7:\ttest: 0.5985119\tbest: 0.5992192 (6)\ttotal: 178ms\tremaining: 2.49s\n",
      "8:\ttest: 0.5993843\tbest: 0.5993843 (8)\ttotal: 196ms\tremaining: 2.42s\n",
      "9:\ttest: 0.5985216\tbest: 0.5993843 (8)\ttotal: 215ms\tremaining: 2.36s\n",
      "10:\ttest: 0.5986372\tbest: 0.5993843 (8)\ttotal: 232ms\tremaining: 2.3s\n",
      "11:\ttest: 0.5991389\tbest: 0.5993843 (8)\ttotal: 251ms\tremaining: 2.25s\n",
      "12:\ttest: 0.5991442\tbest: 0.5993843 (8)\ttotal: 268ms\tremaining: 2.2s\n",
      "13:\ttest: 0.6012270\tbest: 0.6012270 (13)\ttotal: 287ms\tremaining: 2.17s\n",
      "14:\ttest: 0.6015015\tbest: 0.6015015 (14)\ttotal: 316ms\tremaining: 2.21s\n",
      "15:\ttest: 0.6017419\tbest: 0.6017419 (15)\ttotal: 347ms\tremaining: 2.25s\n",
      "16:\ttest: 0.6016572\tbest: 0.6017419 (15)\ttotal: 365ms\tremaining: 2.21s\n",
      "17:\ttest: 0.6016572\tbest: 0.6017419 (15)\ttotal: 378ms\tremaining: 2.14s\n",
      "18:\ttest: 0.6014468\tbest: 0.6017419 (15)\ttotal: 395ms\tremaining: 2.1s\n",
      "19:\ttest: 0.6042089\tbest: 0.6042089 (19)\ttotal: 411ms\tremaining: 2.05s\n",
      "20:\ttest: 0.6039595\tbest: 0.6042089 (19)\ttotal: 430ms\tremaining: 2.03s\n",
      "21:\ttest: 0.6039595\tbest: 0.6042089 (19)\ttotal: 443ms\tremaining: 1.97s\n",
      "22:\ttest: 0.6041571\tbest: 0.6042089 (19)\ttotal: 462ms\tremaining: 1.95s\n",
      "23:\ttest: 0.6044728\tbest: 0.6044728 (23)\ttotal: 481ms\tremaining: 1.92s\n",
      "24:\ttest: 0.6053414\tbest: 0.6053414 (24)\ttotal: 500ms\tremaining: 1.9s\n",
      "25:\ttest: 0.6053469\tbest: 0.6053469 (25)\ttotal: 518ms\tremaining: 1.87s\n",
      "26:\ttest: 0.6054160\tbest: 0.6054160 (26)\ttotal: 558ms\tremaining: 1.92s\n",
      "27:\ttest: 0.6052969\tbest: 0.6054160 (26)\ttotal: 579ms\tremaining: 1.9s\n",
      "28:\ttest: 0.6052865\tbest: 0.6054160 (26)\ttotal: 597ms\tremaining: 1.87s\n",
      "29:\ttest: 0.6052242\tbest: 0.6054160 (26)\ttotal: 616ms\tremaining: 1.85s\n",
      "30:\ttest: 0.6051702\tbest: 0.6054160 (26)\ttotal: 629ms\tremaining: 1.8s\n",
      "31:\ttest: 0.6056834\tbest: 0.6056834 (31)\ttotal: 648ms\tremaining: 1.78s\n",
      "32:\ttest: 0.6057389\tbest: 0.6057389 (32)\ttotal: 665ms\tremaining: 1.75s\n",
      "33:\ttest: 0.6057389\tbest: 0.6057389 (32)\ttotal: 684ms\tremaining: 1.73s\n",
      "34:\ttest: 0.6060138\tbest: 0.6060138 (34)\ttotal: 697ms\tremaining: 1.69s\n",
      "35:\ttest: 0.6062311\tbest: 0.6062311 (35)\ttotal: 715ms\tremaining: 1.67s\n",
      "36:\ttest: 0.6062311\tbest: 0.6062311 (35)\ttotal: 741ms\tremaining: 1.66s\n",
      "37:\ttest: 0.6062098\tbest: 0.6062311 (35)\ttotal: 768ms\tremaining: 1.66s\n",
      "38:\ttest: 0.6062137\tbest: 0.6062311 (35)\ttotal: 789ms\tremaining: 1.64s\n",
      "39:\ttest: 0.6060183\tbest: 0.6062311 (35)\ttotal: 805ms\tremaining: 1.61s\n",
      "40:\ttest: 0.6060226\tbest: 0.6062311 (35)\ttotal: 824ms\tremaining: 1.59s\n",
      "41:\ttest: 0.6060226\tbest: 0.6062311 (35)\ttotal: 837ms\tremaining: 1.55s\n",
      "42:\ttest: 0.6070452\tbest: 0.6070452 (42)\ttotal: 855ms\tremaining: 1.53s\n",
      "43:\ttest: 0.6070397\tbest: 0.6070452 (42)\ttotal: 874ms\tremaining: 1.51s\n",
      "44:\ttest: 0.6070377\tbest: 0.6070452 (42)\ttotal: 888ms\tremaining: 1.48s\n",
      "45:\ttest: 0.6070377\tbest: 0.6070452 (42)\ttotal: 900ms\tremaining: 1.45s\n",
      "46:\ttest: 0.6070377\tbest: 0.6070452 (42)\ttotal: 912ms\tremaining: 1.42s\n",
      "47:\ttest: 0.6070513\tbest: 0.6070513 (47)\ttotal: 930ms\tremaining: 1.4s\n",
      "48:\ttest: 0.6073358\tbest: 0.6073358 (48)\ttotal: 957ms\tremaining: 1.39s\n",
      "49:\ttest: 0.6072491\tbest: 0.6073358 (48)\ttotal: 982ms\tremaining: 1.37s\n",
      "50:\ttest: 0.6071642\tbest: 0.6073358 (48)\ttotal: 1s\tremaining: 1.35s\n",
      "51:\ttest: 0.6071503\tbest: 0.6073358 (48)\ttotal: 1.02s\tremaining: 1.33s\n",
      "52:\ttest: 0.6071065\tbest: 0.6073358 (48)\ttotal: 1.03s\tremaining: 1.31s\n",
      "53:\ttest: 0.6071065\tbest: 0.6073358 (48)\ttotal: 1.05s\tremaining: 1.28s\n",
      "54:\ttest: 0.6069722\tbest: 0.6073358 (48)\ttotal: 1.07s\tremaining: 1.26s\n",
      "55:\ttest: 0.6071837\tbest: 0.6073358 (48)\ttotal: 1.09s\tremaining: 1.24s\n",
      "56:\ttest: 0.6075419\tbest: 0.6075419 (56)\ttotal: 1.11s\tremaining: 1.22s\n",
      "57:\ttest: 0.6075295\tbest: 0.6075419 (56)\ttotal: 1.13s\tremaining: 1.2s\n",
      "58:\ttest: 0.6074946\tbest: 0.6075419 (56)\ttotal: 1.14s\tremaining: 1.18s\n",
      "59:\ttest: 0.6075947\tbest: 0.6075947 (59)\ttotal: 1.17s\tremaining: 1.17s\n",
      "60:\ttest: 0.6076462\tbest: 0.6076462 (60)\ttotal: 1.19s\tremaining: 1.16s\n",
      "61:\ttest: 0.6076482\tbest: 0.6076482 (61)\ttotal: 1.21s\tremaining: 1.14s\n",
      "62:\ttest: 0.6076482\tbest: 0.6076482 (61)\ttotal: 1.23s\tremaining: 1.11s\n",
      "63:\ttest: 0.6076994\tbest: 0.6076994 (63)\ttotal: 1.25s\tremaining: 1.09s\n",
      "64:\ttest: 0.6077057\tbest: 0.6077057 (64)\ttotal: 1.27s\tremaining: 1.07s\n",
      "65:\ttest: 0.6076861\tbest: 0.6077057 (64)\ttotal: 1.29s\tremaining: 1.05s\n",
      "66:\ttest: 0.6077132\tbest: 0.6077132 (66)\ttotal: 1.3s\tremaining: 1.03s\n",
      "67:\ttest: 0.6075243\tbest: 0.6077132 (66)\ttotal: 1.32s\tremaining: 1.01s\n",
      "68:\ttest: 0.6075108\tbest: 0.6077132 (66)\ttotal: 1.34s\tremaining: 992ms\n",
      "69:\ttest: 0.6075587\tbest: 0.6077132 (66)\ttotal: 1.36s\tremaining: 972ms\n",
      "70:\ttest: 0.6075658\tbest: 0.6077132 (66)\ttotal: 1.39s\tremaining: 958ms\n",
      "71:\ttest: 0.6076034\tbest: 0.6077132 (66)\ttotal: 1.41s\tremaining: 942ms\n",
      "72:\ttest: 0.6075710\tbest: 0.6077132 (66)\ttotal: 1.43s\tremaining: 922ms\n",
      "73:\ttest: 0.6075993\tbest: 0.6077132 (66)\ttotal: 1.45s\tremaining: 901ms\n",
      "74:\ttest: 0.6074304\tbest: 0.6077132 (66)\ttotal: 1.47s\tremaining: 881ms\n",
      "75:\ttest: 0.6074316\tbest: 0.6077132 (66)\ttotal: 1.48s\tremaining: 859ms\n",
      "76:\ttest: 0.6073761\tbest: 0.6077132 (66)\ttotal: 1.5s\tremaining: 838ms\n",
      "77:\ttest: 0.6073754\tbest: 0.6077132 (66)\ttotal: 1.52s\tremaining: 818ms\n",
      "78:\ttest: 0.6074463\tbest: 0.6077132 (66)\ttotal: 1.54s\tremaining: 799ms\n",
      "79:\ttest: 0.6073671\tbest: 0.6077132 (66)\ttotal: 1.56s\tremaining: 779ms\n",
      "80:\ttest: 0.6073671\tbest: 0.6077132 (66)\ttotal: 1.57s\tremaining: 755ms\n",
      "81:\ttest: 0.6076238\tbest: 0.6077132 (66)\ttotal: 1.59s\tremaining: 736ms\n",
      "82:\ttest: 0.6076238\tbest: 0.6077132 (66)\ttotal: 1.62s\tremaining: 721ms\n",
      "83:\ttest: 0.6078986\tbest: 0.6078986 (83)\ttotal: 1.64s\tremaining: 702ms\n",
      "84:\ttest: 0.6078986\tbest: 0.6078986 (83)\ttotal: 1.65s\tremaining: 681ms\n",
      "85:\ttest: 0.6078982\tbest: 0.6078986 (83)\ttotal: 1.67s\tremaining: 661ms\n",
      "86:\ttest: 0.6078982\tbest: 0.6078986 (83)\ttotal: 1.69s\tremaining: 641ms\n",
      "87:\ttest: 0.6079144\tbest: 0.6079144 (87)\ttotal: 1.71s\tremaining: 622ms\n",
      "88:\ttest: 0.6078449\tbest: 0.6079144 (87)\ttotal: 1.74s\tremaining: 605ms\n",
      "89:\ttest: 0.6078449\tbest: 0.6079144 (87)\ttotal: 1.76s\tremaining: 588ms\n",
      "90:\ttest: 0.6075008\tbest: 0.6079144 (87)\ttotal: 1.79s\tremaining: 571ms\n",
      "91:\ttest: 0.6074963\tbest: 0.6079144 (87)\ttotal: 1.8s\tremaining: 549ms\n",
      "92:\ttest: 0.6074962\tbest: 0.6079144 (87)\ttotal: 1.83s\tremaining: 532ms\n",
      "93:\ttest: 0.6073678\tbest: 0.6079144 (87)\ttotal: 1.86s\tremaining: 514ms\n",
      "94:\ttest: 0.6073230\tbest: 0.6079144 (87)\ttotal: 1.88s\tremaining: 495ms\n",
      "95:\ttest: 0.6073230\tbest: 0.6079144 (87)\ttotal: 1.89s\tremaining: 474ms\n",
      "96:\ttest: 0.6073144\tbest: 0.6079144 (87)\ttotal: 1.91s\tremaining: 453ms\n",
      "97:\ttest: 0.6073144\tbest: 0.6079144 (87)\ttotal: 1.93s\tremaining: 433ms\n",
      "98:\ttest: 0.6073144\tbest: 0.6079144 (87)\ttotal: 1.94s\tremaining: 412ms\n",
      "99:\ttest: 0.6073144\tbest: 0.6079144 (87)\ttotal: 1.96s\tremaining: 393ms\n",
      "100:\ttest: 0.6074726\tbest: 0.6079144 (87)\ttotal: 1.98s\tremaining: 373ms\n",
      "101:\ttest: 0.6074926\tbest: 0.6079144 (87)\ttotal: 2s\tremaining: 353ms\n",
      "102:\ttest: 0.6074926\tbest: 0.6079144 (87)\ttotal: 2.01s\tremaining: 332ms\n",
      "103:\ttest: 0.6066563\tbest: 0.6079144 (87)\ttotal: 2.03s\tremaining: 313ms\n",
      "104:\ttest: 0.6066563\tbest: 0.6079144 (87)\ttotal: 2.07s\tremaining: 295ms\n",
      "105:\ttest: 0.6065973\tbest: 0.6079144 (87)\ttotal: 2.09s\tremaining: 276ms\n",
      "106:\ttest: 0.6067876\tbest: 0.6079144 (87)\ttotal: 2.1s\tremaining: 255ms\n",
      "107:\ttest: 0.6069075\tbest: 0.6079144 (87)\ttotal: 2.12s\tremaining: 236ms\n",
      "108:\ttest: 0.6068929\tbest: 0.6079144 (87)\ttotal: 2.15s\tremaining: 217ms\n",
      "109:\ttest: 0.6068929\tbest: 0.6079144 (87)\ttotal: 2.2s\tremaining: 200ms\n",
      "110:\ttest: 0.6068929\tbest: 0.6079144 (87)\ttotal: 2.25s\tremaining: 182ms\n",
      "111:\ttest: 0.6069483\tbest: 0.6079144 (87)\ttotal: 2.3s\tremaining: 165ms\n",
      "112:\ttest: 0.6069483\tbest: 0.6079144 (87)\ttotal: 2.32s\tremaining: 144ms\n",
      "113:\ttest: 0.6068258\tbest: 0.6079144 (87)\ttotal: 2.34s\tremaining: 123ms\n",
      "114:\ttest: 0.6068506\tbest: 0.6079144 (87)\ttotal: 2.36s\tremaining: 103ms\n",
      "115:\ttest: 0.6068506\tbest: 0.6079144 (87)\ttotal: 2.38s\tremaining: 82ms\n",
      "116:\ttest: 0.6068411\tbest: 0.6079144 (87)\ttotal: 2.4s\tremaining: 61.5ms\n",
      "117:\ttest: 0.6066987\tbest: 0.6079144 (87)\ttotal: 2.41s\tremaining: 40.9ms\n",
      "118:\ttest: 0.6068522\tbest: 0.6079144 (87)\ttotal: 2.43s\tremaining: 20.4ms\n",
      "119:\ttest: 0.6068646\tbest: 0.6079144 (87)\ttotal: 2.45s\tremaining: 0us\n",
      "\n",
      "bestTest = 0.6079144135\n",
      "bestIteration = 87\n",
      "\n",
      "Metric AUC is not calculated on train by default. To calculate this metric on train, add hints=skip_train~false to metric parameters.\n",
      "0:\ttest: 0.5881524\tbest: 0.5881524 (0)\ttotal: 23.7ms\tremaining: 2.82s\n",
      "1:\ttest: 0.5881524\tbest: 0.5881524 (0)\ttotal: 44.9ms\tremaining: 2.65s\n",
      "2:\ttest: 0.5960176\tbest: 0.5960176 (2)\ttotal: 81.4ms\tremaining: 3.17s\n",
      "3:\ttest: 0.5960176\tbest: 0.5960176 (2)\ttotal: 103ms\tremaining: 3s\n",
      "4:\ttest: 0.5960176\tbest: 0.5960176 (2)\ttotal: 120ms\tremaining: 2.75s\n",
      "5:\ttest: 0.5960176\tbest: 0.5960176 (2)\ttotal: 139ms\tremaining: 2.64s\n",
      "6:\ttest: 0.5960176\tbest: 0.5960176 (2)\ttotal: 154ms\tremaining: 2.48s\n",
      "7:\ttest: 0.5960176\tbest: 0.5960176 (2)\ttotal: 167ms\tremaining: 2.33s\n",
      "8:\ttest: 0.6044034\tbest: 0.6044034 (8)\ttotal: 185ms\tremaining: 2.28s\n",
      "9:\ttest: 0.6044034\tbest: 0.6044034 (8)\ttotal: 200ms\tremaining: 2.2s\n",
      "10:\ttest: 0.6044909\tbest: 0.6044909 (10)\ttotal: 219ms\tremaining: 2.17s\n",
      "11:\ttest: 0.6060393\tbest: 0.6060393 (11)\ttotal: 238ms\tremaining: 2.15s\n",
      "12:\ttest: 0.6060393\tbest: 0.6060393 (11)\ttotal: 251ms\tremaining: 2.07s\n",
      "13:\ttest: 0.6076481\tbest: 0.6076481 (13)\ttotal: 270ms\tremaining: 2.04s\n",
      "14:\ttest: 0.6075767\tbest: 0.6076481 (13)\ttotal: 291ms\tremaining: 2.04s\n",
      "15:\ttest: 0.6076549\tbest: 0.6076549 (15)\ttotal: 326ms\tremaining: 2.12s\n",
      "16:\ttest: 0.6084129\tbest: 0.6084129 (16)\ttotal: 347ms\tremaining: 2.1s\n",
      "17:\ttest: 0.6084177\tbest: 0.6084177 (17)\ttotal: 362ms\tremaining: 2.05s\n",
      "18:\ttest: 0.6084702\tbest: 0.6084702 (18)\ttotal: 380ms\tremaining: 2.02s\n",
      "19:\ttest: 0.6083618\tbest: 0.6084702 (18)\ttotal: 398ms\tremaining: 1.99s\n",
      "20:\ttest: 0.6083614\tbest: 0.6084702 (18)\ttotal: 416ms\tremaining: 1.96s\n",
      "21:\ttest: 0.6083614\tbest: 0.6084702 (18)\ttotal: 431ms\tremaining: 1.92s\n",
      "22:\ttest: 0.6083232\tbest: 0.6084702 (18)\ttotal: 446ms\tremaining: 1.88s\n",
      "23:\ttest: 0.6080665\tbest: 0.6084702 (18)\ttotal: 464ms\tremaining: 1.86s\n",
      "24:\ttest: 0.6080665\tbest: 0.6084702 (18)\ttotal: 483ms\tremaining: 1.83s\n",
      "25:\ttest: 0.6081841\tbest: 0.6084702 (18)\ttotal: 534ms\tremaining: 1.93s\n",
      "26:\ttest: 0.6081841\tbest: 0.6084702 (18)\ttotal: 552ms\tremaining: 1.9s\n",
      "27:\ttest: 0.6071573\tbest: 0.6084702 (18)\ttotal: 574ms\tremaining: 1.89s\n",
      "28:\ttest: 0.6057668\tbest: 0.6084702 (18)\ttotal: 594ms\tremaining: 1.86s\n",
      "29:\ttest: 0.6055857\tbest: 0.6084702 (18)\ttotal: 616ms\tremaining: 1.85s\n",
      "30:\ttest: 0.6055856\tbest: 0.6084702 (18)\ttotal: 636ms\tremaining: 1.83s\n",
      "31:\ttest: 0.6048657\tbest: 0.6084702 (18)\ttotal: 656ms\tremaining: 1.8s\n",
      "32:\ttest: 0.6048491\tbest: 0.6084702 (18)\ttotal: 678ms\tremaining: 1.79s\n",
      "33:\ttest: 0.6046868\tbest: 0.6084702 (18)\ttotal: 697ms\tremaining: 1.76s\n",
      "34:\ttest: 0.6044830\tbest: 0.6084702 (18)\ttotal: 718ms\tremaining: 1.74s\n",
      "35:\ttest: 0.6044442\tbest: 0.6084702 (18)\ttotal: 742ms\tremaining: 1.73s\n",
      "36:\ttest: 0.6044434\tbest: 0.6084702 (18)\ttotal: 777ms\tremaining: 1.74s\n",
      "37:\ttest: 0.6047385\tbest: 0.6084702 (18)\ttotal: 798ms\tremaining: 1.72s\n",
      "38:\ttest: 0.6046927\tbest: 0.6084702 (18)\ttotal: 817ms\tremaining: 1.7s\n",
      "39:\ttest: 0.6046949\tbest: 0.6084702 (18)\ttotal: 835ms\tremaining: 1.67s\n",
      "40:\ttest: 0.6052004\tbest: 0.6084702 (18)\ttotal: 850ms\tremaining: 1.64s\n",
      "41:\ttest: 0.6052004\tbest: 0.6084702 (18)\ttotal: 863ms\tremaining: 1.6s\n",
      "42:\ttest: 0.6051872\tbest: 0.6084702 (18)\ttotal: 880ms\tremaining: 1.57s\n",
      "43:\ttest: 0.6051872\tbest: 0.6084702 (18)\ttotal: 893ms\tremaining: 1.54s\n",
      "44:\ttest: 0.6053433\tbest: 0.6084702 (18)\ttotal: 911ms\tremaining: 1.52s\n",
      "45:\ttest: 0.6053426\tbest: 0.6084702 (18)\ttotal: 927ms\tremaining: 1.49s\n",
      "46:\ttest: 0.6053974\tbest: 0.6084702 (18)\ttotal: 948ms\tremaining: 1.47s\n",
      "47:\ttest: 0.6057924\tbest: 0.6084702 (18)\ttotal: 976ms\tremaining: 1.46s\n",
      "48:\ttest: 0.6056229\tbest: 0.6084702 (18)\ttotal: 994ms\tremaining: 1.44s\n",
      "49:\ttest: 0.6056091\tbest: 0.6084702 (18)\ttotal: 1.01s\tremaining: 1.41s\n",
      "50:\ttest: 0.6056554\tbest: 0.6084702 (18)\ttotal: 1.02s\tremaining: 1.39s\n",
      "51:\ttest: 0.6053954\tbest: 0.6084702 (18)\ttotal: 1.04s\tremaining: 1.36s\n",
      "52:\ttest: 0.6053933\tbest: 0.6084702 (18)\ttotal: 1.06s\tremaining: 1.34s\n",
      "53:\ttest: 0.6054327\tbest: 0.6084702 (18)\ttotal: 1.08s\tremaining: 1.32s\n",
      "54:\ttest: 0.6056068\tbest: 0.6084702 (18)\ttotal: 1.1s\tremaining: 1.3s\n",
      "55:\ttest: 0.6055576\tbest: 0.6084702 (18)\ttotal: 1.12s\tremaining: 1.28s\n",
      "56:\ttest: 0.6055986\tbest: 0.6084702 (18)\ttotal: 1.14s\tremaining: 1.26s\n",
      "57:\ttest: 0.6055930\tbest: 0.6084702 (18)\ttotal: 1.17s\tremaining: 1.25s\n",
      "58:\ttest: 0.6056779\tbest: 0.6084702 (18)\ttotal: 1.19s\tremaining: 1.23s\n",
      "59:\ttest: 0.6057205\tbest: 0.6084702 (18)\ttotal: 1.21s\tremaining: 1.21s\n",
      "60:\ttest: 0.6057205\tbest: 0.6084702 (18)\ttotal: 1.22s\tremaining: 1.18s\n",
      "61:\ttest: 0.6057205\tbest: 0.6084702 (18)\ttotal: 1.24s\tremaining: 1.16s\n",
      "62:\ttest: 0.6057113\tbest: 0.6084702 (18)\ttotal: 1.26s\tremaining: 1.14s\n",
      "63:\ttest: 0.6058278\tbest: 0.6084702 (18)\ttotal: 1.28s\tremaining: 1.12s\n",
      "64:\ttest: 0.6058204\tbest: 0.6084702 (18)\ttotal: 1.29s\tremaining: 1.09s\n",
      "65:\ttest: 0.6058204\tbest: 0.6084702 (18)\ttotal: 1.31s\tremaining: 1.07s\n",
      "66:\ttest: 0.6058542\tbest: 0.6084702 (18)\ttotal: 1.32s\tremaining: 1.05s\n",
      "67:\ttest: 0.6058967\tbest: 0.6084702 (18)\ttotal: 1.34s\tremaining: 1.03s\n",
      "68:\ttest: 0.6056543\tbest: 0.6084702 (18)\ttotal: 1.36s\tremaining: 1.01s\n",
      "69:\ttest: 0.6057254\tbest: 0.6084702 (18)\ttotal: 1.39s\tremaining: 995ms\n",
      "70:\ttest: 0.6057032\tbest: 0.6084702 (18)\ttotal: 1.41s\tremaining: 976ms\n",
      "71:\ttest: 0.6057182\tbest: 0.6084702 (18)\ttotal: 1.43s\tremaining: 953ms\n",
      "72:\ttest: 0.6052262\tbest: 0.6084702 (18)\ttotal: 1.45s\tremaining: 931ms\n",
      "73:\ttest: 0.6062732\tbest: 0.6084702 (18)\ttotal: 1.47s\tremaining: 912ms\n",
      "74:\ttest: 0.6063377\tbest: 0.6084702 (18)\ttotal: 1.48s\tremaining: 888ms\n",
      "75:\ttest: 0.6063354\tbest: 0.6084702 (18)\ttotal: 1.5s\tremaining: 867ms\n",
      "76:\ttest: 0.6063354\tbest: 0.6084702 (18)\ttotal: 1.51s\tremaining: 843ms\n",
      "77:\ttest: 0.6061338\tbest: 0.6084702 (18)\ttotal: 1.53s\tremaining: 823ms\n",
      "78:\ttest: 0.6062248\tbest: 0.6084702 (18)\ttotal: 1.55s\tremaining: 803ms\n",
      "79:\ttest: 0.6062557\tbest: 0.6084702 (18)\ttotal: 1.57s\tremaining: 784ms\n",
      "80:\ttest: 0.6062557\tbest: 0.6084702 (18)\ttotal: 1.58s\tremaining: 763ms\n",
      "81:\ttest: 0.6062557\tbest: 0.6084702 (18)\ttotal: 1.6s\tremaining: 741ms\n",
      "82:\ttest: 0.6062557\tbest: 0.6084702 (18)\ttotal: 1.62s\tremaining: 723ms\n",
      "83:\ttest: 0.6061679\tbest: 0.6084702 (18)\ttotal: 1.64s\tremaining: 704ms\n",
      "84:\ttest: 0.6061670\tbest: 0.6084702 (18)\ttotal: 1.66s\tremaining: 684ms\n",
      "85:\ttest: 0.6061053\tbest: 0.6084702 (18)\ttotal: 1.68s\tremaining: 666ms\n",
      "86:\ttest: 0.6061541\tbest: 0.6084702 (18)\ttotal: 1.7s\tremaining: 646ms\n",
      "87:\ttest: 0.6064215\tbest: 0.6084702 (18)\ttotal: 1.72s\tremaining: 627ms\n",
      "88:\ttest: 0.6065056\tbest: 0.6084702 (18)\ttotal: 1.76s\tremaining: 612ms\n",
      "89:\ttest: 0.6065081\tbest: 0.6084702 (18)\ttotal: 1.77s\tremaining: 591ms\n",
      "90:\ttest: 0.6065081\tbest: 0.6084702 (18)\ttotal: 1.84s\tremaining: 585ms\n",
      "91:\ttest: 0.6065004\tbest: 0.6084702 (18)\ttotal: 1.87s\tremaining: 568ms\n",
      "92:\ttest: 0.6062816\tbest: 0.6084702 (18)\ttotal: 1.88s\tremaining: 547ms\n",
      "93:\ttest: 0.6062645\tbest: 0.6084702 (18)\ttotal: 1.9s\tremaining: 526ms\n",
      "94:\ttest: 0.6062974\tbest: 0.6084702 (18)\ttotal: 1.91s\tremaining: 504ms\n",
      "95:\ttest: 0.6060465\tbest: 0.6084702 (18)\ttotal: 1.93s\tremaining: 484ms\n",
      "96:\ttest: 0.6059951\tbest: 0.6084702 (18)\ttotal: 1.95s\tremaining: 463ms\n",
      "97:\ttest: 0.6059957\tbest: 0.6084702 (18)\ttotal: 1.97s\tremaining: 443ms\n",
      "98:\ttest: 0.6059957\tbest: 0.6084702 (18)\ttotal: 1.99s\tremaining: 422ms\n",
      "99:\ttest: 0.6053166\tbest: 0.6084702 (18)\ttotal: 2.01s\tremaining: 402ms\n",
      "100:\ttest: 0.6052948\tbest: 0.6084702 (18)\ttotal: 2.03s\tremaining: 382ms\n",
      "101:\ttest: 0.6052948\tbest: 0.6084702 (18)\ttotal: 2.04s\tremaining: 360ms\n",
      "102:\ttest: 0.6052716\tbest: 0.6084702 (18)\ttotal: 2.07s\tremaining: 342ms\n",
      "103:\ttest: 0.6054167\tbest: 0.6084702 (18)\ttotal: 2.09s\tremaining: 322ms\n",
      "104:\ttest: 0.6055680\tbest: 0.6084702 (18)\ttotal: 2.11s\tremaining: 302ms\n",
      "105:\ttest: 0.6053570\tbest: 0.6084702 (18)\ttotal: 2.13s\tremaining: 282ms\n",
      "106:\ttest: 0.6053570\tbest: 0.6084702 (18)\ttotal: 2.16s\tremaining: 263ms\n",
      "107:\ttest: 0.6052025\tbest: 0.6084702 (18)\ttotal: 2.18s\tremaining: 242ms\n",
      "108:\ttest: 0.6052136\tbest: 0.6084702 (18)\ttotal: 2.2s\tremaining: 222ms\n",
      "109:\ttest: 0.6051569\tbest: 0.6084702 (18)\ttotal: 2.21s\tremaining: 201ms\n",
      "110:\ttest: 0.6051983\tbest: 0.6084702 (18)\ttotal: 2.23s\tremaining: 181ms\n",
      "111:\ttest: 0.6051983\tbest: 0.6084702 (18)\ttotal: 2.26s\tremaining: 161ms\n",
      "112:\ttest: 0.6052181\tbest: 0.6084702 (18)\ttotal: 2.28s\tremaining: 141ms\n",
      "113:\ttest: 0.6052413\tbest: 0.6084702 (18)\ttotal: 2.3s\tremaining: 121ms\n",
      "114:\ttest: 0.6051279\tbest: 0.6084702 (18)\ttotal: 2.33s\tremaining: 101ms\n",
      "115:\ttest: 0.6051100\tbest: 0.6084702 (18)\ttotal: 2.35s\tremaining: 81.1ms\n",
      "116:\ttest: 0.6051941\tbest: 0.6084702 (18)\ttotal: 2.37s\tremaining: 60.8ms\n",
      "117:\ttest: 0.6051849\tbest: 0.6084702 (18)\ttotal: 2.39s\tremaining: 40.5ms\n",
      "118:\ttest: 0.6051849\tbest: 0.6084702 (18)\ttotal: 2.41s\tremaining: 20.2ms\n",
      "119:\ttest: 0.6051838\tbest: 0.6084702 (18)\ttotal: 2.42s\tremaining: 0us\n",
      "\n",
      "bestTest = 0.6084701688\n",
      "bestIteration = 18\n",
      "\n",
      "Metric AUC is not calculated on train by default. To calculate this metric on train, add hints=skip_train~false to metric parameters.\n",
      "0:\ttest: 0.5881524\tbest: 0.5881524 (0)\ttotal: 23.2ms\tremaining: 2.3s\n",
      "1:\ttest: 0.5956036\tbest: 0.5956036 (1)\ttotal: 69.5ms\tremaining: 3.4s\n",
      "2:\ttest: 0.5983726\tbest: 0.5983726 (2)\ttotal: 97.2ms\tremaining: 3.14s\n",
      "3:\ttest: 0.6000030\tbest: 0.6000030 (3)\ttotal: 118ms\tremaining: 2.83s\n",
      "4:\ttest: 0.6031735\tbest: 0.6031735 (4)\ttotal: 139ms\tremaining: 2.64s\n",
      "5:\ttest: 0.6033898\tbest: 0.6033898 (5)\ttotal: 160ms\tremaining: 2.5s\n",
      "6:\ttest: 0.6030230\tbest: 0.6033898 (5)\ttotal: 180ms\tremaining: 2.39s\n",
      "7:\ttest: 0.6030205\tbest: 0.6033898 (5)\ttotal: 201ms\tremaining: 2.31s\n",
      "8:\ttest: 0.6054988\tbest: 0.6054988 (8)\ttotal: 222ms\tremaining: 2.24s\n",
      "9:\ttest: 0.6056834\tbest: 0.6056834 (9)\ttotal: 243ms\tremaining: 2.18s\n",
      "10:\ttest: 0.6056834\tbest: 0.6056834 (9)\ttotal: 256ms\tremaining: 2.07s\n",
      "11:\ttest: 0.6053476\tbest: 0.6056834 (9)\ttotal: 288ms\tremaining: 2.11s\n",
      "12:\ttest: 0.6051638\tbest: 0.6056834 (9)\ttotal: 309ms\tremaining: 2.07s\n",
      "13:\ttest: 0.6049673\tbest: 0.6056834 (9)\ttotal: 332ms\tremaining: 2.04s\n",
      "14:\ttest: 0.6049204\tbest: 0.6056834 (9)\ttotal: 353ms\tremaining: 2s\n",
      "15:\ttest: 0.6049112\tbest: 0.6056834 (9)\ttotal: 373ms\tremaining: 1.96s\n",
      "16:\ttest: 0.6047674\tbest: 0.6056834 (9)\ttotal: 389ms\tremaining: 1.9s\n",
      "17:\ttest: 0.6047674\tbest: 0.6056834 (9)\ttotal: 404ms\tremaining: 1.84s\n",
      "18:\ttest: 0.6047674\tbest: 0.6056834 (9)\ttotal: 420ms\tremaining: 1.79s\n",
      "19:\ttest: 0.6042447\tbest: 0.6056834 (9)\ttotal: 441ms\tremaining: 1.76s\n",
      "20:\ttest: 0.6042447\tbest: 0.6056834 (9)\ttotal: 453ms\tremaining: 1.7s\n",
      "21:\ttest: 0.6045133\tbest: 0.6056834 (9)\ttotal: 474ms\tremaining: 1.68s\n",
      "22:\ttest: 0.6045226\tbest: 0.6056834 (9)\ttotal: 487ms\tremaining: 1.63s\n",
      "23:\ttest: 0.6045133\tbest: 0.6056834 (9)\ttotal: 529ms\tremaining: 1.67s\n",
      "24:\ttest: 0.6034554\tbest: 0.6056834 (9)\ttotal: 549ms\tremaining: 1.65s\n",
      "25:\ttest: 0.6034583\tbest: 0.6056834 (9)\ttotal: 566ms\tremaining: 1.61s\n",
      "26:\ttest: 0.6027452\tbest: 0.6056834 (9)\ttotal: 587ms\tremaining: 1.59s\n",
      "27:\ttest: 0.6033429\tbest: 0.6056834 (9)\ttotal: 608ms\tremaining: 1.56s\n",
      "28:\ttest: 0.6060257\tbest: 0.6060257 (28)\ttotal: 628ms\tremaining: 1.54s\n",
      "29:\ttest: 0.6060171\tbest: 0.6060257 (28)\ttotal: 642ms\tremaining: 1.5s\n",
      "30:\ttest: 0.6062581\tbest: 0.6062581 (30)\ttotal: 663ms\tremaining: 1.48s\n",
      "31:\ttest: 0.6062581\tbest: 0.6062581 (30)\ttotal: 676ms\tremaining: 1.44s\n",
      "32:\ttest: 0.6062581\tbest: 0.6062581 (30)\ttotal: 689ms\tremaining: 1.4s\n",
      "33:\ttest: 0.6062433\tbest: 0.6062581 (30)\ttotal: 703ms\tremaining: 1.36s\n",
      "34:\ttest: 0.6076821\tbest: 0.6076821 (34)\ttotal: 724ms\tremaining: 1.34s\n",
      "35:\ttest: 0.6076821\tbest: 0.6076821 (34)\ttotal: 752ms\tremaining: 1.34s\n",
      "36:\ttest: 0.6075462\tbest: 0.6076821 (34)\ttotal: 782ms\tremaining: 1.33s\n",
      "37:\ttest: 0.6075462\tbest: 0.6076821 (34)\ttotal: 797ms\tremaining: 1.3s\n",
      "38:\ttest: 0.6072751\tbest: 0.6076821 (34)\ttotal: 818ms\tremaining: 1.28s\n",
      "39:\ttest: 0.6071919\tbest: 0.6076821 (34)\ttotal: 834ms\tremaining: 1.25s\n",
      "40:\ttest: 0.6073190\tbest: 0.6076821 (34)\ttotal: 854ms\tremaining: 1.23s\n",
      "41:\ttest: 0.6073234\tbest: 0.6076821 (34)\ttotal: 870ms\tremaining: 1.2s\n",
      "42:\ttest: 0.6071203\tbest: 0.6076821 (34)\ttotal: 887ms\tremaining: 1.18s\n",
      "43:\ttest: 0.6071203\tbest: 0.6076821 (34)\ttotal: 908ms\tremaining: 1.16s\n",
      "44:\ttest: 0.6070319\tbest: 0.6076821 (34)\ttotal: 929ms\tremaining: 1.14s\n",
      "45:\ttest: 0.6065154\tbest: 0.6076821 (34)\ttotal: 950ms\tremaining: 1.11s\n",
      "46:\ttest: 0.6065909\tbest: 0.6076821 (34)\ttotal: 974ms\tremaining: 1.1s\n",
      "47:\ttest: 0.6065909\tbest: 0.6076821 (34)\ttotal: 990ms\tremaining: 1.07s\n",
      "48:\ttest: 0.6066547\tbest: 0.6076821 (34)\ttotal: 1.01s\tremaining: 1.05s\n",
      "49:\ttest: 0.6069193\tbest: 0.6076821 (34)\ttotal: 1.03s\tremaining: 1.03s\n",
      "50:\ttest: 0.6069988\tbest: 0.6076821 (34)\ttotal: 1.05s\tremaining: 1.01s\n",
      "51:\ttest: 0.6069978\tbest: 0.6076821 (34)\ttotal: 1.07s\tremaining: 987ms\n",
      "52:\ttest: 0.6065689\tbest: 0.6076821 (34)\ttotal: 1.09s\tremaining: 967ms\n",
      "53:\ttest: 0.6065093\tbest: 0.6076821 (34)\ttotal: 1.11s\tremaining: 946ms\n",
      "54:\ttest: 0.6066569\tbest: 0.6076821 (34)\ttotal: 1.13s\tremaining: 926ms\n",
      "55:\ttest: 0.6066243\tbest: 0.6076821 (34)\ttotal: 1.15s\tremaining: 903ms\n",
      "56:\ttest: 0.6066413\tbest: 0.6076821 (34)\ttotal: 1.17s\tremaining: 884ms\n",
      "57:\ttest: 0.6066588\tbest: 0.6076821 (34)\ttotal: 1.2s\tremaining: 872ms\n",
      "58:\ttest: 0.6066808\tbest: 0.6076821 (34)\ttotal: 1.23s\tremaining: 853ms\n",
      "59:\ttest: 0.6066808\tbest: 0.6076821 (34)\ttotal: 1.25s\tremaining: 830ms\n",
      "60:\ttest: 0.6066808\tbest: 0.6076821 (34)\ttotal: 1.26s\tremaining: 807ms\n",
      "61:\ttest: 0.6063824\tbest: 0.6076821 (34)\ttotal: 1.29s\tremaining: 791ms\n",
      "62:\ttest: 0.6063850\tbest: 0.6076821 (34)\ttotal: 1.32s\tremaining: 775ms\n",
      "63:\ttest: 0.6064603\tbest: 0.6076821 (34)\ttotal: 1.34s\tremaining: 755ms\n",
      "64:\ttest: 0.6066677\tbest: 0.6076821 (34)\ttotal: 1.36s\tremaining: 735ms\n",
      "65:\ttest: 0.6066677\tbest: 0.6076821 (34)\ttotal: 1.38s\tremaining: 710ms\n",
      "66:\ttest: 0.6066677\tbest: 0.6076821 (34)\ttotal: 1.39s\tremaining: 686ms\n",
      "67:\ttest: 0.6066677\tbest: 0.6076821 (34)\ttotal: 1.41s\tremaining: 663ms\n",
      "68:\ttest: 0.6067759\tbest: 0.6076821 (34)\ttotal: 1.44s\tremaining: 648ms\n",
      "69:\ttest: 0.6067348\tbest: 0.6076821 (34)\ttotal: 1.46s\tremaining: 625ms\n",
      "70:\ttest: 0.6067366\tbest: 0.6076821 (34)\ttotal: 1.48s\tremaining: 603ms\n",
      "71:\ttest: 0.6066866\tbest: 0.6076821 (34)\ttotal: 1.5s\tremaining: 582ms\n",
      "72:\ttest: 0.6066866\tbest: 0.6076821 (34)\ttotal: 1.51s\tremaining: 559ms\n",
      "73:\ttest: 0.6066344\tbest: 0.6076821 (34)\ttotal: 1.53s\tremaining: 538ms\n",
      "74:\ttest: 0.6066271\tbest: 0.6076821 (34)\ttotal: 1.55s\tremaining: 517ms\n",
      "75:\ttest: 0.6069952\tbest: 0.6076821 (34)\ttotal: 1.57s\tremaining: 497ms\n",
      "76:\ttest: 0.6069952\tbest: 0.6076821 (34)\ttotal: 1.59s\tremaining: 474ms\n",
      "77:\ttest: 0.6069944\tbest: 0.6076821 (34)\ttotal: 1.61s\tremaining: 453ms\n",
      "78:\ttest: 0.6069944\tbest: 0.6076821 (34)\ttotal: 1.63s\tremaining: 434ms\n",
      "79:\ttest: 0.6071584\tbest: 0.6076821 (34)\ttotal: 1.66s\tremaining: 415ms\n",
      "80:\ttest: 0.6071584\tbest: 0.6076821 (34)\ttotal: 1.67s\tremaining: 393ms\n",
      "81:\ttest: 0.6071751\tbest: 0.6076821 (34)\ttotal: 1.7s\tremaining: 372ms\n",
      "82:\ttest: 0.6067976\tbest: 0.6076821 (34)\ttotal: 1.72s\tremaining: 352ms\n",
      "83:\ttest: 0.6067965\tbest: 0.6076821 (34)\ttotal: 1.74s\tremaining: 331ms\n",
      "84:\ttest: 0.6067218\tbest: 0.6076821 (34)\ttotal: 1.76s\tremaining: 311ms\n",
      "85:\ttest: 0.6067218\tbest: 0.6076821 (34)\ttotal: 1.78s\tremaining: 289ms\n",
      "86:\ttest: 0.6068439\tbest: 0.6076821 (34)\ttotal: 1.8s\tremaining: 269ms\n",
      "87:\ttest: 0.6064472\tbest: 0.6076821 (34)\ttotal: 1.82s\tremaining: 249ms\n",
      "88:\ttest: 0.6064185\tbest: 0.6076821 (34)\ttotal: 1.85s\tremaining: 229ms\n",
      "89:\ttest: 0.6064846\tbest: 0.6076821 (34)\ttotal: 1.88s\tremaining: 208ms\n",
      "90:\ttest: 0.6064545\tbest: 0.6076821 (34)\ttotal: 1.9s\tremaining: 188ms\n",
      "91:\ttest: 0.6064411\tbest: 0.6076821 (34)\ttotal: 1.92s\tremaining: 167ms\n",
      "92:\ttest: 0.6064441\tbest: 0.6076821 (34)\ttotal: 1.94s\tremaining: 146ms\n",
      "93:\ttest: 0.6064441\tbest: 0.6076821 (34)\ttotal: 1.95s\tremaining: 125ms\n",
      "94:\ttest: 0.6063547\tbest: 0.6076821 (34)\ttotal: 1.97s\tremaining: 104ms\n",
      "95:\ttest: 0.6063547\tbest: 0.6076821 (34)\ttotal: 1.99s\tremaining: 82.7ms\n",
      "96:\ttest: 0.6063098\tbest: 0.6076821 (34)\ttotal: 2s\tremaining: 62ms\n",
      "97:\ttest: 0.6063098\tbest: 0.6076821 (34)\ttotal: 2.02s\tremaining: 41.3ms\n",
      "98:\ttest: 0.6062329\tbest: 0.6076821 (34)\ttotal: 2.04s\tremaining: 20.7ms\n",
      "99:\ttest: 0.6061562\tbest: 0.6076821 (34)\ttotal: 2.09s\tremaining: 0us\n",
      "\n",
      "bestTest = 0.6076820928\n",
      "bestIteration = 34\n",
      "\n",
      "Metric AUC is not calculated on train by default. To calculate this metric on train, add hints=skip_train~false to metric parameters.\n",
      "0:\ttest: 0.5881524\tbest: 0.5881524 (0)\ttotal: 33.2ms\tremaining: 3.29s\n",
      "1:\ttest: 0.5956036\tbest: 0.5956036 (1)\ttotal: 62.5ms\tremaining: 3.06s\n",
      "2:\ttest: 0.5983726\tbest: 0.5983726 (2)\ttotal: 91.4ms\tremaining: 2.96s\n",
      "3:\ttest: 0.6000030\tbest: 0.6000030 (3)\ttotal: 117ms\tremaining: 2.82s\n",
      "4:\ttest: 0.6031735\tbest: 0.6031735 (4)\ttotal: 144ms\tremaining: 2.74s\n",
      "5:\ttest: 0.6033898\tbest: 0.6033898 (5)\ttotal: 176ms\tremaining: 2.75s\n",
      "6:\ttest: 0.6030228\tbest: 0.6033898 (5)\ttotal: 202ms\tremaining: 2.68s\n",
      "7:\ttest: 0.6030205\tbest: 0.6033898 (5)\ttotal: 268ms\tremaining: 3.08s\n",
      "8:\ttest: 0.6054988\tbest: 0.6054988 (8)\ttotal: 314ms\tremaining: 3.17s\n",
      "9:\ttest: 0.6056834\tbest: 0.6056834 (9)\ttotal: 356ms\tremaining: 3.21s\n",
      "10:\ttest: 0.6056834\tbest: 0.6056834 (9)\ttotal: 384ms\tremaining: 3.11s\n",
      "11:\ttest: 0.6053476\tbest: 0.6056834 (9)\ttotal: 455ms\tremaining: 3.34s\n",
      "12:\ttest: 0.6051638\tbest: 0.6056834 (9)\ttotal: 482ms\tremaining: 3.23s\n",
      "13:\ttest: 0.6049683\tbest: 0.6056834 (9)\ttotal: 524ms\tremaining: 3.22s\n",
      "14:\ttest: 0.6051218\tbest: 0.6056834 (9)\ttotal: 564ms\tremaining: 3.2s\n",
      "15:\ttest: 0.6051255\tbest: 0.6056834 (9)\ttotal: 601ms\tremaining: 3.16s\n",
      "16:\ttest: 0.6051262\tbest: 0.6056834 (9)\ttotal: 638ms\tremaining: 3.11s\n",
      "17:\ttest: 0.6046690\tbest: 0.6056834 (9)\ttotal: 693ms\tremaining: 3.16s\n",
      "18:\ttest: 0.6046542\tbest: 0.6056834 (9)\ttotal: 727ms\tremaining: 3.1s\n",
      "19:\ttest: 0.6046620\tbest: 0.6056834 (9)\ttotal: 764ms\tremaining: 3.06s\n",
      "20:\ttest: 0.6046435\tbest: 0.6056834 (9)\ttotal: 801ms\tremaining: 3.01s\n",
      "21:\ttest: 0.6046106\tbest: 0.6056834 (9)\ttotal: 853ms\tremaining: 3.02s\n",
      "22:\ttest: 0.6040948\tbest: 0.6056834 (9)\ttotal: 897ms\tremaining: 3s\n",
      "23:\ttest: 0.6045042\tbest: 0.6056834 (9)\ttotal: 965ms\tremaining: 3.05s\n",
      "24:\ttest: 0.6045042\tbest: 0.6056834 (9)\ttotal: 1.04s\tremaining: 3.11s\n",
      "25:\ttest: 0.6045042\tbest: 0.6056834 (9)\ttotal: 1.19s\tremaining: 3.38s\n",
      "26:\ttest: 0.6044859\tbest: 0.6056834 (9)\ttotal: 1.25s\tremaining: 3.38s\n",
      "27:\ttest: 0.6045423\tbest: 0.6056834 (9)\ttotal: 1.33s\tremaining: 3.42s\n",
      "28:\ttest: 0.6045583\tbest: 0.6056834 (9)\ttotal: 1.39s\tremaining: 3.4s\n",
      "29:\ttest: 0.6047201\tbest: 0.6056834 (9)\ttotal: 1.51s\tremaining: 3.52s\n",
      "30:\ttest: 0.6047162\tbest: 0.6056834 (9)\ttotal: 1.63s\tremaining: 3.63s\n",
      "31:\ttest: 0.6046160\tbest: 0.6056834 (9)\ttotal: 1.7s\tremaining: 3.62s\n",
      "32:\ttest: 0.6045641\tbest: 0.6056834 (9)\ttotal: 1.73s\tremaining: 3.52s\n",
      "33:\ttest: 0.6046858\tbest: 0.6056834 (9)\ttotal: 1.76s\tremaining: 3.41s\n",
      "34:\ttest: 0.6046858\tbest: 0.6056834 (9)\ttotal: 1.77s\tremaining: 3.29s\n",
      "35:\ttest: 0.6045213\tbest: 0.6056834 (9)\ttotal: 1.81s\tremaining: 3.23s\n",
      "36:\ttest: 0.6045074\tbest: 0.6056834 (9)\ttotal: 1.83s\tremaining: 3.11s\n",
      "37:\ttest: 0.6045074\tbest: 0.6056834 (9)\ttotal: 1.87s\tremaining: 3.05s\n",
      "38:\ttest: 0.6044044\tbest: 0.6056834 (9)\ttotal: 1.89s\tremaining: 2.96s\n",
      "39:\ttest: 0.6048331\tbest: 0.6056834 (9)\ttotal: 1.92s\tremaining: 2.88s\n",
      "40:\ttest: 0.6050505\tbest: 0.6056834 (9)\ttotal: 1.94s\tremaining: 2.79s\n",
      "41:\ttest: 0.6049793\tbest: 0.6056834 (9)\ttotal: 1.97s\tremaining: 2.72s\n",
      "42:\ttest: 0.6049793\tbest: 0.6056834 (9)\ttotal: 1.98s\tremaining: 2.63s\n",
      "43:\ttest: 0.6049672\tbest: 0.6056834 (9)\ttotal: 2.03s\tremaining: 2.58s\n",
      "44:\ttest: 0.6049640\tbest: 0.6056834 (9)\ttotal: 2.04s\tremaining: 2.5s\n",
      "45:\ttest: 0.6048474\tbest: 0.6056834 (9)\ttotal: 2.07s\tremaining: 2.43s\n",
      "46:\ttest: 0.6046113\tbest: 0.6056834 (9)\ttotal: 2.17s\tremaining: 2.44s\n",
      "47:\ttest: 0.6045636\tbest: 0.6056834 (9)\ttotal: 2.23s\tremaining: 2.42s\n",
      "48:\ttest: 0.6056479\tbest: 0.6056834 (9)\ttotal: 2.29s\tremaining: 2.38s\n",
      "49:\ttest: 0.6056474\tbest: 0.6056834 (9)\ttotal: 2.37s\tremaining: 2.37s\n",
      "50:\ttest: 0.6058434\tbest: 0.6058434 (50)\ttotal: 2.41s\tremaining: 2.31s\n",
      "51:\ttest: 0.6060946\tbest: 0.6060946 (51)\ttotal: 2.45s\tremaining: 2.27s\n",
      "52:\ttest: 0.6060946\tbest: 0.6060946 (51)\ttotal: 2.52s\tremaining: 2.23s\n",
      "53:\ttest: 0.6060037\tbest: 0.6060946 (51)\ttotal: 2.57s\tremaining: 2.19s\n",
      "54:\ttest: 0.6060037\tbest: 0.6060946 (51)\ttotal: 2.6s\tremaining: 2.13s\n",
      "55:\ttest: 0.6060230\tbest: 0.6060946 (51)\ttotal: 2.63s\tremaining: 2.07s\n",
      "56:\ttest: 0.6059123\tbest: 0.6060946 (51)\ttotal: 2.69s\tremaining: 2.03s\n",
      "57:\ttest: 0.6057718\tbest: 0.6060946 (51)\ttotal: 2.77s\tremaining: 2.01s\n",
      "58:\ttest: 0.6057087\tbest: 0.6060946 (51)\ttotal: 2.83s\tremaining: 1.97s\n",
      "59:\ttest: 0.6057094\tbest: 0.6060946 (51)\ttotal: 2.91s\tremaining: 1.94s\n",
      "60:\ttest: 0.6058796\tbest: 0.6060946 (51)\ttotal: 2.96s\tremaining: 1.9s\n",
      "61:\ttest: 0.6058095\tbest: 0.6060946 (51)\ttotal: 3s\tremaining: 1.84s\n",
      "62:\ttest: 0.6058391\tbest: 0.6060946 (51)\ttotal: 3.03s\tremaining: 1.78s\n",
      "63:\ttest: 0.6057244\tbest: 0.6060946 (51)\ttotal: 3.07s\tremaining: 1.72s\n",
      "64:\ttest: 0.6057244\tbest: 0.6060946 (51)\ttotal: 3.09s\tremaining: 1.67s\n",
      "65:\ttest: 0.6057539\tbest: 0.6060946 (51)\ttotal: 3.13s\tremaining: 1.61s\n",
      "66:\ttest: 0.6057175\tbest: 0.6060946 (51)\ttotal: 3.16s\tremaining: 1.56s\n",
      "67:\ttest: 0.6062000\tbest: 0.6062000 (67)\ttotal: 3.19s\tremaining: 1.5s\n",
      "68:\ttest: 0.6062005\tbest: 0.6062005 (68)\ttotal: 3.23s\tremaining: 1.45s\n",
      "69:\ttest: 0.6063503\tbest: 0.6063503 (69)\ttotal: 3.27s\tremaining: 1.4s\n",
      "70:\ttest: 0.6063503\tbest: 0.6063503 (69)\ttotal: 3.29s\tremaining: 1.34s\n",
      "71:\ttest: 0.6063344\tbest: 0.6063503 (69)\ttotal: 3.33s\tremaining: 1.29s\n",
      "72:\ttest: 0.6059996\tbest: 0.6063503 (69)\ttotal: 3.37s\tremaining: 1.25s\n",
      "73:\ttest: 0.6059996\tbest: 0.6063503 (69)\ttotal: 3.39s\tremaining: 1.19s\n",
      "74:\ttest: 0.6062823\tbest: 0.6063503 (69)\ttotal: 3.42s\tremaining: 1.14s\n",
      "75:\ttest: 0.6063269\tbest: 0.6063503 (69)\ttotal: 3.48s\tremaining: 1.1s\n",
      "76:\ttest: 0.6063101\tbest: 0.6063503 (69)\ttotal: 3.52s\tremaining: 1.05s\n",
      "77:\ttest: 0.6064068\tbest: 0.6064068 (77)\ttotal: 3.55s\tremaining: 1s\n",
      "78:\ttest: 0.6064106\tbest: 0.6064106 (78)\ttotal: 3.59s\tremaining: 955ms\n",
      "79:\ttest: 0.6063129\tbest: 0.6064106 (78)\ttotal: 3.62s\tremaining: 906ms\n",
      "80:\ttest: 0.6062643\tbest: 0.6064106 (78)\ttotal: 3.66s\tremaining: 858ms\n",
      "81:\ttest: 0.6062649\tbest: 0.6064106 (78)\ttotal: 3.68s\tremaining: 808ms\n",
      "82:\ttest: 0.6062901\tbest: 0.6064106 (78)\ttotal: 3.72s\tremaining: 761ms\n",
      "83:\ttest: 0.6062934\tbest: 0.6064106 (78)\ttotal: 3.74s\tremaining: 712ms\n",
      "84:\ttest: 0.6061998\tbest: 0.6064106 (78)\ttotal: 3.76s\tremaining: 664ms\n",
      "85:\ttest: 0.6061998\tbest: 0.6064106 (78)\ttotal: 3.8s\tremaining: 618ms\n",
      "86:\ttest: 0.6061998\tbest: 0.6064106 (78)\ttotal: 3.82s\tremaining: 571ms\n",
      "87:\ttest: 0.6060608\tbest: 0.6064106 (78)\ttotal: 3.85s\tremaining: 525ms\n",
      "88:\ttest: 0.6059989\tbest: 0.6064106 (78)\ttotal: 3.87s\tremaining: 478ms\n",
      "89:\ttest: 0.6061168\tbest: 0.6064106 (78)\ttotal: 3.89s\tremaining: 433ms\n",
      "90:\ttest: 0.6061150\tbest: 0.6064106 (78)\ttotal: 3.92s\tremaining: 388ms\n",
      "91:\ttest: 0.6064316\tbest: 0.6064316 (91)\ttotal: 3.96s\tremaining: 344ms\n",
      "92:\ttest: 0.6064517\tbest: 0.6064517 (92)\ttotal: 3.99s\tremaining: 300ms\n",
      "93:\ttest: 0.6064517\tbest: 0.6064517 (92)\ttotal: 4.01s\tremaining: 256ms\n",
      "94:\ttest: 0.6062772\tbest: 0.6064517 (92)\ttotal: 4.04s\tremaining: 213ms\n",
      "95:\ttest: 0.6062417\tbest: 0.6064517 (92)\ttotal: 4.06s\tremaining: 169ms\n",
      "96:\ttest: 0.6061247\tbest: 0.6064517 (92)\ttotal: 4.12s\tremaining: 127ms\n",
      "97:\ttest: 0.6061472\tbest: 0.6064517 (92)\ttotal: 4.16s\tremaining: 84.9ms\n",
      "98:\ttest: 0.6061424\tbest: 0.6064517 (92)\ttotal: 4.19s\tremaining: 42.3ms\n",
      "99:\ttest: 0.6060623\tbest: 0.6064517 (92)\ttotal: 4.23s\tremaining: 0us\n",
      "\n",
      "bestTest = 0.606451723\n",
      "bestIteration = 92\n",
      "\n",
      "Metric AUC is not calculated on train by default. To calculate this metric on train, add hints=skip_train~false to metric parameters.\n",
      "0:\ttest: 0.5881524\tbest: 0.5881524 (0)\ttotal: 37.5ms\tremaining: 4.46s\n",
      "1:\ttest: 0.5956036\tbest: 0.5956036 (1)\ttotal: 72.2ms\tremaining: 4.26s\n",
      "2:\ttest: 0.5983726\tbest: 0.5983726 (2)\ttotal: 106ms\tremaining: 4.12s\n",
      "3:\ttest: 0.6000030\tbest: 0.6000030 (3)\ttotal: 160ms\tremaining: 4.64s\n",
      "4:\ttest: 0.6031735\tbest: 0.6031735 (4)\ttotal: 197ms\tremaining: 4.53s\n",
      "5:\ttest: 0.6033898\tbest: 0.6033898 (5)\ttotal: 222ms\tremaining: 4.22s\n",
      "6:\ttest: 0.6030230\tbest: 0.6033898 (5)\ttotal: 249ms\tremaining: 4.02s\n",
      "7:\ttest: 0.6030205\tbest: 0.6033898 (5)\ttotal: 280ms\tremaining: 3.92s\n",
      "8:\ttest: 0.6054988\tbest: 0.6054988 (8)\ttotal: 318ms\tremaining: 3.92s\n",
      "9:\ttest: 0.6056834\tbest: 0.6056834 (9)\ttotal: 346ms\tremaining: 3.81s\n",
      "10:\ttest: 0.6056834\tbest: 0.6056834 (9)\ttotal: 377ms\tremaining: 3.73s\n",
      "11:\ttest: 0.6053476\tbest: 0.6056834 (9)\ttotal: 473ms\tremaining: 4.25s\n",
      "12:\ttest: 0.6051638\tbest: 0.6056834 (9)\ttotal: 570ms\tremaining: 4.69s\n",
      "13:\ttest: 0.6049673\tbest: 0.6056834 (9)\ttotal: 620ms\tremaining: 4.69s\n",
      "14:\ttest: 0.6049204\tbest: 0.6056834 (9)\ttotal: 648ms\tremaining: 4.54s\n",
      "15:\ttest: 0.6049112\tbest: 0.6056834 (9)\ttotal: 676ms\tremaining: 4.39s\n",
      "16:\ttest: 0.6047674\tbest: 0.6056834 (9)\ttotal: 702ms\tremaining: 4.25s\n",
      "17:\ttest: 0.6047674\tbest: 0.6056834 (9)\ttotal: 730ms\tremaining: 4.13s\n",
      "18:\ttest: 0.6047674\tbest: 0.6056834 (9)\ttotal: 748ms\tremaining: 3.98s\n",
      "19:\ttest: 0.6042447\tbest: 0.6056834 (9)\ttotal: 778ms\tremaining: 3.89s\n",
      "20:\ttest: 0.6042447\tbest: 0.6056834 (9)\ttotal: 801ms\tremaining: 3.77s\n",
      "21:\ttest: 0.6045133\tbest: 0.6056834 (9)\ttotal: 856ms\tremaining: 3.81s\n",
      "22:\ttest: 0.6045226\tbest: 0.6056834 (9)\ttotal: 877ms\tremaining: 3.7s\n",
      "23:\ttest: 0.6045133\tbest: 0.6056834 (9)\ttotal: 904ms\tremaining: 3.61s\n",
      "24:\ttest: 0.6034554\tbest: 0.6056834 (9)\ttotal: 938ms\tremaining: 3.56s\n",
      "25:\ttest: 0.6034583\tbest: 0.6056834 (9)\ttotal: 964ms\tremaining: 3.49s\n",
      "26:\ttest: 0.6027452\tbest: 0.6056834 (9)\ttotal: 1s\tremaining: 3.46s\n",
      "27:\ttest: 0.6033429\tbest: 0.6056834 (9)\ttotal: 1.04s\tremaining: 3.41s\n",
      "28:\ttest: 0.6060257\tbest: 0.6060257 (28)\ttotal: 1.1s\tremaining: 3.44s\n",
      "29:\ttest: 0.6060171\tbest: 0.6060257 (28)\ttotal: 1.13s\tremaining: 3.4s\n",
      "30:\ttest: 0.6062581\tbest: 0.6062581 (30)\ttotal: 1.18s\tremaining: 3.38s\n",
      "31:\ttest: 0.6062581\tbest: 0.6062581 (30)\ttotal: 1.2s\tremaining: 3.3s\n",
      "32:\ttest: 0.6062581\tbest: 0.6062581 (30)\ttotal: 1.23s\tremaining: 3.24s\n",
      "33:\ttest: 0.6062433\tbest: 0.6062581 (30)\ttotal: 1.26s\tremaining: 3.18s\n",
      "34:\ttest: 0.6076821\tbest: 0.6076821 (34)\ttotal: 1.28s\tremaining: 3.11s\n",
      "35:\ttest: 0.6076821\tbest: 0.6076821 (34)\ttotal: 1.3s\tremaining: 3.03s\n",
      "36:\ttest: 0.6075462\tbest: 0.6076821 (34)\ttotal: 1.34s\tremaining: 3.02s\n",
      "37:\ttest: 0.6075462\tbest: 0.6076821 (34)\ttotal: 1.38s\tremaining: 2.98s\n",
      "38:\ttest: 0.6072751\tbest: 0.6076821 (34)\ttotal: 1.41s\tremaining: 2.92s\n",
      "39:\ttest: 0.6071919\tbest: 0.6076821 (34)\ttotal: 1.43s\tremaining: 2.87s\n",
      "40:\ttest: 0.6073190\tbest: 0.6076821 (34)\ttotal: 1.47s\tremaining: 2.83s\n",
      "41:\ttest: 0.6073234\tbest: 0.6076821 (34)\ttotal: 1.5s\tremaining: 2.78s\n",
      "42:\ttest: 0.6071203\tbest: 0.6076821 (34)\ttotal: 1.54s\tremaining: 2.75s\n",
      "43:\ttest: 0.6071203\tbest: 0.6076821 (34)\ttotal: 1.57s\tremaining: 2.71s\n",
      "44:\ttest: 0.6070319\tbest: 0.6076821 (34)\ttotal: 1.6s\tremaining: 2.67s\n",
      "45:\ttest: 0.6065154\tbest: 0.6076821 (34)\ttotal: 1.63s\tremaining: 2.63s\n",
      "46:\ttest: 0.6065909\tbest: 0.6076821 (34)\ttotal: 1.66s\tremaining: 2.57s\n",
      "47:\ttest: 0.6065909\tbest: 0.6076821 (34)\ttotal: 1.67s\tremaining: 2.51s\n",
      "48:\ttest: 0.6066547\tbest: 0.6076821 (34)\ttotal: 1.7s\tremaining: 2.46s\n",
      "49:\ttest: 0.6069193\tbest: 0.6076821 (34)\ttotal: 1.72s\tremaining: 2.41s\n",
      "50:\ttest: 0.6069988\tbest: 0.6076821 (34)\ttotal: 1.77s\tremaining: 2.4s\n",
      "51:\ttest: 0.6069978\tbest: 0.6076821 (34)\ttotal: 1.8s\tremaining: 2.36s\n",
      "52:\ttest: 0.6065689\tbest: 0.6076821 (34)\ttotal: 1.84s\tremaining: 2.32s\n",
      "53:\ttest: 0.6065093\tbest: 0.6076821 (34)\ttotal: 1.87s\tremaining: 2.29s\n",
      "54:\ttest: 0.6066569\tbest: 0.6076821 (34)\ttotal: 1.9s\tremaining: 2.25s\n",
      "55:\ttest: 0.6066243\tbest: 0.6076821 (34)\ttotal: 1.93s\tremaining: 2.21s\n",
      "56:\ttest: 0.6066413\tbest: 0.6076821 (34)\ttotal: 1.96s\tremaining: 2.17s\n",
      "57:\ttest: 0.6066588\tbest: 0.6076821 (34)\ttotal: 2.02s\tremaining: 2.16s\n",
      "58:\ttest: 0.6066808\tbest: 0.6076821 (34)\ttotal: 2.06s\tremaining: 2.13s\n",
      "59:\ttest: 0.6066808\tbest: 0.6076821 (34)\ttotal: 2.08s\tremaining: 2.08s\n",
      "60:\ttest: 0.6066808\tbest: 0.6076821 (34)\ttotal: 2.12s\tremaining: 2.05s\n",
      "61:\ttest: 0.6063824\tbest: 0.6076821 (34)\ttotal: 2.16s\tremaining: 2.02s\n",
      "62:\ttest: 0.6063850\tbest: 0.6076821 (34)\ttotal: 2.19s\tremaining: 1.98s\n",
      "63:\ttest: 0.6064603\tbest: 0.6076821 (34)\ttotal: 2.22s\tremaining: 1.94s\n",
      "64:\ttest: 0.6066677\tbest: 0.6076821 (34)\ttotal: 2.27s\tremaining: 1.92s\n",
      "65:\ttest: 0.6066677\tbest: 0.6076821 (34)\ttotal: 2.29s\tremaining: 1.87s\n",
      "66:\ttest: 0.6066677\tbest: 0.6076821 (34)\ttotal: 2.3s\tremaining: 1.82s\n",
      "67:\ttest: 0.6066677\tbest: 0.6076821 (34)\ttotal: 2.32s\tremaining: 1.78s\n",
      "68:\ttest: 0.6067759\tbest: 0.6076821 (34)\ttotal: 2.35s\tremaining: 1.74s\n",
      "69:\ttest: 0.6067348\tbest: 0.6076821 (34)\ttotal: 2.37s\tremaining: 1.69s\n",
      "70:\ttest: 0.6067366\tbest: 0.6076821 (34)\ttotal: 2.4s\tremaining: 1.66s\n",
      "71:\ttest: 0.6066866\tbest: 0.6076821 (34)\ttotal: 2.47s\tremaining: 1.65s\n",
      "72:\ttest: 0.6066866\tbest: 0.6076821 (34)\ttotal: 2.49s\tremaining: 1.6s\n",
      "73:\ttest: 0.6066344\tbest: 0.6076821 (34)\ttotal: 2.52s\tremaining: 1.57s\n",
      "74:\ttest: 0.6066271\tbest: 0.6076821 (34)\ttotal: 2.56s\tremaining: 1.53s\n",
      "75:\ttest: 0.6069952\tbest: 0.6076821 (34)\ttotal: 2.58s\tremaining: 1.5s\n",
      "76:\ttest: 0.6069952\tbest: 0.6076821 (34)\ttotal: 2.6s\tremaining: 1.45s\n",
      "77:\ttest: 0.6069944\tbest: 0.6076821 (34)\ttotal: 2.62s\tremaining: 1.41s\n",
      "78:\ttest: 0.6069944\tbest: 0.6076821 (34)\ttotal: 2.63s\tremaining: 1.37s\n",
      "79:\ttest: 0.6071584\tbest: 0.6076821 (34)\ttotal: 2.66s\tremaining: 1.33s\n",
      "80:\ttest: 0.6071584\tbest: 0.6076821 (34)\ttotal: 2.71s\tremaining: 1.3s\n",
      "81:\ttest: 0.6071751\tbest: 0.6076821 (34)\ttotal: 2.73s\tremaining: 1.27s\n",
      "82:\ttest: 0.6067976\tbest: 0.6076821 (34)\ttotal: 2.77s\tremaining: 1.23s\n",
      "83:\ttest: 0.6067965\tbest: 0.6076821 (34)\ttotal: 2.79s\tremaining: 1.2s\n",
      "84:\ttest: 0.6067218\tbest: 0.6076821 (34)\ttotal: 2.82s\tremaining: 1.16s\n",
      "85:\ttest: 0.6067218\tbest: 0.6076821 (34)\ttotal: 2.84s\tremaining: 1.12s\n",
      "86:\ttest: 0.6068439\tbest: 0.6076821 (34)\ttotal: 2.87s\tremaining: 1.09s\n",
      "87:\ttest: 0.6064472\tbest: 0.6076821 (34)\ttotal: 2.9s\tremaining: 1.05s\n",
      "88:\ttest: 0.6064185\tbest: 0.6076821 (34)\ttotal: 2.94s\tremaining: 1.02s\n",
      "89:\ttest: 0.6064846\tbest: 0.6076821 (34)\ttotal: 3s\tremaining: 1s\n",
      "90:\ttest: 0.6064545\tbest: 0.6076821 (34)\ttotal: 3.09s\tremaining: 985ms\n",
      "91:\ttest: 0.6064411\tbest: 0.6076821 (34)\ttotal: 3.12s\tremaining: 950ms\n",
      "92:\ttest: 0.6064441\tbest: 0.6076821 (34)\ttotal: 3.17s\tremaining: 920ms\n",
      "93:\ttest: 0.6064441\tbest: 0.6076821 (34)\ttotal: 3.2s\tremaining: 885ms\n",
      "94:\ttest: 0.6063547\tbest: 0.6076821 (34)\ttotal: 3.22s\tremaining: 848ms\n",
      "95:\ttest: 0.6063547\tbest: 0.6076821 (34)\ttotal: 3.25s\tremaining: 814ms\n",
      "96:\ttest: 0.6063098\tbest: 0.6076821 (34)\ttotal: 3.28s\tremaining: 778ms\n",
      "97:\ttest: 0.6063098\tbest: 0.6076821 (34)\ttotal: 3.3s\tremaining: 741ms\n",
      "98:\ttest: 0.6062329\tbest: 0.6076821 (34)\ttotal: 3.35s\tremaining: 712ms\n",
      "99:\ttest: 0.6061562\tbest: 0.6076821 (34)\ttotal: 3.4s\tremaining: 680ms\n",
      "100:\ttest: 0.6063359\tbest: 0.6076821 (34)\ttotal: 3.52s\tremaining: 663ms\n",
      "101:\ttest: 0.6063346\tbest: 0.6076821 (34)\ttotal: 3.56s\tremaining: 628ms\n",
      "102:\ttest: 0.6063339\tbest: 0.6076821 (34)\ttotal: 3.58s\tremaining: 591ms\n",
      "103:\ttest: 0.6065984\tbest: 0.6076821 (34)\ttotal: 3.65s\tremaining: 562ms\n",
      "104:\ttest: 0.6065990\tbest: 0.6076821 (34)\ttotal: 3.7s\tremaining: 529ms\n",
      "105:\ttest: 0.6065990\tbest: 0.6076821 (34)\ttotal: 3.73s\tremaining: 493ms\n",
      "106:\ttest: 0.6066443\tbest: 0.6076821 (34)\ttotal: 3.75s\tremaining: 456ms\n",
      "107:\ttest: 0.6065726\tbest: 0.6076821 (34)\ttotal: 3.79s\tremaining: 421ms\n",
      "108:\ttest: 0.6065282\tbest: 0.6076821 (34)\ttotal: 3.83s\tremaining: 386ms\n",
      "109:\ttest: 0.6065305\tbest: 0.6076821 (34)\ttotal: 3.85s\tremaining: 350ms\n",
      "110:\ttest: 0.6065436\tbest: 0.6076821 (34)\ttotal: 3.9s\tremaining: 316ms\n",
      "111:\ttest: 0.6064914\tbest: 0.6076821 (34)\ttotal: 3.94s\tremaining: 282ms\n",
      "112:\ttest: 0.6065256\tbest: 0.6076821 (34)\ttotal: 3.98s\tremaining: 247ms\n",
      "113:\ttest: 0.6067297\tbest: 0.6076821 (34)\ttotal: 4.01s\tremaining: 211ms\n",
      "114:\ttest: 0.6067321\tbest: 0.6076821 (34)\ttotal: 4.03s\tremaining: 175ms\n",
      "115:\ttest: 0.6066035\tbest: 0.6076821 (34)\ttotal: 4.06s\tremaining: 140ms\n",
      "116:\ttest: 0.6065617\tbest: 0.6076821 (34)\ttotal: 4.13s\tremaining: 106ms\n",
      "117:\ttest: 0.6065617\tbest: 0.6076821 (34)\ttotal: 4.15s\tremaining: 70.3ms\n",
      "118:\ttest: 0.6065054\tbest: 0.6076821 (34)\ttotal: 4.18s\tremaining: 35.1ms\n",
      "119:\ttest: 0.6064995\tbest: 0.6076821 (34)\ttotal: 4.2s\tremaining: 0us\n",
      "\n",
      "bestTest = 0.6076820928\n",
      "bestIteration = 34\n",
      "\n",
      "Metric AUC is not calculated on train by default. To calculate this metric on train, add hints=skip_train~false to metric parameters.\n",
      "0:\ttest: 0.5881524\tbest: 0.5881524 (0)\ttotal: 26.5ms\tremaining: 3.15s\n",
      "1:\ttest: 0.5956036\tbest: 0.5956036 (1)\ttotal: 53.6ms\tremaining: 3.16s\n",
      "2:\ttest: 0.5983726\tbest: 0.5983726 (2)\ttotal: 83.4ms\tremaining: 3.25s\n",
      "3:\ttest: 0.6000030\tbest: 0.6000030 (3)\ttotal: 110ms\tremaining: 3.19s\n",
      "4:\ttest: 0.6031735\tbest: 0.6031735 (4)\ttotal: 148ms\tremaining: 3.4s\n",
      "5:\ttest: 0.6033898\tbest: 0.6033898 (5)\ttotal: 190ms\tremaining: 3.61s\n",
      "6:\ttest: 0.6030228\tbest: 0.6033898 (5)\ttotal: 218ms\tremaining: 3.51s\n",
      "7:\ttest: 0.6030205\tbest: 0.6033898 (5)\ttotal: 244ms\tremaining: 3.42s\n",
      "8:\ttest: 0.6054988\tbest: 0.6054988 (8)\ttotal: 275ms\tremaining: 3.39s\n",
      "9:\ttest: 0.6056834\tbest: 0.6056834 (9)\ttotal: 306ms\tremaining: 3.37s\n",
      "10:\ttest: 0.6056834\tbest: 0.6056834 (9)\ttotal: 323ms\tremaining: 3.2s\n",
      "11:\ttest: 0.6053476\tbest: 0.6056834 (9)\ttotal: 349ms\tremaining: 3.15s\n",
      "12:\ttest: 0.6051638\tbest: 0.6056834 (9)\ttotal: 382ms\tremaining: 3.14s\n",
      "13:\ttest: 0.6049683\tbest: 0.6056834 (9)\ttotal: 409ms\tremaining: 3.09s\n",
      "14:\ttest: 0.6051218\tbest: 0.6056834 (9)\ttotal: 440ms\tremaining: 3.08s\n",
      "15:\ttest: 0.6051255\tbest: 0.6056834 (9)\ttotal: 462ms\tremaining: 3s\n",
      "16:\ttest: 0.6051262\tbest: 0.6056834 (9)\ttotal: 490ms\tremaining: 2.97s\n",
      "17:\ttest: 0.6046690\tbest: 0.6056834 (9)\ttotal: 514ms\tremaining: 2.91s\n",
      "18:\ttest: 0.6046542\tbest: 0.6056834 (9)\ttotal: 549ms\tremaining: 2.92s\n",
      "19:\ttest: 0.6046620\tbest: 0.6056834 (9)\ttotal: 592ms\tremaining: 2.96s\n",
      "20:\ttest: 0.6046435\tbest: 0.6056834 (9)\ttotal: 616ms\tremaining: 2.9s\n",
      "21:\ttest: 0.6046106\tbest: 0.6056834 (9)\ttotal: 643ms\tremaining: 2.86s\n",
      "22:\ttest: 0.6040948\tbest: 0.6056834 (9)\ttotal: 674ms\tremaining: 2.84s\n",
      "23:\ttest: 0.6045042\tbest: 0.6056834 (9)\ttotal: 699ms\tremaining: 2.8s\n",
      "24:\ttest: 0.6045042\tbest: 0.6056834 (9)\ttotal: 713ms\tremaining: 2.71s\n",
      "25:\ttest: 0.6045042\tbest: 0.6056834 (9)\ttotal: 743ms\tremaining: 2.68s\n",
      "26:\ttest: 0.6044859\tbest: 0.6056834 (9)\ttotal: 760ms\tremaining: 2.62s\n",
      "27:\ttest: 0.6045423\tbest: 0.6056834 (9)\ttotal: 785ms\tremaining: 2.58s\n",
      "28:\ttest: 0.6045583\tbest: 0.6056834 (9)\ttotal: 828ms\tremaining: 2.6s\n",
      "29:\ttest: 0.6047201\tbest: 0.6056834 (9)\ttotal: 855ms\tremaining: 2.56s\n",
      "30:\ttest: 0.6047162\tbest: 0.6056834 (9)\ttotal: 905ms\tremaining: 2.6s\n",
      "31:\ttest: 0.6046160\tbest: 0.6056834 (9)\ttotal: 927ms\tremaining: 2.55s\n",
      "32:\ttest: 0.6045641\tbest: 0.6056834 (9)\ttotal: 955ms\tremaining: 2.52s\n",
      "33:\ttest: 0.6046858\tbest: 0.6056834 (9)\ttotal: 980ms\tremaining: 2.48s\n",
      "34:\ttest: 0.6046858\tbest: 0.6056834 (9)\ttotal: 996ms\tremaining: 2.42s\n",
      "35:\ttest: 0.6045213\tbest: 0.6056834 (9)\ttotal: 1.02s\tremaining: 2.37s\n",
      "36:\ttest: 0.6045074\tbest: 0.6056834 (9)\ttotal: 1.04s\tremaining: 2.34s\n",
      "37:\ttest: 0.6045074\tbest: 0.6056834 (9)\ttotal: 1.07s\tremaining: 2.3s\n",
      "38:\ttest: 0.6044044\tbest: 0.6056834 (9)\ttotal: 1.1s\tremaining: 2.28s\n",
      "39:\ttest: 0.6048331\tbest: 0.6056834 (9)\ttotal: 1.14s\tremaining: 2.28s\n",
      "40:\ttest: 0.6050505\tbest: 0.6056834 (9)\ttotal: 1.16s\tremaining: 2.24s\n",
      "41:\ttest: 0.6049793\tbest: 0.6056834 (9)\ttotal: 1.19s\tremaining: 2.21s\n",
      "42:\ttest: 0.6049793\tbest: 0.6056834 (9)\ttotal: 1.21s\tremaining: 2.16s\n",
      "43:\ttest: 0.6049672\tbest: 0.6056834 (9)\ttotal: 1.28s\tremaining: 2.22s\n",
      "44:\ttest: 0.6049640\tbest: 0.6056834 (9)\ttotal: 1.3s\tremaining: 2.17s\n",
      "45:\ttest: 0.6048474\tbest: 0.6056834 (9)\ttotal: 1.34s\tremaining: 2.15s\n",
      "46:\ttest: 0.6046113\tbest: 0.6056834 (9)\ttotal: 1.36s\tremaining: 2.12s\n",
      "47:\ttest: 0.6045636\tbest: 0.6056834 (9)\ttotal: 1.39s\tremaining: 2.08s\n",
      "48:\ttest: 0.6056479\tbest: 0.6056834 (9)\ttotal: 1.41s\tremaining: 2.04s\n",
      "49:\ttest: 0.6056474\tbest: 0.6056834 (9)\ttotal: 1.44s\tremaining: 2.01s\n",
      "50:\ttest: 0.6058434\tbest: 0.6058434 (50)\ttotal: 1.47s\tremaining: 1.99s\n",
      "51:\ttest: 0.6060946\tbest: 0.6060946 (51)\ttotal: 1.51s\tremaining: 1.98s\n",
      "52:\ttest: 0.6060946\tbest: 0.6060946 (51)\ttotal: 1.55s\tremaining: 1.95s\n",
      "53:\ttest: 0.6060037\tbest: 0.6060946 (51)\ttotal: 1.57s\tremaining: 1.92s\n",
      "54:\ttest: 0.6060037\tbest: 0.6060946 (51)\ttotal: 1.59s\tremaining: 1.88s\n",
      "55:\ttest: 0.6060230\tbest: 0.6060946 (51)\ttotal: 1.61s\tremaining: 1.84s\n",
      "56:\ttest: 0.6059123\tbest: 0.6060946 (51)\ttotal: 1.64s\tremaining: 1.81s\n",
      "57:\ttest: 0.6057718\tbest: 0.6060946 (51)\ttotal: 1.67s\tremaining: 1.78s\n",
      "58:\ttest: 0.6057087\tbest: 0.6060946 (51)\ttotal: 1.69s\tremaining: 1.75s\n",
      "59:\ttest: 0.6057094\tbest: 0.6060946 (51)\ttotal: 1.72s\tremaining: 1.72s\n",
      "60:\ttest: 0.6058796\tbest: 0.6060946 (51)\ttotal: 1.78s\tremaining: 1.72s\n",
      "61:\ttest: 0.6058095\tbest: 0.6060946 (51)\ttotal: 1.8s\tremaining: 1.69s\n",
      "62:\ttest: 0.6058391\tbest: 0.6060946 (51)\ttotal: 1.83s\tremaining: 1.66s\n",
      "63:\ttest: 0.6057244\tbest: 0.6060946 (51)\ttotal: 1.85s\tremaining: 1.62s\n",
      "64:\ttest: 0.6057244\tbest: 0.6060946 (51)\ttotal: 1.88s\tremaining: 1.59s\n",
      "65:\ttest: 0.6057539\tbest: 0.6060946 (51)\ttotal: 1.9s\tremaining: 1.56s\n",
      "66:\ttest: 0.6057175\tbest: 0.6060946 (51)\ttotal: 1.94s\tremaining: 1.54s\n",
      "67:\ttest: 0.6062000\tbest: 0.6062000 (67)\ttotal: 2s\tremaining: 1.53s\n",
      "68:\ttest: 0.6062005\tbest: 0.6062005 (68)\ttotal: 2.02s\tremaining: 1.5s\n",
      "69:\ttest: 0.6063503\tbest: 0.6063503 (69)\ttotal: 2.08s\tremaining: 1.48s\n",
      "70:\ttest: 0.6063503\tbest: 0.6063503 (69)\ttotal: 2.11s\tremaining: 1.45s\n",
      "71:\ttest: 0.6063344\tbest: 0.6063503 (69)\ttotal: 2.14s\tremaining: 1.43s\n",
      "72:\ttest: 0.6059996\tbest: 0.6063503 (69)\ttotal: 2.19s\tremaining: 1.41s\n",
      "73:\ttest: 0.6059996\tbest: 0.6063503 (69)\ttotal: 2.21s\tremaining: 1.38s\n",
      "74:\ttest: 0.6062823\tbest: 0.6063503 (69)\ttotal: 2.24s\tremaining: 1.34s\n",
      "75:\ttest: 0.6063269\tbest: 0.6063503 (69)\ttotal: 2.27s\tremaining: 1.31s\n",
      "76:\ttest: 0.6063101\tbest: 0.6063503 (69)\ttotal: 2.35s\tremaining: 1.31s\n",
      "77:\ttest: 0.6064068\tbest: 0.6064068 (77)\ttotal: 2.39s\tremaining: 1.29s\n",
      "78:\ttest: 0.6064106\tbest: 0.6064106 (78)\ttotal: 2.44s\tremaining: 1.26s\n",
      "79:\ttest: 0.6063129\tbest: 0.6064106 (78)\ttotal: 2.46s\tremaining: 1.23s\n",
      "80:\ttest: 0.6062643\tbest: 0.6064106 (78)\ttotal: 2.49s\tremaining: 1.2s\n",
      "81:\ttest: 0.6062649\tbest: 0.6064106 (78)\ttotal: 2.5s\tremaining: 1.16s\n",
      "82:\ttest: 0.6062901\tbest: 0.6064106 (78)\ttotal: 2.53s\tremaining: 1.13s\n",
      "83:\ttest: 0.6062934\tbest: 0.6064106 (78)\ttotal: 2.55s\tremaining: 1.09s\n",
      "84:\ttest: 0.6061998\tbest: 0.6064106 (78)\ttotal: 2.59s\tremaining: 1.06s\n",
      "85:\ttest: 0.6061998\tbest: 0.6064106 (78)\ttotal: 2.6s\tremaining: 1.03s\n",
      "86:\ttest: 0.6061998\tbest: 0.6064106 (78)\ttotal: 2.64s\tremaining: 1s\n",
      "87:\ttest: 0.6060608\tbest: 0.6064106 (78)\ttotal: 2.7s\tremaining: 981ms\n",
      "88:\ttest: 0.6059989\tbest: 0.6064106 (78)\ttotal: 2.72s\tremaining: 948ms\n",
      "89:\ttest: 0.6061168\tbest: 0.6064106 (78)\ttotal: 2.77s\tremaining: 924ms\n",
      "90:\ttest: 0.6061150\tbest: 0.6064106 (78)\ttotal: 2.8s\tremaining: 893ms\n",
      "91:\ttest: 0.6064316\tbest: 0.6064316 (91)\ttotal: 2.84s\tremaining: 864ms\n",
      "92:\ttest: 0.6064517\tbest: 0.6064517 (92)\ttotal: 2.87s\tremaining: 833ms\n",
      "93:\ttest: 0.6064517\tbest: 0.6064517 (92)\ttotal: 2.9s\tremaining: 802ms\n",
      "94:\ttest: 0.6062772\tbest: 0.6064517 (92)\ttotal: 2.95s\tremaining: 775ms\n",
      "95:\ttest: 0.6062417\tbest: 0.6064517 (92)\ttotal: 3.01s\tremaining: 752ms\n",
      "96:\ttest: 0.6061247\tbest: 0.6064517 (92)\ttotal: 3.07s\tremaining: 728ms\n",
      "97:\ttest: 0.6061472\tbest: 0.6064517 (92)\ttotal: 3.14s\tremaining: 704ms\n",
      "98:\ttest: 0.6061424\tbest: 0.6064517 (92)\ttotal: 3.2s\tremaining: 678ms\n",
      "99:\ttest: 0.6060623\tbest: 0.6064517 (92)\ttotal: 3.26s\tremaining: 652ms\n",
      "100:\ttest: 0.6060953\tbest: 0.6064517 (92)\ttotal: 3.4s\tremaining: 640ms\n",
      "101:\ttest: 0.6060953\tbest: 0.6064517 (92)\ttotal: 3.45s\tremaining: 609ms\n",
      "102:\ttest: 0.6060707\tbest: 0.6064517 (92)\ttotal: 3.5s\tremaining: 578ms\n",
      "103:\ttest: 0.6061087\tbest: 0.6064517 (92)\ttotal: 3.53s\tremaining: 544ms\n",
      "104:\ttest: 0.6061124\tbest: 0.6064517 (92)\ttotal: 3.57s\tremaining: 510ms\n",
      "105:\ttest: 0.6061124\tbest: 0.6064517 (92)\ttotal: 3.66s\tremaining: 483ms\n",
      "106:\ttest: 0.6060850\tbest: 0.6064517 (92)\ttotal: 3.71s\tremaining: 450ms\n",
      "107:\ttest: 0.6060395\tbest: 0.6064517 (92)\ttotal: 3.77s\tremaining: 419ms\n",
      "108:\ttest: 0.6060395\tbest: 0.6064517 (92)\ttotal: 3.8s\tremaining: 383ms\n",
      "109:\ttest: 0.6062178\tbest: 0.6064517 (92)\ttotal: 3.86s\tremaining: 351ms\n",
      "110:\ttest: 0.6062189\tbest: 0.6064517 (92)\ttotal: 3.9s\tremaining: 317ms\n",
      "111:\ttest: 0.6064307\tbest: 0.6064517 (92)\ttotal: 3.94s\tremaining: 282ms\n",
      "112:\ttest: 0.6064307\tbest: 0.6064517 (92)\ttotal: 3.96s\tremaining: 246ms\n",
      "113:\ttest: 0.6064307\tbest: 0.6064517 (92)\ttotal: 3.98s\tremaining: 210ms\n",
      "114:\ttest: 0.6064307\tbest: 0.6064517 (92)\ttotal: 4s\tremaining: 174ms\n",
      "115:\ttest: 0.6064173\tbest: 0.6064517 (92)\ttotal: 4.04s\tremaining: 139ms\n",
      "116:\ttest: 0.6065235\tbest: 0.6065235 (116)\ttotal: 4.07s\tremaining: 104ms\n",
      "117:\ttest: 0.6065372\tbest: 0.6065372 (117)\ttotal: 4.13s\tremaining: 70ms\n",
      "118:\ttest: 0.6065372\tbest: 0.6065372 (117)\ttotal: 4.17s\tremaining: 35ms\n",
      "119:\ttest: 0.6063018\tbest: 0.6065372 (117)\ttotal: 4.21s\tremaining: 0us\n",
      "\n",
      "bestTest = 0.6065371702\n",
      "bestIteration = 117\n",
      "\n",
      "Metric AUC is not calculated on train by default. To calculate this metric on train, add hints=skip_train~false to metric parameters.\n",
      "0:\ttest: 0.5881524\tbest: 0.5881524 (0)\ttotal: 38.5ms\tremaining: 3.81s\n",
      "1:\ttest: 0.5956036\tbest: 0.5956036 (1)\ttotal: 87.5ms\tremaining: 4.29s\n",
      "2:\ttest: 0.5977050\tbest: 0.5977050 (2)\ttotal: 148ms\tremaining: 4.79s\n",
      "3:\ttest: 0.5977029\tbest: 0.5977050 (2)\ttotal: 184ms\tremaining: 4.41s\n",
      "4:\ttest: 0.5991095\tbest: 0.5991095 (4)\ttotal: 221ms\tremaining: 4.21s\n",
      "5:\ttest: 0.5991340\tbest: 0.5991340 (5)\ttotal: 250ms\tremaining: 3.92s\n",
      "6:\ttest: 0.5992906\tbest: 0.5992906 (6)\ttotal: 286ms\tremaining: 3.79s\n",
      "7:\ttest: 0.5992908\tbest: 0.5992908 (7)\ttotal: 329ms\tremaining: 3.79s\n",
      "8:\ttest: 0.5971208\tbest: 0.5992908 (7)\ttotal: 353ms\tremaining: 3.56s\n",
      "9:\ttest: 0.5971208\tbest: 0.5992908 (7)\ttotal: 416ms\tremaining: 3.74s\n",
      "10:\ttest: 0.5965941\tbest: 0.5992908 (7)\ttotal: 452ms\tremaining: 3.66s\n",
      "11:\ttest: 0.5983604\tbest: 0.5992908 (7)\ttotal: 485ms\tremaining: 3.55s\n",
      "12:\ttest: 0.5983604\tbest: 0.5992908 (7)\ttotal: 517ms\tremaining: 3.46s\n",
      "13:\ttest: 0.5981471\tbest: 0.5992908 (7)\ttotal: 544ms\tremaining: 3.34s\n",
      "14:\ttest: 0.6001035\tbest: 0.6001035 (14)\ttotal: 593ms\tremaining: 3.36s\n",
      "15:\ttest: 0.6001076\tbest: 0.6001076 (15)\ttotal: 618ms\tremaining: 3.24s\n",
      "16:\ttest: 0.6044624\tbest: 0.6044624 (16)\ttotal: 648ms\tremaining: 3.16s\n",
      "17:\ttest: 0.6042168\tbest: 0.6044624 (16)\ttotal: 688ms\tremaining: 3.13s\n",
      "18:\ttest: 0.6040329\tbest: 0.6044624 (16)\ttotal: 751ms\tremaining: 3.2s\n",
      "19:\ttest: 0.6039837\tbest: 0.6044624 (16)\ttotal: 808ms\tremaining: 3.23s\n",
      "20:\ttest: 0.6039094\tbest: 0.6044624 (16)\ttotal: 880ms\tremaining: 3.31s\n",
      "21:\ttest: 0.6040490\tbest: 0.6044624 (16)\ttotal: 923ms\tremaining: 3.27s\n",
      "22:\ttest: 0.6040490\tbest: 0.6044624 (16)\ttotal: 950ms\tremaining: 3.18s\n",
      "23:\ttest: 0.6040490\tbest: 0.6044624 (16)\ttotal: 975ms\tremaining: 3.09s\n",
      "24:\ttest: 0.6039828\tbest: 0.6044624 (16)\ttotal: 1s\tremaining: 3.01s\n",
      "25:\ttest: 0.6048100\tbest: 0.6048100 (25)\ttotal: 1.05s\tremaining: 2.99s\n",
      "26:\ttest: 0.6045972\tbest: 0.6048100 (25)\ttotal: 1.08s\tremaining: 2.93s\n",
      "27:\ttest: 0.6047709\tbest: 0.6048100 (25)\ttotal: 1.11s\tremaining: 2.85s\n",
      "28:\ttest: 0.6047156\tbest: 0.6048100 (25)\ttotal: 1.14s\tremaining: 2.79s\n",
      "29:\ttest: 0.6047156\tbest: 0.6048100 (25)\ttotal: 1.16s\tremaining: 2.7s\n",
      "30:\ttest: 0.6047156\tbest: 0.6048100 (25)\ttotal: 1.18s\tremaining: 2.62s\n",
      "31:\ttest: 0.6047156\tbest: 0.6048100 (25)\ttotal: 1.2s\tremaining: 2.55s\n",
      "32:\ttest: 0.6047156\tbest: 0.6048100 (25)\ttotal: 1.22s\tremaining: 2.47s\n",
      "33:\ttest: 0.6048230\tbest: 0.6048230 (33)\ttotal: 1.25s\tremaining: 2.43s\n",
      "34:\ttest: 0.6045472\tbest: 0.6048230 (33)\ttotal: 1.31s\tremaining: 2.44s\n",
      "35:\ttest: 0.6048463\tbest: 0.6048463 (35)\ttotal: 1.35s\tremaining: 2.4s\n",
      "36:\ttest: 0.6049177\tbest: 0.6049177 (36)\ttotal: 1.39s\tremaining: 2.36s\n",
      "37:\ttest: 0.6049229\tbest: 0.6049229 (37)\ttotal: 1.41s\tremaining: 2.3s\n",
      "38:\ttest: 0.6048798\tbest: 0.6049229 (37)\ttotal: 1.43s\tremaining: 2.24s\n",
      "39:\ttest: 0.6048533\tbest: 0.6049229 (37)\ttotal: 1.45s\tremaining: 2.18s\n",
      "40:\ttest: 0.6048533\tbest: 0.6049229 (37)\ttotal: 1.5s\tremaining: 2.16s\n",
      "41:\ttest: 0.6048533\tbest: 0.6049229 (37)\ttotal: 1.53s\tremaining: 2.11s\n",
      "42:\ttest: 0.6044057\tbest: 0.6049229 (37)\ttotal: 1.55s\tremaining: 2.06s\n",
      "43:\ttest: 0.6043485\tbest: 0.6049229 (37)\ttotal: 1.58s\tremaining: 2.02s\n",
      "44:\ttest: 0.6044467\tbest: 0.6049229 (37)\ttotal: 1.61s\tremaining: 1.97s\n",
      "45:\ttest: 0.6044467\tbest: 0.6049229 (37)\ttotal: 1.64s\tremaining: 1.92s\n",
      "46:\ttest: 0.6044816\tbest: 0.6049229 (37)\ttotal: 1.65s\tremaining: 1.86s\n",
      "47:\ttest: 0.6042831\tbest: 0.6049229 (37)\ttotal: 1.68s\tremaining: 1.82s\n",
      "48:\ttest: 0.6041387\tbest: 0.6049229 (37)\ttotal: 1.73s\tremaining: 1.8s\n",
      "49:\ttest: 0.6041492\tbest: 0.6049229 (37)\ttotal: 1.77s\tremaining: 1.77s\n",
      "50:\ttest: 0.6041767\tbest: 0.6049229 (37)\ttotal: 1.78s\tremaining: 1.71s\n",
      "51:\ttest: 0.6041665\tbest: 0.6049229 (37)\ttotal: 1.8s\tremaining: 1.66s\n",
      "52:\ttest: 0.6044901\tbest: 0.6049229 (37)\ttotal: 1.84s\tremaining: 1.63s\n",
      "53:\ttest: 0.6044942\tbest: 0.6049229 (37)\ttotal: 1.86s\tremaining: 1.59s\n",
      "54:\ttest: 0.6044172\tbest: 0.6049229 (37)\ttotal: 1.89s\tremaining: 1.55s\n",
      "55:\ttest: 0.6053559\tbest: 0.6053559 (55)\ttotal: 1.92s\tremaining: 1.51s\n",
      "56:\ttest: 0.6053585\tbest: 0.6053585 (56)\ttotal: 1.97s\tremaining: 1.49s\n",
      "57:\ttest: 0.6054122\tbest: 0.6054122 (57)\ttotal: 1.99s\tremaining: 1.44s\n",
      "58:\ttest: 0.6053354\tbest: 0.6054122 (57)\ttotal: 2.02s\tremaining: 1.4s\n",
      "59:\ttest: 0.6051236\tbest: 0.6054122 (57)\ttotal: 2.05s\tremaining: 1.37s\n",
      "60:\ttest: 0.6051763\tbest: 0.6054122 (57)\ttotal: 2.09s\tremaining: 1.33s\n",
      "61:\ttest: 0.6051763\tbest: 0.6054122 (57)\ttotal: 2.13s\tremaining: 1.31s\n",
      "62:\ttest: 0.6051268\tbest: 0.6054122 (57)\ttotal: 2.15s\tremaining: 1.26s\n",
      "63:\ttest: 0.6051899\tbest: 0.6054122 (57)\ttotal: 2.23s\tremaining: 1.26s\n",
      "64:\ttest: 0.6049877\tbest: 0.6054122 (57)\ttotal: 2.41s\tremaining: 1.3s\n",
      "65:\ttest: 0.6049906\tbest: 0.6054122 (57)\ttotal: 2.48s\tremaining: 1.27s\n",
      "66:\ttest: 0.6049791\tbest: 0.6054122 (57)\ttotal: 2.62s\tremaining: 1.29s\n",
      "67:\ttest: 0.6050184\tbest: 0.6054122 (57)\ttotal: 2.7s\tremaining: 1.27s\n",
      "68:\ttest: 0.6050035\tbest: 0.6054122 (57)\ttotal: 2.77s\tremaining: 1.24s\n",
      "69:\ttest: 0.6049643\tbest: 0.6054122 (57)\ttotal: 2.81s\tremaining: 1.2s\n",
      "70:\ttest: 0.6049643\tbest: 0.6054122 (57)\ttotal: 2.85s\tremaining: 1.16s\n",
      "71:\ttest: 0.6049643\tbest: 0.6054122 (57)\ttotal: 2.87s\tremaining: 1.12s\n",
      "72:\ttest: 0.6049327\tbest: 0.6054122 (57)\ttotal: 2.94s\tremaining: 1.09s\n",
      "73:\ttest: 0.6049742\tbest: 0.6054122 (57)\ttotal: 3.01s\tremaining: 1.06s\n",
      "74:\ttest: 0.6049694\tbest: 0.6054122 (57)\ttotal: 3.11s\tremaining: 1.03s\n",
      "75:\ttest: 0.6049694\tbest: 0.6054122 (57)\ttotal: 3.16s\tremaining: 997ms\n",
      "76:\ttest: 0.6047694\tbest: 0.6054122 (57)\ttotal: 3.2s\tremaining: 955ms\n",
      "77:\ttest: 0.6052510\tbest: 0.6054122 (57)\ttotal: 3.23s\tremaining: 910ms\n",
      "78:\ttest: 0.6052510\tbest: 0.6054122 (57)\ttotal: 3.24s\tremaining: 861ms\n",
      "79:\ttest: 0.6052510\tbest: 0.6054122 (57)\ttotal: 3.26s\tremaining: 815ms\n",
      "80:\ttest: 0.6051938\tbest: 0.6054122 (57)\ttotal: 3.3s\tremaining: 774ms\n",
      "81:\ttest: 0.6051868\tbest: 0.6054122 (57)\ttotal: 3.34s\tremaining: 733ms\n",
      "82:\ttest: 0.6051868\tbest: 0.6054122 (57)\ttotal: 3.39s\tremaining: 694ms\n",
      "83:\ttest: 0.6051868\tbest: 0.6054122 (57)\ttotal: 3.43s\tremaining: 654ms\n",
      "84:\ttest: 0.6051868\tbest: 0.6054122 (57)\ttotal: 3.47s\tremaining: 612ms\n",
      "85:\ttest: 0.6050177\tbest: 0.6054122 (57)\ttotal: 3.51s\tremaining: 571ms\n",
      "86:\ttest: 0.6049543\tbest: 0.6054122 (57)\ttotal: 3.54s\tremaining: 528ms\n",
      "87:\ttest: 0.6049543\tbest: 0.6054122 (57)\ttotal: 3.56s\tremaining: 485ms\n",
      "88:\ttest: 0.6049472\tbest: 0.6054122 (57)\ttotal: 3.58s\tremaining: 442ms\n",
      "89:\ttest: 0.6049472\tbest: 0.6054122 (57)\ttotal: 3.61s\tremaining: 401ms\n",
      "90:\ttest: 0.6049466\tbest: 0.6054122 (57)\ttotal: 3.64s\tremaining: 360ms\n",
      "91:\ttest: 0.6049466\tbest: 0.6054122 (57)\ttotal: 3.66s\tremaining: 318ms\n",
      "92:\ttest: 0.6049216\tbest: 0.6054122 (57)\ttotal: 3.74s\tremaining: 281ms\n",
      "93:\ttest: 0.6049677\tbest: 0.6054122 (57)\ttotal: 3.77s\tremaining: 241ms\n",
      "94:\ttest: 0.6047242\tbest: 0.6054122 (57)\ttotal: 3.79s\tremaining: 200ms\n",
      "95:\ttest: 0.6047242\tbest: 0.6054122 (57)\ttotal: 3.81s\tremaining: 159ms\n",
      "96:\ttest: 0.6045482\tbest: 0.6054122 (57)\ttotal: 3.85s\tremaining: 119ms\n",
      "97:\ttest: 0.6055890\tbest: 0.6055890 (97)\ttotal: 3.97s\tremaining: 81ms\n",
      "98:\ttest: 0.6056905\tbest: 0.6056905 (98)\ttotal: 4.13s\tremaining: 41.7ms\n",
      "99:\ttest: 0.6056418\tbest: 0.6056905 (98)\ttotal: 4.21s\tremaining: 0us\n",
      "\n",
      "bestTest = 0.6056905458\n",
      "bestIteration = 98\n",
      "\n",
      "Metric AUC is not calculated on train by default. To calculate this metric on train, add hints=skip_train~false to metric parameters.\n",
      "0:\ttest: 0.5881524\tbest: 0.5881524 (0)\ttotal: 60.2ms\tremaining: 5.96s\n",
      "1:\ttest: 0.5956036\tbest: 0.5956036 (1)\ttotal: 146ms\tremaining: 7.13s\n",
      "2:\ttest: 0.5977050\tbest: 0.5977050 (2)\ttotal: 219ms\tremaining: 7.09s\n",
      "3:\ttest: 0.5977029\tbest: 0.5977050 (2)\ttotal: 284ms\tremaining: 6.81s\n",
      "4:\ttest: 0.5991095\tbest: 0.5991095 (4)\ttotal: 341ms\tremaining: 6.49s\n",
      "5:\ttest: 0.5991340\tbest: 0.5991340 (5)\ttotal: 402ms\tremaining: 6.3s\n",
      "6:\ttest: 0.5992906\tbest: 0.5992906 (6)\ttotal: 457ms\tremaining: 6.07s\n",
      "7:\ttest: 0.5992908\tbest: 0.5992908 (7)\ttotal: 488ms\tremaining: 5.62s\n",
      "8:\ttest: 0.5971208\tbest: 0.5992908 (7)\ttotal: 512ms\tremaining: 5.17s\n",
      "9:\ttest: 0.5971208\tbest: 0.5992908 (7)\ttotal: 536ms\tremaining: 4.82s\n",
      "10:\ttest: 0.5965941\tbest: 0.5992908 (7)\ttotal: 556ms\tremaining: 4.5s\n",
      "11:\ttest: 0.5983604\tbest: 0.5992908 (7)\ttotal: 581ms\tremaining: 4.26s\n",
      "12:\ttest: 0.5983604\tbest: 0.5992908 (7)\ttotal: 595ms\tremaining: 3.98s\n",
      "13:\ttest: 0.5981474\tbest: 0.5992908 (7)\ttotal: 635ms\tremaining: 3.9s\n",
      "14:\ttest: 0.6032621\tbest: 0.6032621 (14)\ttotal: 673ms\tremaining: 3.81s\n",
      "15:\ttest: 0.6031907\tbest: 0.6032621 (14)\ttotal: 691ms\tremaining: 3.63s\n",
      "16:\ttest: 0.6031872\tbest: 0.6032621 (14)\ttotal: 716ms\tremaining: 3.5s\n",
      "17:\ttest: 0.6020704\tbest: 0.6032621 (14)\ttotal: 750ms\tremaining: 3.42s\n",
      "18:\ttest: 0.6020789\tbest: 0.6032621 (14)\ttotal: 779ms\tremaining: 3.32s\n",
      "19:\ttest: 0.6017852\tbest: 0.6032621 (14)\ttotal: 811ms\tremaining: 3.24s\n",
      "20:\ttest: 0.6017852\tbest: 0.6032621 (14)\ttotal: 826ms\tremaining: 3.11s\n",
      "21:\ttest: 0.6015299\tbest: 0.6032621 (14)\ttotal: 875ms\tremaining: 3.1s\n",
      "22:\ttest: 0.6021321\tbest: 0.6032621 (14)\ttotal: 900ms\tremaining: 3.01s\n",
      "23:\ttest: 0.6021321\tbest: 0.6032621 (14)\ttotal: 918ms\tremaining: 2.91s\n",
      "24:\ttest: 0.6021743\tbest: 0.6032621 (14)\ttotal: 944ms\tremaining: 2.83s\n",
      "25:\ttest: 0.6021743\tbest: 0.6032621 (14)\ttotal: 962ms\tremaining: 2.74s\n",
      "26:\ttest: 0.6021743\tbest: 0.6032621 (14)\ttotal: 979ms\tremaining: 2.65s\n",
      "27:\ttest: 0.6021406\tbest: 0.6032621 (14)\ttotal: 997ms\tremaining: 2.56s\n",
      "28:\ttest: 0.6021406\tbest: 0.6032621 (14)\ttotal: 1.01s\tremaining: 2.49s\n",
      "29:\ttest: 0.6019348\tbest: 0.6032621 (14)\ttotal: 1.05s\tremaining: 2.45s\n",
      "30:\ttest: 0.6023524\tbest: 0.6032621 (14)\ttotal: 1.09s\tremaining: 2.42s\n",
      "31:\ttest: 0.6034538\tbest: 0.6034538 (31)\ttotal: 1.14s\tremaining: 2.41s\n",
      "32:\ttest: 0.6034501\tbest: 0.6034538 (31)\ttotal: 1.15s\tremaining: 2.34s\n",
      "33:\ttest: 0.6030083\tbest: 0.6034538 (31)\ttotal: 1.18s\tremaining: 2.28s\n",
      "34:\ttest: 0.6034008\tbest: 0.6034538 (31)\ttotal: 1.21s\tremaining: 2.25s\n",
      "35:\ttest: 0.6041353\tbest: 0.6041353 (35)\ttotal: 1.24s\tremaining: 2.21s\n",
      "36:\ttest: 0.6041424\tbest: 0.6041424 (36)\ttotal: 1.27s\tremaining: 2.17s\n",
      "37:\ttest: 0.6041424\tbest: 0.6041424 (36)\ttotal: 1.29s\tremaining: 2.1s\n",
      "38:\ttest: 0.6045092\tbest: 0.6045092 (38)\ttotal: 1.35s\tremaining: 2.11s\n",
      "39:\ttest: 0.6045839\tbest: 0.6045839 (39)\ttotal: 1.38s\tremaining: 2.06s\n",
      "40:\ttest: 0.6051150\tbest: 0.6051150 (40)\ttotal: 1.41s\tremaining: 2.03s\n",
      "41:\ttest: 0.6050323\tbest: 0.6051150 (40)\ttotal: 1.44s\tremaining: 1.99s\n",
      "42:\ttest: 0.6053699\tbest: 0.6053699 (42)\ttotal: 1.47s\tremaining: 1.94s\n",
      "43:\ttest: 0.6053699\tbest: 0.6053699 (42)\ttotal: 1.5s\tremaining: 1.91s\n",
      "44:\ttest: 0.6059453\tbest: 0.6059453 (44)\ttotal: 1.54s\tremaining: 1.88s\n",
      "45:\ttest: 0.6057761\tbest: 0.6059453 (44)\ttotal: 1.57s\tremaining: 1.84s\n",
      "46:\ttest: 0.6057761\tbest: 0.6059453 (44)\ttotal: 1.59s\tremaining: 1.79s\n",
      "47:\ttest: 0.6057761\tbest: 0.6059453 (44)\ttotal: 1.61s\tremaining: 1.74s\n",
      "48:\ttest: 0.6057591\tbest: 0.6059453 (44)\ttotal: 1.64s\tremaining: 1.7s\n",
      "49:\ttest: 0.6057360\tbest: 0.6059453 (44)\ttotal: 1.66s\tremaining: 1.66s\n",
      "50:\ttest: 0.6057952\tbest: 0.6059453 (44)\ttotal: 1.68s\tremaining: 1.61s\n",
      "51:\ttest: 0.6057317\tbest: 0.6059453 (44)\ttotal: 1.75s\tremaining: 1.61s\n",
      "52:\ttest: 0.6056916\tbest: 0.6059453 (44)\ttotal: 1.78s\tremaining: 1.57s\n",
      "53:\ttest: 0.6056681\tbest: 0.6059453 (44)\ttotal: 1.81s\tremaining: 1.54s\n",
      "54:\ttest: 0.6057115\tbest: 0.6059453 (44)\ttotal: 1.84s\tremaining: 1.5s\n",
      "55:\ttest: 0.6056256\tbest: 0.6059453 (44)\ttotal: 1.87s\tremaining: 1.47s\n",
      "56:\ttest: 0.6056319\tbest: 0.6059453 (44)\ttotal: 1.89s\tremaining: 1.43s\n",
      "57:\ttest: 0.6057468\tbest: 0.6059453 (44)\ttotal: 1.93s\tremaining: 1.39s\n",
      "58:\ttest: 0.6060326\tbest: 0.6060326 (58)\ttotal: 1.97s\tremaining: 1.37s\n",
      "59:\ttest: 0.6062504\tbest: 0.6062504 (59)\ttotal: 2.01s\tremaining: 1.34s\n",
      "60:\ttest: 0.6062504\tbest: 0.6062504 (59)\ttotal: 2.03s\tremaining: 1.3s\n",
      "61:\ttest: 0.6060423\tbest: 0.6062504 (59)\ttotal: 2.06s\tremaining: 1.26s\n",
      "62:\ttest: 0.6060050\tbest: 0.6062504 (59)\ttotal: 2.1s\tremaining: 1.23s\n",
      "63:\ttest: 0.6059835\tbest: 0.6062504 (59)\ttotal: 2.11s\tremaining: 1.19s\n",
      "64:\ttest: 0.6059118\tbest: 0.6062504 (59)\ttotal: 2.14s\tremaining: 1.15s\n",
      "65:\ttest: 0.6059034\tbest: 0.6062504 (59)\ttotal: 2.16s\tremaining: 1.11s\n",
      "66:\ttest: 0.6059034\tbest: 0.6062504 (59)\ttotal: 2.21s\tremaining: 1.09s\n",
      "67:\ttest: 0.6059034\tbest: 0.6062504 (59)\ttotal: 2.23s\tremaining: 1.05s\n",
      "68:\ttest: 0.6059034\tbest: 0.6062504 (59)\ttotal: 2.25s\tremaining: 1.01s\n",
      "69:\ttest: 0.6059464\tbest: 0.6062504 (59)\ttotal: 2.27s\tremaining: 973ms\n",
      "70:\ttest: 0.6057489\tbest: 0.6062504 (59)\ttotal: 2.3s\tremaining: 941ms\n",
      "71:\ttest: 0.6055168\tbest: 0.6062504 (59)\ttotal: 2.34s\tremaining: 909ms\n",
      "72:\ttest: 0.6055213\tbest: 0.6062504 (59)\ttotal: 2.37s\tremaining: 875ms\n",
      "73:\ttest: 0.6054311\tbest: 0.6062504 (59)\ttotal: 2.4s\tremaining: 843ms\n",
      "74:\ttest: 0.6056494\tbest: 0.6062504 (59)\ttotal: 2.46s\tremaining: 820ms\n",
      "75:\ttest: 0.6055877\tbest: 0.6062504 (59)\ttotal: 2.5s\tremaining: 788ms\n",
      "76:\ttest: 0.6054193\tbest: 0.6062504 (59)\ttotal: 2.53s\tremaining: 755ms\n",
      "77:\ttest: 0.6053323\tbest: 0.6062504 (59)\ttotal: 2.56s\tremaining: 722ms\n",
      "78:\ttest: 0.6055839\tbest: 0.6062504 (59)\ttotal: 2.59s\tremaining: 689ms\n",
      "79:\ttest: 0.6055839\tbest: 0.6062504 (59)\ttotal: 2.61s\tremaining: 653ms\n",
      "80:\ttest: 0.6055872\tbest: 0.6062504 (59)\ttotal: 2.64s\tremaining: 619ms\n",
      "81:\ttest: 0.6055899\tbest: 0.6062504 (59)\ttotal: 2.7s\tremaining: 593ms\n",
      "82:\ttest: 0.6055902\tbest: 0.6062504 (59)\ttotal: 2.73s\tremaining: 560ms\n",
      "83:\ttest: 0.6055770\tbest: 0.6062504 (59)\ttotal: 2.75s\tremaining: 525ms\n",
      "84:\ttest: 0.6057107\tbest: 0.6062504 (59)\ttotal: 2.78s\tremaining: 490ms\n",
      "85:\ttest: 0.6057107\tbest: 0.6062504 (59)\ttotal: 2.8s\tremaining: 456ms\n",
      "86:\ttest: 0.6055550\tbest: 0.6062504 (59)\ttotal: 2.82s\tremaining: 421ms\n",
      "87:\ttest: 0.6056960\tbest: 0.6062504 (59)\ttotal: 2.84s\tremaining: 387ms\n",
      "88:\ttest: 0.6068641\tbest: 0.6068641 (88)\ttotal: 2.87s\tremaining: 354ms\n",
      "89:\ttest: 0.6069686\tbest: 0.6069686 (89)\ttotal: 2.9s\tremaining: 322ms\n",
      "90:\ttest: 0.6061509\tbest: 0.6069686 (89)\ttotal: 2.96s\tremaining: 292ms\n",
      "91:\ttest: 0.6061460\tbest: 0.6069686 (89)\ttotal: 2.98s\tremaining: 259ms\n",
      "92:\ttest: 0.6062686\tbest: 0.6069686 (89)\ttotal: 3.01s\tremaining: 226ms\n",
      "93:\ttest: 0.6062017\tbest: 0.6069686 (89)\ttotal: 3.03s\tremaining: 194ms\n",
      "94:\ttest: 0.6062228\tbest: 0.6069686 (89)\ttotal: 3.06s\tremaining: 161ms\n",
      "95:\ttest: 0.6062228\tbest: 0.6069686 (89)\ttotal: 3.07s\tremaining: 128ms\n",
      "96:\ttest: 0.6062133\tbest: 0.6069686 (89)\ttotal: 3.09s\tremaining: 95.6ms\n",
      "97:\ttest: 0.6060777\tbest: 0.6069686 (89)\ttotal: 3.13s\tremaining: 64ms\n",
      "98:\ttest: 0.6060874\tbest: 0.6069686 (89)\ttotal: 3.16s\tremaining: 31.9ms\n",
      "99:\ttest: 0.6060375\tbest: 0.6069686 (89)\ttotal: 3.2s\tremaining: 0us\n",
      "\n",
      "bestTest = 0.6069686486\n",
      "bestIteration = 89\n",
      "\n",
      "Metric AUC is not calculated on train by default. To calculate this metric on train, add hints=skip_train~false to metric parameters.\n",
      "0:\ttest: 0.5881524\tbest: 0.5881524 (0)\ttotal: 30.6ms\tremaining: 3.64s\n",
      "1:\ttest: 0.5956036\tbest: 0.5956036 (1)\ttotal: 63ms\tremaining: 3.72s\n",
      "2:\ttest: 0.5977050\tbest: 0.5977050 (2)\ttotal: 100ms\tremaining: 3.91s\n",
      "3:\ttest: 0.5977029\tbest: 0.5977050 (2)\ttotal: 128ms\tremaining: 3.7s\n",
      "4:\ttest: 0.5991095\tbest: 0.5991095 (4)\ttotal: 174ms\tremaining: 3.99s\n",
      "5:\ttest: 0.5991340\tbest: 0.5991340 (5)\ttotal: 198ms\tremaining: 3.77s\n",
      "6:\ttest: 0.5992906\tbest: 0.5992906 (6)\ttotal: 230ms\tremaining: 3.71s\n",
      "7:\ttest: 0.5992908\tbest: 0.5992908 (7)\ttotal: 262ms\tremaining: 3.66s\n",
      "8:\ttest: 0.5971208\tbest: 0.5992908 (7)\ttotal: 284ms\tremaining: 3.5s\n",
      "9:\ttest: 0.5971208\tbest: 0.5992908 (7)\ttotal: 307ms\tremaining: 3.38s\n",
      "10:\ttest: 0.5965941\tbest: 0.5992908 (7)\ttotal: 333ms\tremaining: 3.3s\n",
      "11:\ttest: 0.5983604\tbest: 0.5992908 (7)\ttotal: 360ms\tremaining: 3.24s\n",
      "12:\ttest: 0.5983604\tbest: 0.5992908 (7)\ttotal: 373ms\tremaining: 3.07s\n",
      "13:\ttest: 0.5981471\tbest: 0.5992908 (7)\ttotal: 406ms\tremaining: 3.08s\n",
      "14:\ttest: 0.6001035\tbest: 0.6001035 (14)\ttotal: 439ms\tremaining: 3.08s\n",
      "15:\ttest: 0.6001076\tbest: 0.6001076 (15)\ttotal: 460ms\tremaining: 2.99s\n",
      "16:\ttest: 0.6044624\tbest: 0.6044624 (16)\ttotal: 490ms\tremaining: 2.96s\n",
      "17:\ttest: 0.6042168\tbest: 0.6044624 (16)\ttotal: 522ms\tremaining: 2.96s\n",
      "18:\ttest: 0.6040329\tbest: 0.6044624 (16)\ttotal: 557ms\tremaining: 2.96s\n",
      "19:\ttest: 0.6039837\tbest: 0.6044624 (16)\ttotal: 581ms\tremaining: 2.9s\n",
      "20:\ttest: 0.6039094\tbest: 0.6044624 (16)\ttotal: 605ms\tremaining: 2.85s\n",
      "21:\ttest: 0.6040490\tbest: 0.6044624 (16)\ttotal: 660ms\tremaining: 2.94s\n",
      "22:\ttest: 0.6040490\tbest: 0.6044624 (16)\ttotal: 692ms\tremaining: 2.92s\n",
      "23:\ttest: 0.6040490\tbest: 0.6044624 (16)\ttotal: 712ms\tremaining: 2.85s\n",
      "24:\ttest: 0.6039828\tbest: 0.6044624 (16)\ttotal: 737ms\tremaining: 2.8s\n",
      "25:\ttest: 0.6048100\tbest: 0.6048100 (25)\ttotal: 770ms\tremaining: 2.78s\n",
      "26:\ttest: 0.6045972\tbest: 0.6048100 (25)\ttotal: 801ms\tremaining: 2.76s\n",
      "27:\ttest: 0.6047709\tbest: 0.6048100 (25)\ttotal: 822ms\tremaining: 2.7s\n",
      "28:\ttest: 0.6047156\tbest: 0.6048100 (25)\ttotal: 855ms\tremaining: 2.68s\n",
      "29:\ttest: 0.6047156\tbest: 0.6048100 (25)\ttotal: 892ms\tremaining: 2.68s\n",
      "30:\ttest: 0.6047156\tbest: 0.6048100 (25)\ttotal: 910ms\tremaining: 2.61s\n",
      "31:\ttest: 0.6047156\tbest: 0.6048100 (25)\ttotal: 928ms\tremaining: 2.55s\n",
      "32:\ttest: 0.6047156\tbest: 0.6048100 (25)\ttotal: 944ms\tremaining: 2.49s\n",
      "33:\ttest: 0.6048230\tbest: 0.6048230 (33)\ttotal: 973ms\tremaining: 2.46s\n",
      "34:\ttest: 0.6045472\tbest: 0.6048230 (33)\ttotal: 1s\tremaining: 2.44s\n",
      "35:\ttest: 0.6048463\tbest: 0.6048463 (35)\ttotal: 1.04s\tremaining: 2.42s\n",
      "36:\ttest: 0.6049177\tbest: 0.6049177 (36)\ttotal: 1.07s\tremaining: 2.4s\n",
      "37:\ttest: 0.6049229\tbest: 0.6049229 (37)\ttotal: 1.09s\tremaining: 2.36s\n",
      "38:\ttest: 0.6048798\tbest: 0.6049229 (37)\ttotal: 1.13s\tremaining: 2.35s\n",
      "39:\ttest: 0.6048533\tbest: 0.6049229 (37)\ttotal: 1.16s\tremaining: 2.32s\n",
      "40:\ttest: 0.6048533\tbest: 0.6049229 (37)\ttotal: 1.19s\tremaining: 2.29s\n",
      "41:\ttest: 0.6048533\tbest: 0.6049229 (37)\ttotal: 1.22s\tremaining: 2.26s\n",
      "42:\ttest: 0.6044057\tbest: 0.6049229 (37)\ttotal: 1.25s\tremaining: 2.23s\n",
      "43:\ttest: 0.6043485\tbest: 0.6049229 (37)\ttotal: 1.27s\tremaining: 2.2s\n",
      "44:\ttest: 0.6044467\tbest: 0.6049229 (37)\ttotal: 1.32s\tremaining: 2.19s\n",
      "45:\ttest: 0.6044467\tbest: 0.6049229 (37)\ttotal: 1.34s\tremaining: 2.15s\n",
      "46:\ttest: 0.6044816\tbest: 0.6049229 (37)\ttotal: 1.36s\tremaining: 2.11s\n",
      "47:\ttest: 0.6042831\tbest: 0.6049229 (37)\ttotal: 1.39s\tremaining: 2.09s\n",
      "48:\ttest: 0.6041387\tbest: 0.6049229 (37)\ttotal: 1.44s\tremaining: 2.09s\n",
      "49:\ttest: 0.6041492\tbest: 0.6049229 (37)\ttotal: 1.47s\tremaining: 2.06s\n",
      "50:\ttest: 0.6041767\tbest: 0.6049229 (37)\ttotal: 1.49s\tremaining: 2.02s\n",
      "51:\ttest: 0.6041665\tbest: 0.6049229 (37)\ttotal: 1.52s\tremaining: 1.99s\n",
      "52:\ttest: 0.6044901\tbest: 0.6049229 (37)\ttotal: 1.57s\tremaining: 1.98s\n",
      "53:\ttest: 0.6044942\tbest: 0.6049229 (37)\ttotal: 1.59s\tremaining: 1.95s\n",
      "54:\ttest: 0.6044172\tbest: 0.6049229 (37)\ttotal: 1.62s\tremaining: 1.92s\n",
      "55:\ttest: 0.6053559\tbest: 0.6053559 (55)\ttotal: 1.66s\tremaining: 1.9s\n",
      "56:\ttest: 0.6053585\tbest: 0.6053585 (56)\ttotal: 1.69s\tremaining: 1.86s\n",
      "57:\ttest: 0.6054122\tbest: 0.6054122 (57)\ttotal: 1.71s\tremaining: 1.83s\n",
      "58:\ttest: 0.6053354\tbest: 0.6054122 (57)\ttotal: 1.76s\tremaining: 1.82s\n",
      "59:\ttest: 0.6051236\tbest: 0.6054122 (57)\ttotal: 1.79s\tremaining: 1.79s\n",
      "60:\ttest: 0.6051763\tbest: 0.6054122 (57)\ttotal: 1.82s\tremaining: 1.76s\n",
      "61:\ttest: 0.6051763\tbest: 0.6054122 (57)\ttotal: 1.84s\tremaining: 1.73s\n",
      "62:\ttest: 0.6051268\tbest: 0.6054122 (57)\ttotal: 1.87s\tremaining: 1.69s\n",
      "63:\ttest: 0.6051899\tbest: 0.6054122 (57)\ttotal: 1.9s\tremaining: 1.66s\n",
      "64:\ttest: 0.6049877\tbest: 0.6054122 (57)\ttotal: 1.93s\tremaining: 1.63s\n",
      "65:\ttest: 0.6049906\tbest: 0.6054122 (57)\ttotal: 1.95s\tremaining: 1.6s\n",
      "66:\ttest: 0.6049791\tbest: 0.6054122 (57)\ttotal: 2.02s\tremaining: 1.6s\n",
      "67:\ttest: 0.6050184\tbest: 0.6054122 (57)\ttotal: 2.04s\tremaining: 1.56s\n",
      "68:\ttest: 0.6050035\tbest: 0.6054122 (57)\ttotal: 2.07s\tremaining: 1.53s\n",
      "69:\ttest: 0.6049643\tbest: 0.6054122 (57)\ttotal: 2.09s\tremaining: 1.49s\n",
      "70:\ttest: 0.6049643\tbest: 0.6054122 (57)\ttotal: 2.12s\tremaining: 1.46s\n",
      "71:\ttest: 0.6049643\tbest: 0.6054122 (57)\ttotal: 2.13s\tremaining: 1.42s\n",
      "72:\ttest: 0.6049327\tbest: 0.6054122 (57)\ttotal: 2.15s\tremaining: 1.38s\n",
      "73:\ttest: 0.6049742\tbest: 0.6054122 (57)\ttotal: 2.18s\tremaining: 1.36s\n",
      "74:\ttest: 0.6049694\tbest: 0.6054122 (57)\ttotal: 2.21s\tremaining: 1.33s\n",
      "75:\ttest: 0.6049694\tbest: 0.6054122 (57)\ttotal: 2.26s\tremaining: 1.31s\n",
      "76:\ttest: 0.6047694\tbest: 0.6054122 (57)\ttotal: 2.29s\tremaining: 1.28s\n",
      "77:\ttest: 0.6052510\tbest: 0.6054122 (57)\ttotal: 2.32s\tremaining: 1.25s\n",
      "78:\ttest: 0.6052510\tbest: 0.6054122 (57)\ttotal: 2.34s\tremaining: 1.21s\n",
      "79:\ttest: 0.6052510\tbest: 0.6054122 (57)\ttotal: 2.35s\tremaining: 1.18s\n",
      "80:\ttest: 0.6051938\tbest: 0.6054122 (57)\ttotal: 2.38s\tremaining: 1.15s\n",
      "81:\ttest: 0.6051868\tbest: 0.6054122 (57)\ttotal: 2.41s\tremaining: 1.11s\n",
      "82:\ttest: 0.6051868\tbest: 0.6054122 (57)\ttotal: 2.42s\tremaining: 1.08s\n",
      "83:\ttest: 0.6051868\tbest: 0.6054122 (57)\ttotal: 2.45s\tremaining: 1.05s\n",
      "84:\ttest: 0.6051868\tbest: 0.6054122 (57)\ttotal: 2.47s\tremaining: 1.02s\n",
      "85:\ttest: 0.6050177\tbest: 0.6054122 (57)\ttotal: 2.52s\tremaining: 996ms\n",
      "86:\ttest: 0.6049543\tbest: 0.6054122 (57)\ttotal: 2.56s\tremaining: 969ms\n",
      "87:\ttest: 0.6049543\tbest: 0.6054122 (57)\ttotal: 2.58s\tremaining: 937ms\n",
      "88:\ttest: 0.6049472\tbest: 0.6054122 (57)\ttotal: 2.6s\tremaining: 905ms\n",
      "89:\ttest: 0.6049472\tbest: 0.6054122 (57)\ttotal: 2.62s\tremaining: 873ms\n",
      "90:\ttest: 0.6049466\tbest: 0.6054122 (57)\ttotal: 2.65s\tremaining: 843ms\n",
      "91:\ttest: 0.6049466\tbest: 0.6054122 (57)\ttotal: 2.66s\tremaining: 810ms\n",
      "92:\ttest: 0.6049216\tbest: 0.6054122 (57)\ttotal: 2.74s\tremaining: 795ms\n",
      "93:\ttest: 0.6049677\tbest: 0.6054122 (57)\ttotal: 2.77s\tremaining: 765ms\n",
      "94:\ttest: 0.6047242\tbest: 0.6054122 (57)\ttotal: 2.79s\tremaining: 734ms\n",
      "95:\ttest: 0.6047242\tbest: 0.6054122 (57)\ttotal: 2.81s\tremaining: 702ms\n",
      "96:\ttest: 0.6045482\tbest: 0.6054122 (57)\ttotal: 2.84s\tremaining: 673ms\n",
      "97:\ttest: 0.6055890\tbest: 0.6055890 (97)\ttotal: 2.87s\tremaining: 645ms\n",
      "98:\ttest: 0.6056905\tbest: 0.6056905 (98)\ttotal: 2.9s\tremaining: 615ms\n",
      "99:\ttest: 0.6056418\tbest: 0.6056905 (98)\ttotal: 2.93s\tremaining: 585ms\n",
      "100:\ttest: 0.6056412\tbest: 0.6056905 (98)\ttotal: 2.98s\tremaining: 560ms\n",
      "101:\ttest: 0.6054490\tbest: 0.6056905 (98)\ttotal: 3.01s\tremaining: 531ms\n",
      "102:\ttest: 0.6052511\tbest: 0.6056905 (98)\ttotal: 3.03s\tremaining: 499ms\n",
      "103:\ttest: 0.6052512\tbest: 0.6056905 (98)\ttotal: 3.05s\tremaining: 469ms\n",
      "104:\ttest: 0.6057158\tbest: 0.6057158 (104)\ttotal: 3.08s\tremaining: 440ms\n",
      "105:\ttest: 0.6056393\tbest: 0.6057158 (104)\ttotal: 3.11s\tremaining: 411ms\n",
      "106:\ttest: 0.6056393\tbest: 0.6057158 (104)\ttotal: 3.13s\tremaining: 380ms\n",
      "107:\ttest: 0.6056394\tbest: 0.6057158 (104)\ttotal: 3.15s\tremaining: 350ms\n",
      "108:\ttest: 0.6056742\tbest: 0.6057158 (104)\ttotal: 3.19s\tremaining: 322ms\n",
      "109:\ttest: 0.6055478\tbest: 0.6057158 (104)\ttotal: 3.23s\tremaining: 293ms\n",
      "110:\ttest: 0.6055218\tbest: 0.6057158 (104)\ttotal: 3.25s\tremaining: 263ms\n",
      "111:\ttest: 0.6049909\tbest: 0.6057158 (104)\ttotal: 3.28s\tremaining: 234ms\n",
      "112:\ttest: 0.6049973\tbest: 0.6057158 (104)\ttotal: 3.31s\tremaining: 205ms\n",
      "113:\ttest: 0.6049869\tbest: 0.6057158 (104)\ttotal: 3.34s\tremaining: 176ms\n",
      "114:\ttest: 0.6049869\tbest: 0.6057158 (104)\ttotal: 3.35s\tremaining: 146ms\n",
      "115:\ttest: 0.6049897\tbest: 0.6057158 (104)\ttotal: 3.38s\tremaining: 117ms\n",
      "116:\ttest: 0.6045691\tbest: 0.6057158 (104)\ttotal: 3.42s\tremaining: 87.7ms\n",
      "117:\ttest: 0.6042684\tbest: 0.6057158 (104)\ttotal: 3.45s\tremaining: 58.5ms\n",
      "118:\ttest: 0.6042827\tbest: 0.6057158 (104)\ttotal: 3.48s\tremaining: 29.3ms\n",
      "119:\ttest: 0.6042401\tbest: 0.6057158 (104)\ttotal: 3.5s\tremaining: 0us\n",
      "\n",
      "bestTest = 0.6057158215\n",
      "bestIteration = 104\n",
      "\n",
      "Metric AUC is not calculated on train by default. To calculate this metric on train, add hints=skip_train~false to metric parameters.\n",
      "0:\ttest: 0.5881524\tbest: 0.5881524 (0)\ttotal: 33.2ms\tremaining: 3.95s\n",
      "1:\ttest: 0.5956036\tbest: 0.5956036 (1)\ttotal: 68.1ms\tremaining: 4.02s\n",
      "2:\ttest: 0.5977050\tbest: 0.5977050 (2)\ttotal: 101ms\tremaining: 3.93s\n",
      "3:\ttest: 0.5977029\tbest: 0.5977050 (2)\ttotal: 144ms\tremaining: 4.17s\n",
      "4:\ttest: 0.5991095\tbest: 0.5991095 (4)\ttotal: 191ms\tremaining: 4.4s\n",
      "5:\ttest: 0.5991340\tbest: 0.5991340 (5)\ttotal: 213ms\tremaining: 4.05s\n",
      "6:\ttest: 0.5992906\tbest: 0.5992906 (6)\ttotal: 244ms\tremaining: 3.94s\n",
      "7:\ttest: 0.5992908\tbest: 0.5992908 (7)\ttotal: 279ms\tremaining: 3.91s\n",
      "8:\ttest: 0.5971208\tbest: 0.5992908 (7)\ttotal: 303ms\tremaining: 3.73s\n",
      "9:\ttest: 0.5971208\tbest: 0.5992908 (7)\ttotal: 328ms\tremaining: 3.61s\n",
      "10:\ttest: 0.5965941\tbest: 0.5992908 (7)\ttotal: 363ms\tremaining: 3.6s\n",
      "11:\ttest: 0.5983604\tbest: 0.5992908 (7)\ttotal: 393ms\tremaining: 3.54s\n",
      "12:\ttest: 0.5983604\tbest: 0.5992908 (7)\ttotal: 407ms\tremaining: 3.35s\n",
      "13:\ttest: 0.5981474\tbest: 0.5992908 (7)\ttotal: 431ms\tremaining: 3.27s\n",
      "14:\ttest: 0.6032621\tbest: 0.6032621 (14)\ttotal: 464ms\tremaining: 3.25s\n",
      "15:\ttest: 0.6031907\tbest: 0.6032621 (14)\ttotal: 483ms\tremaining: 3.14s\n",
      "16:\ttest: 0.6031872\tbest: 0.6032621 (14)\ttotal: 504ms\tremaining: 3.06s\n",
      "17:\ttest: 0.6020704\tbest: 0.6032621 (14)\ttotal: 537ms\tremaining: 3.04s\n",
      "18:\ttest: 0.6020789\tbest: 0.6032621 (14)\ttotal: 575ms\tremaining: 3.05s\n",
      "19:\ttest: 0.6017852\tbest: 0.6032621 (14)\ttotal: 614ms\tremaining: 3.07s\n",
      "20:\ttest: 0.6017852\tbest: 0.6032621 (14)\ttotal: 632ms\tremaining: 2.98s\n",
      "21:\ttest: 0.6015299\tbest: 0.6032621 (14)\ttotal: 660ms\tremaining: 2.94s\n",
      "22:\ttest: 0.6021321\tbest: 0.6032621 (14)\ttotal: 681ms\tremaining: 2.87s\n",
      "23:\ttest: 0.6021321\tbest: 0.6032621 (14)\ttotal: 700ms\tremaining: 2.8s\n",
      "24:\ttest: 0.6021743\tbest: 0.6032621 (14)\ttotal: 726ms\tremaining: 2.76s\n",
      "25:\ttest: 0.6021743\tbest: 0.6032621 (14)\ttotal: 742ms\tremaining: 2.68s\n",
      "26:\ttest: 0.6021743\tbest: 0.6032621 (14)\ttotal: 763ms\tremaining: 2.63s\n",
      "27:\ttest: 0.6021406\tbest: 0.6032621 (14)\ttotal: 784ms\tremaining: 2.58s\n",
      "28:\ttest: 0.6021406\tbest: 0.6032621 (14)\ttotal: 813ms\tremaining: 2.55s\n",
      "29:\ttest: 0.6019348\tbest: 0.6032621 (14)\ttotal: 840ms\tremaining: 2.52s\n",
      "30:\ttest: 0.6023524\tbest: 0.6032621 (14)\ttotal: 866ms\tremaining: 2.49s\n",
      "31:\ttest: 0.6034538\tbest: 0.6034538 (31)\ttotal: 898ms\tremaining: 2.47s\n",
      "32:\ttest: 0.6034501\tbest: 0.6034538 (31)\ttotal: 916ms\tremaining: 2.41s\n",
      "33:\ttest: 0.6030083\tbest: 0.6034538 (31)\ttotal: 938ms\tremaining: 2.37s\n",
      "34:\ttest: 0.6034008\tbest: 0.6034538 (31)\ttotal: 969ms\tremaining: 2.35s\n",
      "35:\ttest: 0.6041353\tbest: 0.6041353 (35)\ttotal: 1.03s\tremaining: 2.4s\n",
      "36:\ttest: 0.6041424\tbest: 0.6041424 (36)\ttotal: 1.06s\tremaining: 2.38s\n",
      "37:\ttest: 0.6041424\tbest: 0.6041424 (36)\ttotal: 1.07s\tremaining: 2.32s\n",
      "38:\ttest: 0.6045092\tbest: 0.6045092 (38)\ttotal: 1.1s\tremaining: 2.29s\n",
      "39:\ttest: 0.6045839\tbest: 0.6045839 (39)\ttotal: 1.14s\tremaining: 2.27s\n",
      "40:\ttest: 0.6051150\tbest: 0.6051150 (40)\ttotal: 1.17s\tremaining: 2.26s\n",
      "41:\ttest: 0.6050323\tbest: 0.6051150 (40)\ttotal: 1.2s\tremaining: 2.23s\n",
      "42:\ttest: 0.6053699\tbest: 0.6053699 (42)\ttotal: 1.23s\tremaining: 2.21s\n",
      "43:\ttest: 0.6053699\tbest: 0.6053699 (42)\ttotal: 1.27s\tremaining: 2.19s\n",
      "44:\ttest: 0.6059453\tbest: 0.6059453 (44)\ttotal: 1.29s\tremaining: 2.15s\n",
      "45:\ttest: 0.6057761\tbest: 0.6059453 (44)\ttotal: 1.33s\tremaining: 2.14s\n",
      "46:\ttest: 0.6057761\tbest: 0.6059453 (44)\ttotal: 1.34s\tremaining: 2.09s\n",
      "47:\ttest: 0.6057761\tbest: 0.6059453 (44)\ttotal: 1.36s\tremaining: 2.05s\n",
      "48:\ttest: 0.6057591\tbest: 0.6059453 (44)\ttotal: 1.39s\tremaining: 2.01s\n",
      "49:\ttest: 0.6057360\tbest: 0.6059453 (44)\ttotal: 1.41s\tremaining: 1.97s\n",
      "50:\ttest: 0.6057952\tbest: 0.6059453 (44)\ttotal: 1.45s\tremaining: 1.96s\n",
      "51:\ttest: 0.6057317\tbest: 0.6059453 (44)\ttotal: 1.5s\tremaining: 1.96s\n",
      "52:\ttest: 0.6056916\tbest: 0.6059453 (44)\ttotal: 1.53s\tremaining: 1.93s\n",
      "53:\ttest: 0.6056681\tbest: 0.6059453 (44)\ttotal: 1.56s\tremaining: 1.91s\n",
      "54:\ttest: 0.6057115\tbest: 0.6059453 (44)\ttotal: 1.59s\tremaining: 1.89s\n",
      "55:\ttest: 0.6056256\tbest: 0.6059453 (44)\ttotal: 1.62s\tremaining: 1.86s\n",
      "56:\ttest: 0.6056319\tbest: 0.6059453 (44)\ttotal: 1.64s\tremaining: 1.81s\n",
      "57:\ttest: 0.6057468\tbest: 0.6059453 (44)\ttotal: 1.7s\tremaining: 1.81s\n",
      "58:\ttest: 0.6060326\tbest: 0.6060326 (58)\ttotal: 1.73s\tremaining: 1.79s\n",
      "59:\ttest: 0.6062504\tbest: 0.6062504 (59)\ttotal: 1.76s\tremaining: 1.76s\n",
      "60:\ttest: 0.6062504\tbest: 0.6062504 (59)\ttotal: 1.78s\tremaining: 1.72s\n",
      "61:\ttest: 0.6060423\tbest: 0.6062504 (59)\ttotal: 1.81s\tremaining: 1.7s\n",
      "62:\ttest: 0.6060050\tbest: 0.6062504 (59)\ttotal: 1.84s\tremaining: 1.67s\n",
      "63:\ttest: 0.6059835\tbest: 0.6062504 (59)\ttotal: 1.86s\tremaining: 1.63s\n",
      "64:\ttest: 0.6059118\tbest: 0.6062504 (59)\ttotal: 1.9s\tremaining: 1.6s\n",
      "65:\ttest: 0.6059034\tbest: 0.6062504 (59)\ttotal: 1.94s\tremaining: 1.58s\n",
      "66:\ttest: 0.6059034\tbest: 0.6062504 (59)\ttotal: 1.96s\tremaining: 1.55s\n",
      "67:\ttest: 0.6059034\tbest: 0.6062504 (59)\ttotal: 1.98s\tremaining: 1.51s\n",
      "68:\ttest: 0.6059034\tbest: 0.6062504 (59)\ttotal: 2s\tremaining: 1.48s\n",
      "69:\ttest: 0.6059464\tbest: 0.6062504 (59)\ttotal: 2.02s\tremaining: 1.44s\n",
      "70:\ttest: 0.6057489\tbest: 0.6062504 (59)\ttotal: 2.05s\tremaining: 1.42s\n",
      "71:\ttest: 0.6055168\tbest: 0.6062504 (59)\ttotal: 2.08s\tremaining: 1.39s\n",
      "72:\ttest: 0.6055213\tbest: 0.6062504 (59)\ttotal: 2.11s\tremaining: 1.36s\n",
      "73:\ttest: 0.6054311\tbest: 0.6062504 (59)\ttotal: 2.15s\tremaining: 1.34s\n",
      "74:\ttest: 0.6056494\tbest: 0.6062504 (59)\ttotal: 2.2s\tremaining: 1.32s\n",
      "75:\ttest: 0.6055877\tbest: 0.6062504 (59)\ttotal: 2.23s\tremaining: 1.29s\n",
      "76:\ttest: 0.6054193\tbest: 0.6062504 (59)\ttotal: 2.26s\tremaining: 1.26s\n",
      "77:\ttest: 0.6053323\tbest: 0.6062504 (59)\ttotal: 2.29s\tremaining: 1.23s\n",
      "78:\ttest: 0.6055839\tbest: 0.6062504 (59)\ttotal: 2.33s\tremaining: 1.21s\n",
      "79:\ttest: 0.6055839\tbest: 0.6062504 (59)\ttotal: 2.35s\tremaining: 1.17s\n",
      "80:\ttest: 0.6055872\tbest: 0.6062504 (59)\ttotal: 2.4s\tremaining: 1.16s\n",
      "81:\ttest: 0.6055899\tbest: 0.6062504 (59)\ttotal: 2.55s\tremaining: 1.18s\n",
      "82:\ttest: 0.6055902\tbest: 0.6062504 (59)\ttotal: 2.6s\tremaining: 1.16s\n",
      "83:\ttest: 0.6055770\tbest: 0.6062504 (59)\ttotal: 2.66s\tremaining: 1.14s\n",
      "84:\ttest: 0.6057107\tbest: 0.6062504 (59)\ttotal: 2.68s\tremaining: 1.1s\n",
      "85:\ttest: 0.6057107\tbest: 0.6062504 (59)\ttotal: 2.7s\tremaining: 1.07s\n",
      "86:\ttest: 0.6055550\tbest: 0.6062504 (59)\ttotal: 2.72s\tremaining: 1.03s\n",
      "87:\ttest: 0.6056960\tbest: 0.6062504 (59)\ttotal: 2.73s\tremaining: 994ms\n",
      "88:\ttest: 0.6068641\tbest: 0.6068641 (88)\ttotal: 2.76s\tremaining: 962ms\n",
      "89:\ttest: 0.6069686\tbest: 0.6069686 (89)\ttotal: 2.79s\tremaining: 929ms\n",
      "90:\ttest: 0.6061509\tbest: 0.6069686 (89)\ttotal: 2.81s\tremaining: 897ms\n",
      "91:\ttest: 0.6061460\tbest: 0.6069686 (89)\ttotal: 2.83s\tremaining: 862ms\n",
      "92:\ttest: 0.6062686\tbest: 0.6069686 (89)\ttotal: 2.86s\tremaining: 830ms\n",
      "93:\ttest: 0.6062017\tbest: 0.6069686 (89)\ttotal: 2.94s\tremaining: 814ms\n",
      "94:\ttest: 0.6062228\tbest: 0.6069686 (89)\ttotal: 2.98s\tremaining: 785ms\n",
      "95:\ttest: 0.6062228\tbest: 0.6069686 (89)\ttotal: 3s\tremaining: 749ms\n",
      "96:\ttest: 0.6062133\tbest: 0.6069686 (89)\ttotal: 3.01s\tremaining: 714ms\n",
      "97:\ttest: 0.6060777\tbest: 0.6069686 (89)\ttotal: 3.04s\tremaining: 681ms\n",
      "98:\ttest: 0.6060874\tbest: 0.6069686 (89)\ttotal: 3.05s\tremaining: 648ms\n",
      "99:\ttest: 0.6060375\tbest: 0.6069686 (89)\ttotal: 3.19s\tremaining: 637ms\n",
      "100:\ttest: 0.6065330\tbest: 0.6069686 (89)\ttotal: 3.24s\tremaining: 610ms\n",
      "101:\ttest: 0.6064797\tbest: 0.6069686 (89)\ttotal: 3.3s\tremaining: 583ms\n",
      "102:\ttest: 0.6066618\tbest: 0.6069686 (89)\ttotal: 3.33s\tremaining: 550ms\n",
      "103:\ttest: 0.6063000\tbest: 0.6069686 (89)\ttotal: 3.38s\tremaining: 520ms\n",
      "104:\ttest: 0.6062904\tbest: 0.6069686 (89)\ttotal: 3.44s\tremaining: 491ms\n",
      "105:\ttest: 0.6063074\tbest: 0.6069686 (89)\ttotal: 3.47s\tremaining: 458ms\n",
      "106:\ttest: 0.6063074\tbest: 0.6069686 (89)\ttotal: 3.49s\tremaining: 424ms\n",
      "107:\ttest: 0.6064158\tbest: 0.6069686 (89)\ttotal: 3.52s\tremaining: 392ms\n",
      "108:\ttest: 0.6064158\tbest: 0.6069686 (89)\ttotal: 3.57s\tremaining: 360ms\n",
      "109:\ttest: 0.6063770\tbest: 0.6069686 (89)\ttotal: 4.24s\tremaining: 385ms\n",
      "110:\ttest: 0.6063677\tbest: 0.6069686 (89)\ttotal: 4.38s\tremaining: 355ms\n",
      "111:\ttest: 0.6063355\tbest: 0.6069686 (89)\ttotal: 4.57s\tremaining: 327ms\n",
      "112:\ttest: 0.6063882\tbest: 0.6069686 (89)\ttotal: 4.72s\tremaining: 293ms\n",
      "113:\ttest: 0.6063882\tbest: 0.6069686 (89)\ttotal: 4.82s\tremaining: 254ms\n",
      "114:\ttest: 0.6062925\tbest: 0.6069686 (89)\ttotal: 4.94s\tremaining: 215ms\n",
      "115:\ttest: 0.6062925\tbest: 0.6069686 (89)\ttotal: 5s\tremaining: 172ms\n",
      "116:\ttest: 0.6062925\tbest: 0.6069686 (89)\ttotal: 5.06s\tremaining: 130ms\n",
      "117:\ttest: 0.6062917\tbest: 0.6069686 (89)\ttotal: 5.11s\tremaining: 86.6ms\n",
      "118:\ttest: 0.6062240\tbest: 0.6069686 (89)\ttotal: 5.17s\tremaining: 43.5ms\n",
      "119:\ttest: 0.6061690\tbest: 0.6069686 (89)\ttotal: 5.22s\tremaining: 0us\n",
      "\n",
      "bestTest = 0.6069686486\n",
      "bestIteration = 89\n",
      "\n",
      "Metric AUC is not calculated on train by default. To calculate this metric on train, add hints=skip_train~false to metric parameters.\n",
      "11:\tloss: 0.6069686\tbest: 0.6084702 (1)\ttotal: 40.4s\tremaining: 0us\n",
      "Estimating final quality...\n",
      "Training on fold [0/3]\n",
      "0:\ttest: 0.5899443\tbest: 0.5899443 (0)\ttotal: 45.5ms\tremaining: 4.51s\n",
      "1:\ttest: 0.5917341\tbest: 0.5917341 (1)\ttotal: 71.6ms\tremaining: 3.51s\n",
      "2:\ttest: 0.5936890\tbest: 0.5936890 (2)\ttotal: 104ms\tremaining: 3.36s\n",
      "3:\ttest: 0.5944545\tbest: 0.5944545 (3)\ttotal: 133ms\tremaining: 3.2s\n",
      "4:\ttest: 0.5948308\tbest: 0.5948308 (4)\ttotal: 163ms\tremaining: 3.09s\n",
      "5:\ttest: 0.5948005\tbest: 0.5948308 (4)\ttotal: 191ms\tremaining: 2.99s\n",
      "6:\ttest: 0.5944239\tbest: 0.5948308 (4)\ttotal: 215ms\tremaining: 2.85s\n",
      "7:\ttest: 0.5956517\tbest: 0.5956517 (7)\ttotal: 240ms\tremaining: 2.76s\n",
      "8:\ttest: 0.5956813\tbest: 0.5956813 (8)\ttotal: 295ms\tremaining: 2.98s\n",
      "9:\ttest: 0.5957958\tbest: 0.5957958 (9)\ttotal: 325ms\tremaining: 2.92s\n",
      "10:\ttest: 0.5952484\tbest: 0.5957958 (9)\ttotal: 358ms\tremaining: 2.89s\n",
      "11:\ttest: 0.5954929\tbest: 0.5957958 (9)\ttotal: 382ms\tremaining: 2.8s\n",
      "12:\ttest: 0.5954929\tbest: 0.5957958 (9)\ttotal: 404ms\tremaining: 2.7s\n",
      "13:\ttest: 0.5954845\tbest: 0.5957958 (9)\ttotal: 430ms\tremaining: 2.64s\n",
      "14:\ttest: 0.5960643\tbest: 0.5960643 (14)\ttotal: 463ms\tremaining: 2.63s\n",
      "15:\ttest: 0.5960118\tbest: 0.5960643 (14)\ttotal: 505ms\tremaining: 2.65s\n",
      "16:\ttest: 0.5960346\tbest: 0.5960643 (14)\ttotal: 541ms\tremaining: 2.64s\n",
      "17:\ttest: 0.5960319\tbest: 0.5960643 (14)\ttotal: 566ms\tremaining: 2.58s\n",
      "18:\ttest: 0.5965953\tbest: 0.5965953 (18)\ttotal: 596ms\tremaining: 2.54s\n",
      "19:\ttest: 0.5965953\tbest: 0.5965953 (18)\ttotal: 608ms\tremaining: 2.43s\n",
      "20:\ttest: 0.5965118\tbest: 0.5965953 (18)\ttotal: 633ms\tremaining: 2.38s\n",
      "21:\ttest: 0.5965694\tbest: 0.5965953 (18)\ttotal: 664ms\tremaining: 2.35s\n",
      "22:\ttest: 0.5962519\tbest: 0.5965953 (18)\ttotal: 695ms\tremaining: 2.33s\n",
      "23:\ttest: 0.5962686\tbest: 0.5965953 (18)\ttotal: 740ms\tremaining: 2.34s\n",
      "24:\ttest: 0.5963059\tbest: 0.5965953 (18)\ttotal: 767ms\tremaining: 2.3s\n",
      "25:\ttest: 0.5963059\tbest: 0.5965953 (18)\ttotal: 794ms\tremaining: 2.26s\n",
      "26:\ttest: 0.5965149\tbest: 0.5965953 (18)\ttotal: 824ms\tremaining: 2.23s\n",
      "27:\ttest: 0.5971225\tbest: 0.5971225 (27)\ttotal: 859ms\tremaining: 2.21s\n",
      "28:\ttest: 0.5973363\tbest: 0.5973363 (28)\ttotal: 898ms\tremaining: 2.2s\n",
      "29:\ttest: 0.5973413\tbest: 0.5973413 (29)\ttotal: 930ms\tremaining: 2.17s\n",
      "30:\ttest: 0.5967854\tbest: 0.5973413 (29)\ttotal: 984ms\tremaining: 2.19s\n",
      "31:\ttest: 0.5967852\tbest: 0.5973413 (29)\ttotal: 1s\tremaining: 2.13s\n",
      "32:\ttest: 0.5967273\tbest: 0.5973413 (29)\ttotal: 1.03s\tremaining: 2.09s\n",
      "33:\ttest: 0.5967272\tbest: 0.5973413 (29)\ttotal: 1.05s\tremaining: 2.04s\n",
      "34:\ttest: 0.5967272\tbest: 0.5973413 (29)\ttotal: 1.08s\tremaining: 2s\n",
      "35:\ttest: 0.5967356\tbest: 0.5973413 (29)\ttotal: 1.1s\tremaining: 1.95s\n",
      "36:\ttest: 0.5967291\tbest: 0.5973413 (29)\ttotal: 1.13s\tremaining: 1.92s\n",
      "37:\ttest: 0.5967357\tbest: 0.5973413 (29)\ttotal: 1.16s\tremaining: 1.89s\n",
      "38:\ttest: 0.5967751\tbest: 0.5973413 (29)\ttotal: 1.19s\tremaining: 1.86s\n",
      "39:\ttest: 0.5967637\tbest: 0.5973413 (29)\ttotal: 1.26s\tremaining: 1.9s\n",
      "40:\ttest: 0.5967637\tbest: 0.5973413 (29)\ttotal: 1.37s\tremaining: 1.97s\n",
      "41:\ttest: 0.5966326\tbest: 0.5973413 (29)\ttotal: 1.43s\tremaining: 1.97s\n",
      "42:\ttest: 0.5966326\tbest: 0.5973413 (29)\ttotal: 1.46s\tremaining: 1.93s\n",
      "43:\ttest: 0.5966621\tbest: 0.5973413 (29)\ttotal: 1.49s\tremaining: 1.89s\n",
      "44:\ttest: 0.5967238\tbest: 0.5973413 (29)\ttotal: 1.51s\tremaining: 1.84s\n",
      "45:\ttest: 0.5965678\tbest: 0.5973413 (29)\ttotal: 1.56s\tremaining: 1.83s\n",
      "46:\ttest: 0.5964531\tbest: 0.5973413 (29)\ttotal: 1.6s\tremaining: 1.8s\n",
      "47:\ttest: 0.5963333\tbest: 0.5973413 (29)\ttotal: 1.66s\tremaining: 1.8s\n",
      "48:\ttest: 0.5967608\tbest: 0.5973413 (29)\ttotal: 1.7s\tremaining: 1.76s\n",
      "49:\ttest: 0.5967607\tbest: 0.5973413 (29)\ttotal: 1.72s\tremaining: 1.72s\n",
      "50:\ttest: 0.5967625\tbest: 0.5973413 (29)\ttotal: 1.75s\tremaining: 1.68s\n",
      "51:\ttest: 0.5968128\tbest: 0.5973413 (29)\ttotal: 1.77s\tremaining: 1.64s\n",
      "52:\ttest: 0.5969071\tbest: 0.5973413 (29)\ttotal: 1.8s\tremaining: 1.59s\n",
      "53:\ttest: 0.5969071\tbest: 0.5973413 (29)\ttotal: 1.83s\tremaining: 1.56s\n",
      "54:\ttest: 0.5965622\tbest: 0.5973413 (29)\ttotal: 1.86s\tremaining: 1.52s\n",
      "55:\ttest: 0.5964909\tbest: 0.5973413 (29)\ttotal: 1.92s\tremaining: 1.5s\n",
      "56:\ttest: 0.5964126\tbest: 0.5973413 (29)\ttotal: 1.95s\tremaining: 1.47s\n",
      "57:\ttest: 0.5964125\tbest: 0.5973413 (29)\ttotal: 1.96s\tremaining: 1.42s\n",
      "58:\ttest: 0.5967901\tbest: 0.5973413 (29)\ttotal: 1.99s\tremaining: 1.38s\n",
      "59:\ttest: 0.5967553\tbest: 0.5973413 (29)\ttotal: 2.02s\tremaining: 1.34s\n",
      "60:\ttest: 0.5967479\tbest: 0.5973413 (29)\ttotal: 2.04s\tremaining: 1.3s\n",
      "61:\ttest: 0.5968175\tbest: 0.5973413 (29)\ttotal: 2.06s\tremaining: 1.26s\n",
      "62:\ttest: 0.5968175\tbest: 0.5973413 (29)\ttotal: 2.09s\tremaining: 1.23s\n",
      "63:\ttest: 0.5965360\tbest: 0.5973413 (29)\ttotal: 2.12s\tremaining: 1.19s\n",
      "64:\ttest: 0.5969161\tbest: 0.5973413 (29)\ttotal: 2.17s\tremaining: 1.17s\n",
      "65:\ttest: 0.5969161\tbest: 0.5973413 (29)\ttotal: 2.19s\tremaining: 1.13s\n",
      "66:\ttest: 0.5969143\tbest: 0.5973413 (29)\ttotal: 2.22s\tremaining: 1.09s\n",
      "67:\ttest: 0.5969009\tbest: 0.5973413 (29)\ttotal: 2.25s\tremaining: 1.06s\n",
      "68:\ttest: 0.5969472\tbest: 0.5973413 (29)\ttotal: 2.27s\tremaining: 1.02s\n",
      "69:\ttest: 0.5966634\tbest: 0.5973413 (29)\ttotal: 2.3s\tremaining: 984ms\n",
      "70:\ttest: 0.5966653\tbest: 0.5973413 (29)\ttotal: 2.32s\tremaining: 947ms\n",
      "71:\ttest: 0.5966777\tbest: 0.5973413 (29)\ttotal: 2.36s\tremaining: 916ms\n",
      "72:\ttest: 0.5967250\tbest: 0.5973413 (29)\ttotal: 2.43s\tremaining: 900ms\n",
      "73:\ttest: 0.5968653\tbest: 0.5973413 (29)\ttotal: 2.46s\tremaining: 864ms\n",
      "74:\ttest: 0.5968599\tbest: 0.5973413 (29)\ttotal: 2.48s\tremaining: 828ms\n",
      "75:\ttest: 0.5969092\tbest: 0.5973413 (29)\ttotal: 2.51s\tremaining: 793ms\n",
      "76:\ttest: 0.5968999\tbest: 0.5973413 (29)\ttotal: 2.54s\tremaining: 759ms\n",
      "77:\ttest: 0.5967934\tbest: 0.5973413 (29)\ttotal: 2.56s\tremaining: 723ms\n",
      "78:\ttest: 0.5967811\tbest: 0.5973413 (29)\ttotal: 2.58s\tremaining: 687ms\n",
      "79:\ttest: 0.5967044\tbest: 0.5973413 (29)\ttotal: 2.61s\tremaining: 654ms\n",
      "80:\ttest: 0.5967618\tbest: 0.5973413 (29)\ttotal: 2.65s\tremaining: 623ms\n",
      "81:\ttest: 0.5967609\tbest: 0.5973413 (29)\ttotal: 2.7s\tremaining: 592ms\n",
      "82:\ttest: 0.5966825\tbest: 0.5973413 (29)\ttotal: 2.72s\tremaining: 558ms\n",
      "83:\ttest: 0.5967587\tbest: 0.5973413 (29)\ttotal: 2.75s\tremaining: 524ms\n",
      "84:\ttest: 0.5968096\tbest: 0.5973413 (29)\ttotal: 2.78s\tremaining: 490ms\n",
      "85:\ttest: 0.5968469\tbest: 0.5973413 (29)\ttotal: 2.81s\tremaining: 457ms\n",
      "86:\ttest: 0.5968075\tbest: 0.5973413 (29)\ttotal: 2.83s\tremaining: 424ms\n",
      "87:\ttest: 0.5969480\tbest: 0.5973413 (29)\ttotal: 2.87s\tremaining: 391ms\n",
      "88:\ttest: 0.5969012\tbest: 0.5973413 (29)\ttotal: 2.92s\tremaining: 361ms\n",
      "89:\ttest: 0.5968841\tbest: 0.5973413 (29)\ttotal: 2.95s\tremaining: 328ms\n",
      "90:\ttest: 0.5968909\tbest: 0.5973413 (29)\ttotal: 2.97s\tremaining: 294ms\n",
      "91:\ttest: 0.5968937\tbest: 0.5973413 (29)\ttotal: 3s\tremaining: 261ms\n",
      "92:\ttest: 0.5968160\tbest: 0.5973413 (29)\ttotal: 3.02s\tremaining: 227ms\n",
      "93:\ttest: 0.5968101\tbest: 0.5973413 (29)\ttotal: 3.04s\tremaining: 194ms\n",
      "94:\ttest: 0.5968272\tbest: 0.5973413 (29)\ttotal: 3.06s\tremaining: 161ms\n",
      "95:\ttest: 0.5968406\tbest: 0.5973413 (29)\ttotal: 3.1s\tremaining: 129ms\n",
      "96:\ttest: 0.5968406\tbest: 0.5973413 (29)\ttotal: 3.12s\tremaining: 96.6ms\n",
      "97:\ttest: 0.5967122\tbest: 0.5973413 (29)\ttotal: 3.15s\tremaining: 64.4ms\n",
      "98:\ttest: 0.5967122\tbest: 0.5973413 (29)\ttotal: 3.17s\tremaining: 32.1ms\n",
      "99:\ttest: 0.5967122\tbest: 0.5973413 (29)\ttotal: 3.19s\tremaining: 0us\n",
      "\n",
      "bestTest = 0.5973413445\n",
      "bestIteration = 29\n",
      "\n",
      "Training on fold [1/3]\n",
      "0:\ttest: 0.5956086\tbest: 0.5956086 (0)\ttotal: 33.5ms\tremaining: 3.32s\n",
      "1:\ttest: 0.5986920\tbest: 0.5986920 (1)\ttotal: 58.5ms\tremaining: 2.87s\n",
      "2:\ttest: 0.5980756\tbest: 0.5986920 (1)\ttotal: 106ms\tremaining: 3.43s\n",
      "3:\ttest: 0.5985187\tbest: 0.5986920 (1)\ttotal: 139ms\tremaining: 3.34s\n",
      "4:\ttest: 0.5988605\tbest: 0.5988605 (4)\ttotal: 169ms\tremaining: 3.21s\n",
      "5:\ttest: 0.5988605\tbest: 0.5988605 (4)\ttotal: 186ms\tremaining: 2.91s\n",
      "6:\ttest: 0.5979036\tbest: 0.5988605 (4)\ttotal: 212ms\tremaining: 2.81s\n",
      "7:\ttest: 0.5978114\tbest: 0.5988605 (4)\ttotal: 236ms\tremaining: 2.71s\n",
      "8:\ttest: 0.5978114\tbest: 0.5988605 (4)\ttotal: 254ms\tremaining: 2.57s\n",
      "9:\ttest: 0.5974551\tbest: 0.5988605 (4)\ttotal: 287ms\tremaining: 2.58s\n",
      "10:\ttest: 0.5976060\tbest: 0.5988605 (4)\ttotal: 342ms\tremaining: 2.76s\n",
      "11:\ttest: 0.5977585\tbest: 0.5988605 (4)\ttotal: 371ms\tremaining: 2.72s\n",
      "12:\ttest: 0.5978743\tbest: 0.5988605 (4)\ttotal: 388ms\tremaining: 2.59s\n",
      "13:\ttest: 0.5978743\tbest: 0.5988605 (4)\ttotal: 413ms\tremaining: 2.53s\n",
      "14:\ttest: 0.5980623\tbest: 0.5988605 (4)\ttotal: 440ms\tremaining: 2.49s\n",
      "15:\ttest: 0.5981344\tbest: 0.5988605 (4)\ttotal: 469ms\tremaining: 2.46s\n",
      "16:\ttest: 0.5981344\tbest: 0.5988605 (4)\ttotal: 487ms\tremaining: 2.38s\n",
      "17:\ttest: 0.5982551\tbest: 0.5988605 (4)\ttotal: 514ms\tremaining: 2.34s\n",
      "18:\ttest: 0.5981099\tbest: 0.5988605 (4)\ttotal: 542ms\tremaining: 2.31s\n",
      "19:\ttest: 0.5981099\tbest: 0.5988605 (4)\ttotal: 581ms\tremaining: 2.32s\n",
      "20:\ttest: 0.5981099\tbest: 0.5988605 (4)\ttotal: 603ms\tremaining: 2.27s\n",
      "21:\ttest: 0.5983209\tbest: 0.5988605 (4)\ttotal: 634ms\tremaining: 2.25s\n",
      "22:\ttest: 0.5982244\tbest: 0.5988605 (4)\ttotal: 659ms\tremaining: 2.21s\n",
      "23:\ttest: 0.5982500\tbest: 0.5988605 (4)\ttotal: 684ms\tremaining: 2.17s\n",
      "24:\ttest: 0.5980614\tbest: 0.5988605 (4)\ttotal: 716ms\tremaining: 2.15s\n",
      "25:\ttest: 0.5980614\tbest: 0.5988605 (4)\ttotal: 736ms\tremaining: 2.09s\n",
      "26:\ttest: 0.5979298\tbest: 0.5988605 (4)\ttotal: 779ms\tremaining: 2.11s\n",
      "27:\ttest: 0.5979298\tbest: 0.5988605 (4)\ttotal: 806ms\tremaining: 2.07s\n",
      "28:\ttest: 0.5970615\tbest: 0.5988605 (4)\ttotal: 837ms\tremaining: 2.05s\n",
      "29:\ttest: 0.5971281\tbest: 0.5988605 (4)\ttotal: 859ms\tremaining: 2s\n",
      "30:\ttest: 0.5972184\tbest: 0.5988605 (4)\ttotal: 883ms\tremaining: 1.97s\n",
      "31:\ttest: 0.5974315\tbest: 0.5988605 (4)\ttotal: 909ms\tremaining: 1.93s\n",
      "32:\ttest: 0.5971164\tbest: 0.5988605 (4)\ttotal: 936ms\tremaining: 1.9s\n",
      "33:\ttest: 0.5971852\tbest: 0.5988605 (4)\ttotal: 967ms\tremaining: 1.88s\n",
      "34:\ttest: 0.5970866\tbest: 0.5988605 (4)\ttotal: 1.02s\tremaining: 1.89s\n",
      "35:\ttest: 0.5973407\tbest: 0.5988605 (4)\ttotal: 1.04s\tremaining: 1.86s\n",
      "36:\ttest: 0.5973408\tbest: 0.5988605 (4)\ttotal: 1.07s\tremaining: 1.83s\n",
      "37:\ttest: 0.5973244\tbest: 0.5988605 (4)\ttotal: 1.1s\tremaining: 1.8s\n",
      "38:\ttest: 0.5974881\tbest: 0.5988605 (4)\ttotal: 1.14s\tremaining: 1.78s\n",
      "39:\ttest: 0.5975853\tbest: 0.5988605 (4)\ttotal: 1.17s\tremaining: 1.75s\n",
      "40:\ttest: 0.5971032\tbest: 0.5988605 (4)\ttotal: 1.2s\tremaining: 1.73s\n",
      "41:\ttest: 0.5971290\tbest: 0.5988605 (4)\ttotal: 1.24s\tremaining: 1.71s\n",
      "42:\ttest: 0.5971476\tbest: 0.5988605 (4)\ttotal: 1.28s\tremaining: 1.69s\n",
      "43:\ttest: 0.5971506\tbest: 0.5988605 (4)\ttotal: 1.3s\tremaining: 1.66s\n",
      "44:\ttest: 0.5972971\tbest: 0.5988605 (4)\ttotal: 1.33s\tremaining: 1.63s\n",
      "45:\ttest: 0.5977186\tbest: 0.5988605 (4)\ttotal: 1.36s\tremaining: 1.59s\n",
      "46:\ttest: 0.5975834\tbest: 0.5988605 (4)\ttotal: 1.38s\tremaining: 1.55s\n",
      "47:\ttest: 0.5975834\tbest: 0.5988605 (4)\ttotal: 1.4s\tremaining: 1.52s\n",
      "48:\ttest: 0.5974262\tbest: 0.5988605 (4)\ttotal: 1.43s\tremaining: 1.49s\n",
      "49:\ttest: 0.5974262\tbest: 0.5988605 (4)\ttotal: 1.46s\tremaining: 1.46s\n",
      "50:\ttest: 0.5968446\tbest: 0.5988605 (4)\ttotal: 1.5s\tremaining: 1.44s\n",
      "51:\ttest: 0.5969037\tbest: 0.5988605 (4)\ttotal: 1.53s\tremaining: 1.41s\n",
      "52:\ttest: 0.5967427\tbest: 0.5988605 (4)\ttotal: 1.56s\tremaining: 1.38s\n",
      "53:\ttest: 0.5967962\tbest: 0.5988605 (4)\ttotal: 1.58s\tremaining: 1.35s\n",
      "54:\ttest: 0.5967961\tbest: 0.5988605 (4)\ttotal: 1.61s\tremaining: 1.31s\n",
      "55:\ttest: 0.5967961\tbest: 0.5988605 (4)\ttotal: 1.63s\tremaining: 1.28s\n",
      "56:\ttest: 0.5966408\tbest: 0.5988605 (4)\ttotal: 1.66s\tremaining: 1.25s\n",
      "57:\ttest: 0.5968221\tbest: 0.5988605 (4)\ttotal: 1.71s\tremaining: 1.24s\n",
      "58:\ttest: 0.5964451\tbest: 0.5988605 (4)\ttotal: 1.74s\tremaining: 1.21s\n",
      "59:\ttest: 0.5967089\tbest: 0.5988605 (4)\ttotal: 1.76s\tremaining: 1.18s\n",
      "60:\ttest: 0.5967623\tbest: 0.5988605 (4)\ttotal: 1.8s\tremaining: 1.15s\n",
      "61:\ttest: 0.5968823\tbest: 0.5988605 (4)\ttotal: 1.82s\tremaining: 1.12s\n",
      "62:\ttest: 0.5969367\tbest: 0.5988605 (4)\ttotal: 1.85s\tremaining: 1.08s\n",
      "63:\ttest: 0.5971013\tbest: 0.5988605 (4)\ttotal: 1.89s\tremaining: 1.06s\n",
      "64:\ttest: 0.5971978\tbest: 0.5988605 (4)\ttotal: 1.92s\tremaining: 1.03s\n",
      "65:\ttest: 0.5973098\tbest: 0.5988605 (4)\ttotal: 1.95s\tremaining: 1s\n",
      "66:\ttest: 0.5974689\tbest: 0.5988605 (4)\ttotal: 1.98s\tremaining: 973ms\n",
      "67:\ttest: 0.5972034\tbest: 0.5988605 (4)\ttotal: 2s\tremaining: 942ms\n",
      "68:\ttest: 0.5972034\tbest: 0.5988605 (4)\ttotal: 2.03s\tremaining: 912ms\n",
      "69:\ttest: 0.5972731\tbest: 0.5988605 (4)\ttotal: 2.06s\tremaining: 884ms\n",
      "70:\ttest: 0.5972731\tbest: 0.5988605 (4)\ttotal: 2.09s\tremaining: 855ms\n",
      "71:\ttest: 0.5972078\tbest: 0.5988605 (4)\ttotal: 2.14s\tremaining: 831ms\n",
      "72:\ttest: 0.5972078\tbest: 0.5988605 (4)\ttotal: 2.16s\tremaining: 800ms\n",
      "73:\ttest: 0.5971870\tbest: 0.5988605 (4)\ttotal: 2.2s\tremaining: 772ms\n",
      "74:\ttest: 0.5970121\tbest: 0.5988605 (4)\ttotal: 2.23s\tremaining: 743ms\n",
      "75:\ttest: 0.5968500\tbest: 0.5988605 (4)\ttotal: 2.26s\tremaining: 713ms\n",
      "76:\ttest: 0.5968531\tbest: 0.5988605 (4)\ttotal: 2.28s\tremaining: 680ms\n",
      "77:\ttest: 0.5968531\tbest: 0.5988605 (4)\ttotal: 2.34s\tremaining: 659ms\n",
      "78:\ttest: 0.5967481\tbest: 0.5988605 (4)\ttotal: 2.37s\tremaining: 630ms\n",
      "79:\ttest: 0.5969040\tbest: 0.5988605 (4)\ttotal: 2.4s\tremaining: 599ms\n",
      "80:\ttest: 0.5970040\tbest: 0.5988605 (4)\ttotal: 2.43s\tremaining: 570ms\n",
      "81:\ttest: 0.5968858\tbest: 0.5988605 (4)\ttotal: 2.45s\tremaining: 538ms\n",
      "82:\ttest: 0.5966882\tbest: 0.5988605 (4)\ttotal: 2.48s\tremaining: 508ms\n",
      "83:\ttest: 0.5966863\tbest: 0.5988605 (4)\ttotal: 2.5s\tremaining: 477ms\n",
      "84:\ttest: 0.5967323\tbest: 0.5988605 (4)\ttotal: 2.53s\tremaining: 447ms\n",
      "85:\ttest: 0.5967323\tbest: 0.5988605 (4)\ttotal: 2.59s\tremaining: 421ms\n",
      "86:\ttest: 0.5967166\tbest: 0.5988605 (4)\ttotal: 2.62s\tremaining: 391ms\n",
      "87:\ttest: 0.5967166\tbest: 0.5988605 (4)\ttotal: 2.64s\tremaining: 360ms\n",
      "88:\ttest: 0.5966762\tbest: 0.5988605 (4)\ttotal: 2.67s\tremaining: 330ms\n",
      "89:\ttest: 0.5967165\tbest: 0.5988605 (4)\ttotal: 2.69s\tremaining: 299ms\n",
      "90:\ttest: 0.5967195\tbest: 0.5988605 (4)\ttotal: 2.73s\tremaining: 270ms\n",
      "91:\ttest: 0.5967235\tbest: 0.5988605 (4)\ttotal: 2.76s\tremaining: 240ms\n",
      "92:\ttest: 0.5966834\tbest: 0.5988605 (4)\ttotal: 2.83s\tremaining: 213ms\n",
      "93:\ttest: 0.5965434\tbest: 0.5988605 (4)\ttotal: 2.86s\tremaining: 183ms\n",
      "94:\ttest: 0.5965434\tbest: 0.5988605 (4)\ttotal: 2.89s\tremaining: 152ms\n",
      "95:\ttest: 0.5964816\tbest: 0.5988605 (4)\ttotal: 2.91s\tremaining: 121ms\n",
      "96:\ttest: 0.5966322\tbest: 0.5988605 (4)\ttotal: 2.94s\tremaining: 90.9ms\n",
      "97:\ttest: 0.5966322\tbest: 0.5988605 (4)\ttotal: 2.96s\tremaining: 60.4ms\n",
      "98:\ttest: 0.5967122\tbest: 0.5988605 (4)\ttotal: 2.99s\tremaining: 30.2ms\n",
      "99:\ttest: 0.5965718\tbest: 0.5988605 (4)\ttotal: 3.02s\tremaining: 0us\n",
      "\n",
      "bestTest = 0.5988604515\n",
      "bestIteration = 4\n",
      "\n",
      "Training on fold [2/3]\n",
      "0:\ttest: 0.5869002\tbest: 0.5869002 (0)\ttotal: 35.6ms\tremaining: 3.53s\n",
      "1:\ttest: 0.5977887\tbest: 0.5977887 (1)\ttotal: 65.9ms\tremaining: 3.23s\n",
      "2:\ttest: 0.5995251\tbest: 0.5995251 (2)\ttotal: 94.6ms\tremaining: 3.06s\n",
      "3:\ttest: 0.5998743\tbest: 0.5998743 (3)\ttotal: 125ms\tremaining: 3.01s\n",
      "4:\ttest: 0.5987910\tbest: 0.5998743 (3)\ttotal: 156ms\tremaining: 2.97s\n",
      "5:\ttest: 0.5987848\tbest: 0.5998743 (3)\ttotal: 189ms\tremaining: 2.95s\n",
      "6:\ttest: 0.5986546\tbest: 0.5998743 (3)\ttotal: 223ms\tremaining: 2.97s\n",
      "7:\ttest: 0.5990643\tbest: 0.5998743 (3)\ttotal: 292ms\tremaining: 3.36s\n",
      "8:\ttest: 0.5989473\tbest: 0.5998743 (3)\ttotal: 326ms\tremaining: 3.3s\n",
      "9:\ttest: 0.6007778\tbest: 0.6007778 (9)\ttotal: 358ms\tremaining: 3.23s\n",
      "10:\ttest: 0.6008198\tbest: 0.6008198 (10)\ttotal: 387ms\tremaining: 3.13s\n",
      "11:\ttest: 0.6006683\tbest: 0.6008198 (10)\ttotal: 409ms\tremaining: 3s\n",
      "12:\ttest: 0.6007760\tbest: 0.6008198 (10)\ttotal: 430ms\tremaining: 2.88s\n",
      "13:\ttest: 0.6004984\tbest: 0.6008198 (10)\ttotal: 460ms\tremaining: 2.83s\n",
      "14:\ttest: 0.6003832\tbest: 0.6008198 (10)\ttotal: 489ms\tremaining: 2.77s\n",
      "15:\ttest: 0.6003529\tbest: 0.6008198 (10)\ttotal: 546ms\tremaining: 2.87s\n",
      "16:\ttest: 0.6007245\tbest: 0.6008198 (10)\ttotal: 569ms\tremaining: 2.78s\n",
      "17:\ttest: 0.6007245\tbest: 0.6008198 (10)\ttotal: 593ms\tremaining: 2.7s\n",
      "18:\ttest: 0.6007160\tbest: 0.6008198 (10)\ttotal: 622ms\tremaining: 2.65s\n",
      "19:\ttest: 0.6006809\tbest: 0.6008198 (10)\ttotal: 655ms\tremaining: 2.62s\n",
      "20:\ttest: 0.6006809\tbest: 0.6008198 (10)\ttotal: 684ms\tremaining: 2.57s\n",
      "21:\ttest: 0.6008423\tbest: 0.6008423 (21)\ttotal: 720ms\tremaining: 2.55s\n",
      "22:\ttest: 0.6006742\tbest: 0.6008423 (21)\ttotal: 748ms\tremaining: 2.5s\n",
      "23:\ttest: 0.6006742\tbest: 0.6008423 (21)\ttotal: 786ms\tremaining: 2.49s\n",
      "24:\ttest: 0.6007121\tbest: 0.6008423 (21)\ttotal: 810ms\tremaining: 2.43s\n",
      "25:\ttest: 0.5996304\tbest: 0.6008423 (21)\ttotal: 833ms\tremaining: 2.37s\n",
      "26:\ttest: 0.5994140\tbest: 0.6008423 (21)\ttotal: 861ms\tremaining: 2.33s\n",
      "27:\ttest: 0.5994140\tbest: 0.6008423 (21)\ttotal: 894ms\tremaining: 2.3s\n",
      "28:\ttest: 0.5994385\tbest: 0.6008423 (21)\ttotal: 923ms\tremaining: 2.26s\n",
      "29:\ttest: 0.5994485\tbest: 0.6008423 (21)\ttotal: 945ms\tremaining: 2.2s\n",
      "30:\ttest: 0.5994485\tbest: 0.6008423 (21)\ttotal: 992ms\tremaining: 2.21s\n",
      "31:\ttest: 0.5989508\tbest: 0.6008423 (21)\ttotal: 1.02s\tremaining: 2.17s\n",
      "32:\ttest: 0.5998107\tbest: 0.6008423 (21)\ttotal: 1.05s\tremaining: 2.13s\n",
      "33:\ttest: 0.5998107\tbest: 0.6008423 (21)\ttotal: 1.06s\tremaining: 2.07s\n",
      "34:\ttest: 0.5998257\tbest: 0.6008423 (21)\ttotal: 1.09s\tremaining: 2.02s\n",
      "35:\ttest: 0.5998529\tbest: 0.6008423 (21)\ttotal: 1.12s\tremaining: 1.99s\n",
      "36:\ttest: 0.6002284\tbest: 0.6008423 (21)\ttotal: 1.15s\tremaining: 1.96s\n",
      "37:\ttest: 0.5994831\tbest: 0.6008423 (21)\ttotal: 1.19s\tremaining: 1.94s\n",
      "38:\ttest: 0.5993967\tbest: 0.6008423 (21)\ttotal: 1.23s\tremaining: 1.92s\n",
      "39:\ttest: 0.5994046\tbest: 0.6008423 (21)\ttotal: 1.26s\tremaining: 1.89s\n",
      "40:\ttest: 0.5993986\tbest: 0.6008423 (21)\ttotal: 1.29s\tremaining: 1.86s\n",
      "41:\ttest: 0.5995877\tbest: 0.6008423 (21)\ttotal: 1.32s\tremaining: 1.82s\n",
      "42:\ttest: 0.5995280\tbest: 0.6008423 (21)\ttotal: 1.35s\tremaining: 1.79s\n",
      "43:\ttest: 0.5995880\tbest: 0.6008423 (21)\ttotal: 1.38s\tremaining: 1.76s\n",
      "44:\ttest: 0.6001054\tbest: 0.6008423 (21)\ttotal: 1.4s\tremaining: 1.71s\n",
      "45:\ttest: 0.6001054\tbest: 0.6008423 (21)\ttotal: 1.42s\tremaining: 1.67s\n",
      "46:\ttest: 0.6000869\tbest: 0.6008423 (21)\ttotal: 1.46s\tremaining: 1.65s\n",
      "47:\ttest: 0.6000586\tbest: 0.6008423 (21)\ttotal: 1.5s\tremaining: 1.63s\n",
      "48:\ttest: 0.6000586\tbest: 0.6008423 (21)\ttotal: 1.52s\tremaining: 1.58s\n",
      "49:\ttest: 0.5995312\tbest: 0.6008423 (21)\ttotal: 1.55s\tremaining: 1.55s\n",
      "50:\ttest: 0.5995312\tbest: 0.6008423 (21)\ttotal: 1.58s\tremaining: 1.52s\n",
      "51:\ttest: 0.5995312\tbest: 0.6008423 (21)\ttotal: 1.61s\tremaining: 1.49s\n",
      "52:\ttest: 0.5998843\tbest: 0.6008423 (21)\ttotal: 1.63s\tremaining: 1.45s\n",
      "53:\ttest: 0.6000338\tbest: 0.6008423 (21)\ttotal: 1.66s\tremaining: 1.41s\n",
      "54:\ttest: 0.6000338\tbest: 0.6008423 (21)\ttotal: 1.7s\tremaining: 1.39s\n",
      "55:\ttest: 0.5999386\tbest: 0.6008423 (21)\ttotal: 1.72s\tremaining: 1.35s\n",
      "56:\ttest: 0.5998819\tbest: 0.6008423 (21)\ttotal: 1.75s\tremaining: 1.32s\n",
      "57:\ttest: 0.5998819\tbest: 0.6008423 (21)\ttotal: 1.78s\tremaining: 1.29s\n",
      "58:\ttest: 0.5999350\tbest: 0.6008423 (21)\ttotal: 1.79s\tremaining: 1.25s\n",
      "59:\ttest: 0.5999457\tbest: 0.6008423 (21)\ttotal: 1.83s\tremaining: 1.22s\n",
      "60:\ttest: 0.5999457\tbest: 0.6008423 (21)\ttotal: 1.85s\tremaining: 1.18s\n",
      "61:\ttest: 0.6003858\tbest: 0.6008423 (21)\ttotal: 1.88s\tremaining: 1.15s\n",
      "62:\ttest: 0.6000959\tbest: 0.6008423 (21)\ttotal: 1.92s\tremaining: 1.13s\n",
      "63:\ttest: 0.6001155\tbest: 0.6008423 (21)\ttotal: 1.96s\tremaining: 1.1s\n",
      "64:\ttest: 0.6001155\tbest: 0.6008423 (21)\ttotal: 1.99s\tremaining: 1.07s\n",
      "65:\ttest: 0.6001172\tbest: 0.6008423 (21)\ttotal: 2.02s\tremaining: 1.04s\n",
      "66:\ttest: 0.6001157\tbest: 0.6008423 (21)\ttotal: 2.04s\tremaining: 1.01s\n",
      "67:\ttest: 0.5999313\tbest: 0.6008423 (21)\ttotal: 2.08s\tremaining: 980ms\n",
      "68:\ttest: 0.5998864\tbest: 0.6008423 (21)\ttotal: 2.12s\tremaining: 953ms\n",
      "69:\ttest: 0.6000117\tbest: 0.6008423 (21)\ttotal: 2.19s\tremaining: 936ms\n",
      "70:\ttest: 0.6003465\tbest: 0.6008423 (21)\ttotal: 2.24s\tremaining: 916ms\n",
      "71:\ttest: 0.6004473\tbest: 0.6008423 (21)\ttotal: 2.29s\tremaining: 889ms\n",
      "72:\ttest: 0.6004480\tbest: 0.6008423 (21)\ttotal: 2.31s\tremaining: 856ms\n",
      "73:\ttest: 0.6003300\tbest: 0.6008423 (21)\ttotal: 2.38s\tremaining: 836ms\n",
      "74:\ttest: 0.6002320\tbest: 0.6008423 (21)\ttotal: 2.41s\tremaining: 804ms\n",
      "75:\ttest: 0.6002742\tbest: 0.6008423 (21)\ttotal: 2.45s\tremaining: 773ms\n",
      "76:\ttest: 0.6002434\tbest: 0.6008423 (21)\ttotal: 2.48s\tremaining: 742ms\n",
      "77:\ttest: 0.6000221\tbest: 0.6008423 (21)\ttotal: 2.52s\tremaining: 710ms\n",
      "78:\ttest: 0.6000091\tbest: 0.6008423 (21)\ttotal: 2.55s\tremaining: 678ms\n",
      "79:\ttest: 0.5999554\tbest: 0.6008423 (21)\ttotal: 2.59s\tremaining: 647ms\n",
      "80:\ttest: 0.5999512\tbest: 0.6008423 (21)\ttotal: 2.62s\tremaining: 616ms\n",
      "81:\ttest: 0.5998917\tbest: 0.6008423 (21)\ttotal: 2.65s\tremaining: 582ms\n",
      "82:\ttest: 0.5999313\tbest: 0.6008423 (21)\ttotal: 2.69s\tremaining: 550ms\n",
      "83:\ttest: 0.5999183\tbest: 0.6008423 (21)\ttotal: 2.71s\tremaining: 516ms\n",
      "84:\ttest: 0.5999182\tbest: 0.6008423 (21)\ttotal: 2.74s\tremaining: 483ms\n",
      "85:\ttest: 0.5999644\tbest: 0.6008423 (21)\ttotal: 2.77s\tremaining: 451ms\n",
      "86:\ttest: 0.6002068\tbest: 0.6008423 (21)\ttotal: 2.82s\tremaining: 421ms\n",
      "87:\ttest: 0.6001564\tbest: 0.6008423 (21)\ttotal: 2.85s\tremaining: 389ms\n",
      "88:\ttest: 0.6001564\tbest: 0.6008423 (21)\ttotal: 2.89s\tremaining: 357ms\n",
      "89:\ttest: 0.6001721\tbest: 0.6008423 (21)\ttotal: 2.92s\tremaining: 324ms\n",
      "90:\ttest: 0.6002652\tbest: 0.6008423 (21)\ttotal: 2.95s\tremaining: 292ms\n",
      "91:\ttest: 0.6002190\tbest: 0.6008423 (21)\ttotal: 2.99s\tremaining: 260ms\n",
      "92:\ttest: 0.6002190\tbest: 0.6008423 (21)\ttotal: 3.04s\tremaining: 229ms\n",
      "93:\ttest: 0.6002190\tbest: 0.6008423 (21)\ttotal: 3.08s\tremaining: 197ms\n",
      "94:\ttest: 0.6002187\tbest: 0.6008423 (21)\ttotal: 3.12s\tremaining: 164ms\n",
      "95:\ttest: 0.6002525\tbest: 0.6008423 (21)\ttotal: 3.15s\tremaining: 131ms\n",
      "96:\ttest: 0.6002474\tbest: 0.6008423 (21)\ttotal: 3.19s\tremaining: 98.6ms\n",
      "97:\ttest: 0.6002645\tbest: 0.6008423 (21)\ttotal: 3.22s\tremaining: 65.7ms\n",
      "98:\ttest: 0.6003181\tbest: 0.6008423 (21)\ttotal: 3.27s\tremaining: 33.1ms\n",
      "99:\ttest: 0.6003181\tbest: 0.6008423 (21)\ttotal: 3.31s\tremaining: 0us\n",
      "\n",
      "bestTest = 0.6008423478\n",
      "bestIteration = 21\n",
      "\n",
      "CPU times: user 2min, sys: 15.3 s, total: 2min 16s\n",
      "Wall time: 52.2 s\n"
     ]
    }
   ],
   "source": [
    "%%time\n",
    "catboost_grid = model_cat.grid_search(grid, Pool(features_train, target_train, cat_features=cat_features), cv=3, \n",
    "                                  verbose=50)"
   ]
  },
  {
   "cell_type": "code",
   "execution_count": 108,
   "id": "e7b28eda",
   "metadata": {},
   "outputs": [
    {
     "data": {
      "text/plain": [
       "{'depth': 6, 'iterations': 100, 'learning_rate': 0.002}"
      ]
     },
     "execution_count": 108,
     "metadata": {},
     "output_type": "execute_result"
    }
   ],
   "source": [
    "# Найдем лучшие гиперпараметры\n",
    "catboost_grid['params']"
   ]
  },
  {
   "cell_type": "code",
   "execution_count": 109,
   "id": "dccedc72",
   "metadata": {
    "scrolled": false
   },
   "outputs": [
    {
     "name": "stdout",
     "output_type": "stream",
     "text": [
      "CPU times: user 57 µs, sys: 1 µs, total: 58 µs\n",
      "Wall time: 61 µs\n"
     ]
    }
   ],
   "source": [
    "%%time\n",
    "# Зададим гиперпараметры модели\n",
    "final_cat = cb.CatBoostClassifier(**catboost_grid['params'],\n",
    "                              eval_metric='AUC', verbose=100, train_dir='learning_rate_0.01')"
   ]
  },
  {
   "cell_type": "code",
   "execution_count": 110,
   "id": "4d3b9b1c",
   "metadata": {},
   "outputs": [
    {
     "name": "stdout",
     "output_type": "stream",
     "text": [
      "0:\ttotal: 21.8ms\tremaining: 2.16s\n",
      "99:\ttotal: 1.94s\tremaining: 0us\n"
     ]
    },
    {
     "data": {
      "text/plain": [
       "<catboost.core.CatBoostClassifier at 0x1367ff700>"
      ]
     },
     "execution_count": 110,
     "metadata": {},
     "output_type": "execute_result"
    }
   ],
   "source": [
    "# Обучим модель\n",
    "final_cat.fit(Pool(features_train, target_train, cat_features=cat_features)) "
   ]
  },
  {
   "cell_type": "code",
   "execution_count": 111,
   "id": "64cd00f6",
   "metadata": {},
   "outputs": [
    {
     "name": "stdout",
     "output_type": "stream",
     "text": [
      "F1 на валидационной выборке: 0.3414914232397904\n",
      "ROC_AUC на валидационной выборке: 0.7091227135588284\n",
      "CPU times: user 96.6 ms, sys: 8.86 ms, total: 105 ms\n",
      "Wall time: 119 ms\n"
     ]
    }
   ],
   "source": [
    "%%time\n",
    "# Предсказания модели\n",
    "pred_cat = final_cat.predict(features_valid)\n",
    "print('F1 на валидационной выборке:', f1_score(pred_cat, target_valid))\n",
    "print('ROC_AUC на валидационной выборке:', roc_auc_score(pred_cat, target_valid))"
   ]
  },
  {
   "cell_type": "code",
   "execution_count": 112,
   "id": "22bec4a1",
   "metadata": {},
   "outputs": [
    {
     "data": {
      "application/vnd.jupyter.widget-view+json": {
       "model_id": "65bda0510d164e5eacdfd6c26fe4c12c",
       "version_major": 2,
       "version_minor": 0
      },
      "text/plain": [
       "MetricVisualizer(layout=Layout(align_self='stretch', height='500px'))"
      ]
     },
     "metadata": {},
     "output_type": "display_data"
    }
   ],
   "source": [
    "# Посмотрим на график обучения модели\n",
    "MetricVisualizer(['learning_rate_0.02']).start()"
   ]
  },
  {
   "cell_type": "code",
   "execution_count": 113,
   "id": "9cf19979",
   "metadata": {
    "scrolled": true
   },
   "outputs": [
    {
     "data": {
      "image/png": "[encoded data removed]",
      "text/plain": [
       "<Figure size 432x288 with 2 Axes>"
      ]
     },
     "metadata": {
      "needs_background": "light"
     },
     "output_type": "display_data"
    }
   ],
   "source": [
    "# Построим матрицу ошибок для модели CatBoost\n",
    "matrix = confusion_matrix(target_valid, pred_cat)\n",
    "cm_display = ConfusionMatrixDisplay(matrix).plot()"
   ]
  },
  {
   "cell_type": "code",
   "execution_count": 114,
   "id": "2adf2781",
   "metadata": {
    "scrolled": true
   },
   "outputs": [
    {
     "data": {
      "image/png": "[encoded data removed]",
      "text/plain": [
       "<Figure size 432x288 with 2 Axes>"
      ]
     },
     "metadata": {
      "needs_background": "light"
     },
     "output_type": "display_data"
    },
    {
     "name": "stdout",
     "output_type": "stream",
     "text": [
      "[CV] END class_weight=balanced, max_depth=1, n_estimators=80; total time=   1.1s\n",
      "[CV] END class_weight=balanced, max_depth=1, n_estimators=85; total time=   1.0s\n",
      "[CV] END class_weight=balanced, max_depth=1, n_estimators=85; total time=   1.0s\n",
      "[CV] END class_weight=balanced, max_depth=1, n_estimators=90; total time=   1.0s\n",
      "[CV] END class_weight=balanced, max_depth=1, n_estimators=95; total time=   1.1s\n",
      "[CV] END class_weight=balanced, max_depth=1, n_estimators=100; total time=   1.1s\n",
      "[CV] END class_weight=balanced, max_depth=3, n_estimators=80; total time=   1.3s\n",
      "[CV] END class_weight=balanced, max_depth=3, n_estimators=80; total time=   1.4s\n",
      "[CV] END class_weight=balanced, max_depth=3, n_estimators=85; total time=   1.4s\n",
      "[CV] END class_weight=balanced, max_depth=3, n_estimators=90; total time=   1.5s\n",
      "[CV] END class_weight=balanced, max_depth=3, n_estimators=95; total time=   1.5s\n",
      "[CV] END class_weight=balanced, max_depth=3, n_estimators=100; total time=   1.6s\n",
      "[CV] END class_weight=balanced, max_depth=3, n_estimators=100; total time=   1.6s\n",
      "[CV] END class_weight=balanced, max_depth=5, n_estimators=80; total time=   1.8s\n",
      "[CV] END class_weight=balanced, max_depth=5, n_estimators=85; total time=   2.0s\n",
      "[CV] END class_weight=balanced, max_depth=5, n_estimators=90; total time=   1.9s\n",
      "[CV] END class_weight=balanced, max_depth=5, n_estimators=95; total time=   2.1s\n",
      "[CV] END class_weight=balanced, max_depth=5, n_estimators=95; total time=   2.0s\n",
      "[CV] END class_weight=balanced, max_depth=5, n_estimators=100; total time=   2.2s\n",
      "[CV] END class_weight=balanced, max_depth=7, n_estimators=80; total time=   2.2s\n",
      "[CV] END class_weight=balanced, max_depth=7, n_estimators=85; total time=   2.3s\n",
      "[CV] END class_weight=balanced, max_depth=7, n_estimators=90; total time=   2.5s\n",
      "[CV] END class_weight=balanced, max_depth=7, n_estimators=90; total time=   2.5s\n",
      "[CV] END class_weight=balanced, max_depth=7, n_estimators=95; total time=   2.7s\n",
      "[CV] END class_weight=balanced, max_depth=7, n_estimators=100; total time=   2.7s\n",
      "[CV] END class_weight=balanced, max_depth=9, n_estimators=80; total time=   2.7s\n",
      "[CV] END class_weight=balanced, max_depth=9, n_estimators=85; total time=   2.8s\n",
      "[CV] END class_weight=balanced, max_depth=9, n_estimators=85; total time=   3.0s\n",
      "[CV] END class_weight=balanced, max_depth=9, n_estimators=90; total time=   3.0s\n",
      "[CV] END class_weight=balanced, max_depth=9, n_estimators=95; total time=   3.2s\n",
      "[CV] END class_weight=balanced, max_depth=9, n_estimators=100; total time=   3.4s\n",
      "[CV] END class_weight=balanced, max_depth=1, n_estimators=80; total time=   1.1s\n",
      "[CV] END class_weight=balanced, max_depth=1, n_estimators=85; total time=   1.1s\n",
      "[CV] END class_weight=balanced, max_depth=1, n_estimators=90; total time=   1.1s\n",
      "[CV] END class_weight=balanced, max_depth=1, n_estimators=90; total time=   1.1s\n",
      "[CV] END class_weight=balanced, max_depth=1, n_estimators=95; total time=   1.1s\n",
      "[CV] END class_weight=balanced, max_depth=1, n_estimators=100; total time=   1.1s\n",
      "[CV] END class_weight=balanced, max_depth=3, n_estimators=80; total time=   1.3s\n",
      "[CV] END class_weight=balanced, max_depth=3, n_estimators=85; total time=   1.5s\n",
      "[CV] END class_weight=balanced, max_depth=3, n_estimators=85; total time=   1.4s\n",
      "[CV] END class_weight=balanced, max_depth=3, n_estimators=90; total time=   1.5s\n",
      "[CV] END class_weight=balanced, max_depth=3, n_estimators=95; total time=   1.5s\n",
      "[CV] END class_weight=balanced, max_depth=3, n_estimators=100; total time=   1.6s\n",
      "[CV] END class_weight=balanced, max_depth=5, n_estimators=80; total time=   1.7s\n",
      "[CV] END class_weight=balanced, max_depth=5, n_estimators=80; total time=   1.8s\n",
      "[CV] END class_weight=balanced, max_depth=5, n_estimators=85; total time=   1.9s\n",
      "[CV] END class_weight=balanced, max_depth=5, n_estimators=90; total time=   1.9s\n",
      "[CV] END class_weight=balanced, max_depth=5, n_estimators=95; total time=   2.0s\n",
      "[CV] END class_weight=balanced, max_depth=5, n_estimators=100; total time=   2.1s\n",
      "[CV] END class_weight=balanced, max_depth=5, n_estimators=100; total time=   2.2s\n",
      "[CV] END class_weight=balanced, max_depth=7, n_estimators=80; total time=   2.2s\n",
      "[CV] END class_weight=balanced, max_depth=7, n_estimators=85; total time=   2.3s\n",
      "[CV] END class_weight=balanced, max_depth=7, n_estimators=90; total time=   2.5s\n",
      "[CV] END class_weight=balanced, max_depth=7, n_estimators=95; total time=   2.6s\n",
      "[CV] END class_weight=balanced, max_depth=7, n_estimators=95; total time=   2.7s\n",
      "[CV] END class_weight=balanced, max_depth=7, n_estimators=100; total time=   2.7s\n",
      "[CV] END class_weight=balanced, max_depth=9, n_estimators=80; total time=   2.7s\n",
      "[CV] END class_weight=balanced, max_depth=9, n_estimators=85; total time=   2.8s\n",
      "[CV] END class_weight=balanced, max_depth=9, n_estimators=90; total time=   3.2s\n",
      "[CV] END class_weight=balanced, max_depth=9, n_estimators=90; total time=   3.0s\n",
      "[CV] END class_weight=balanced, max_depth=9, n_estimators=95; total time=   3.2s\n",
      "[CV] END class_weight=balanced, max_depth=9, n_estimators=100; total time=   3.3s\n",
      "[CV] END class_weight=balanced, max_depth=1, n_estimators=80; total time=   1.1s\n",
      "[CV] END class_weight=balanced, max_depth=1, n_estimators=85; total time=   1.1s\n",
      "[CV] END class_weight=balanced, max_depth=1, n_estimators=90; total time=   1.1s\n",
      "[CV] END class_weight=balanced, max_depth=1, n_estimators=95; total time=   1.1s\n",
      "[CV] END class_weight=balanced, max_depth=1, n_estimators=95; total time=   1.1s\n",
      "[CV] END class_weight=balanced, max_depth=1, n_estimators=100; total time=   1.1s\n",
      "[CV] END class_weight=balanced, max_depth=3, n_estimators=80; total time=   1.3s\n",
      "[CV] END class_weight=balanced, max_depth=3, n_estimators=85; total time=   1.5s\n",
      "[CV] END class_weight=balanced, max_depth=3, n_estimators=90; total time=   1.4s\n",
      "[CV] END class_weight=balanced, max_depth=3, n_estimators=90; total time=   1.5s\n",
      "[CV] END class_weight=balanced, max_depth=3, n_estimators=95; total time=   1.5s\n",
      "[CV] END class_weight=balanced, max_depth=3, n_estimators=100; total time=   1.6s\n",
      "[CV] END class_weight=balanced, max_depth=5, n_estimators=80; total time=   1.7s\n",
      "[CV] END class_weight=balanced, max_depth=5, n_estimators=85; total time=   2.0s\n",
      "[CV] END class_weight=balanced, max_depth=5, n_estimators=85; total time=   1.9s\n",
      "[CV] END class_weight=balanced, max_depth=5, n_estimators=90; total time=   2.0s\n",
      "[CV] END class_weight=balanced, max_depth=5, n_estimators=95; total time=   2.0s\n",
      "[CV] END class_weight=balanced, max_depth=5, n_estimators=100; total time=   2.2s\n",
      "[CV] END class_weight=balanced, max_depth=7, n_estimators=80; total time=   2.2s\n",
      "[CV] END class_weight=balanced, max_depth=7, n_estimators=80; total time=   2.2s\n",
      "[CV] END class_weight=balanced, max_depth=7, n_estimators=85; total time=   2.3s\n",
      "[CV] END class_weight=balanced, max_depth=7, n_estimators=90; total time=   2.5s\n",
      "[CV] END class_weight=balanced, max_depth=7, n_estimators=95; total time=   2.6s\n",
      "[CV] END class_weight=balanced, max_depth=7, n_estimators=100; total time=   2.9s\n",
      "[CV] END class_weight=balanced, max_depth=7, n_estimators=100; total time=   2.8s\n",
      "[CV] END class_weight=balanced, max_depth=9, n_estimators=80; total time=   2.7s\n",
      "[CV] END class_weight=balanced, max_depth=9, n_estimators=85; total time=   2.9s\n",
      "[CV] END class_weight=balanced, max_depth=9, n_estimators=90; total time=   3.1s\n",
      "[CV] END class_weight=balanced, max_depth=9, n_estimators=95; total time=   3.1s\n",
      "[CV] END class_weight=balanced, max_depth=9, n_estimators=95; total time=   3.2s\n",
      "[CV] END class_weight=balanced, max_depth=9, n_estimators=100; total time=   2.9s\n",
      "[CV] END class_weight=balanced, max_depth=1, n_estimators=80; total time=   1.1s\n",
      "[CV] END class_weight=balanced, max_depth=1, n_estimators=80; total time=   1.0s\n",
      "[CV] END class_weight=balanced, max_depth=1, n_estimators=85; total time=   1.0s\n",
      "[CV] END class_weight=balanced, max_depth=1, n_estimators=90; total time=   1.1s\n",
      "[CV] END class_weight=balanced, max_depth=1, n_estimators=95; total time=   1.1s\n",
      "[CV] END class_weight=balanced, max_depth=1, n_estimators=100; total time=   1.1s\n",
      "[CV] END class_weight=balanced, max_depth=1, n_estimators=100; total time=   1.1s\n",
      "[CV] END class_weight=balanced, max_depth=3, n_estimators=80; total time=   1.5s\n",
      "[CV] END class_weight=balanced, max_depth=3, n_estimators=85; total time=   1.4s\n",
      "[CV] END class_weight=balanced, max_depth=3, n_estimators=90; total time=   1.5s\n",
      "[CV] END class_weight=balanced, max_depth=3, n_estimators=95; total time=   1.5s\n",
      "[CV] END class_weight=balanced, max_depth=3, n_estimators=95; total time=   1.5s\n",
      "[CV] END class_weight=balanced, max_depth=3, n_estimators=100; total time=   1.6s\n",
      "[CV] END class_weight=balanced, max_depth=5, n_estimators=80; total time=   1.7s\n",
      "[CV] END class_weight=balanced, max_depth=5, n_estimators=85; total time=   2.0s\n",
      "[CV] END class_weight=balanced, max_depth=5, n_estimators=90; total time=   1.9s\n",
      "[CV] END class_weight=balanced, max_depth=5, n_estimators=90; total time=   2.0s\n",
      "[CV] END class_weight=balanced, max_depth=5, n_estimators=95; total time=   2.0s\n",
      "[CV] END class_weight=balanced, max_depth=5, n_estimators=100; total time=   2.2s\n",
      "[CV] END class_weight=balanced, max_depth=7, n_estimators=80; total time=   2.2s\n",
      "[CV] END class_weight=balanced, max_depth=7, n_estimators=85; total time=   2.3s\n",
      "[CV] END class_weight=balanced, max_depth=7, n_estimators=85; total time=   2.3s\n",
      "[CV] END class_weight=balanced, max_depth=7, n_estimators=90; total time=   2.4s\n",
      "[CV] END class_weight=balanced, max_depth=7, n_estimators=95; total time=   2.8s\n",
      "[CV] END class_weight=balanced, max_depth=7, n_estimators=100; total time=   2.7s\n",
      "[CV] END class_weight=balanced, max_depth=9, n_estimators=80; total time=   2.7s\n",
      "[CV] END class_weight=balanced, max_depth=9, n_estimators=80; total time=   2.6s\n",
      "[CV] END class_weight=balanced, max_depth=9, n_estimators=85; total time=   3.0s\n",
      "[CV] END class_weight=balanced, max_depth=9, n_estimators=90; total time=   3.0s\n",
      "[CV] END class_weight=balanced, max_depth=9, n_estimators=95; total time=   3.2s\n",
      "[CV] END class_weight=balanced, max_depth=9, n_estimators=100; total time=   3.3s\n",
      "[CV] END class_weight=balanced, max_depth=9, n_estimators=100; total time=   2.2s\n"
     ]
    }
   ],
   "source": [
    "# Построим матрицу ошибок для модели Randomforest\n",
    "matrix_rf = confusion_matrix(target_valid_encoder, pred_rf)\n",
    "cm_display_rf = ConfusionMatrixDisplay(matrix_rf).plot()"
   ]
  },
  {
   "cell_type": "code",
   "execution_count": 115,
   "id": "82781054",
   "metadata": {
    "scrolled": true
   },
   "outputs": [
    {
     "data": {
      "image/png": "[encoded data removed]",
      "text/plain": [
       "<Figure size 432x288 with 2 Axes>"
      ]
     },
     "metadata": {
      "needs_background": "light"
     },
     "output_type": "display_data"
    }
   ],
   "source": [
    "# Построим матрицу ошибок для модели Randomforest\n",
    "matrix_dt = confusion_matrix(target_valid_encoder, pred_dt)\n",
    "cm_display_dt = ConfusionMatrixDisplay(matrix_dt).plot()"
   ]
  },
  {
   "cell_type": "code",
   "execution_count": 116,
   "id": "9618748c",
   "metadata": {},
   "outputs": [
    {
     "data": {
      "text/html": [
       "<div>\n",
       "<style scoped>\n",
       "    .dataframe tbody tr th:only-of-type {\n",
       "        vertical-align: middle;\n",
       "    }\n",
       "\n",
       "    .dataframe tbody tr th {\n",
       "        vertical-align: top;\n",
       "    }\n",
       "\n",
       "    .dataframe thead th {\n",
       "        text-align: right;\n",
       "    }\n",
       "</style>\n",
       "<table border=\"1\" class=\"dataframe\">\n",
       "  <thead>\n",
       "    <tr style=\"text-align: right;\">\n",
       "      <th></th>\n",
       "      <th>F1</th>\n",
       "      <th>AUC_ROC</th>\n",
       "    </tr>\n",
       "  </thead>\n",
       "  <tbody>\n",
       "    <tr>\n",
       "      <th>CatBoost</th>\n",
       "      <td>0.341</td>\n",
       "      <td>0.709</td>\n",
       "    </tr>\n",
       "    <tr>\n",
       "      <th>RandomForest</th>\n",
       "      <td>0.405</td>\n",
       "      <td>0.655</td>\n",
       "    </tr>\n",
       "    <tr>\n",
       "      <th>DecisionTree</th>\n",
       "      <td>0.422</td>\n",
       "      <td>0.643</td>\n",
       "    </tr>\n",
       "  </tbody>\n",
       "</table>\n",
       "</div>"
      ],
      "text/plain": [
       "                 F1  AUC_ROC\n",
       "CatBoost      0.341    0.709\n",
       "RandomForest  0.405    0.655\n",
       "DecisionTree  0.422    0.643"
      ]
     },
     "execution_count": 116,
     "metadata": {},
     "output_type": "execute_result"
    }
   ],
   "source": [
    "data = {'F1': [0.422, 0.405, 0.341], \n",
    "        'AUC_ROC': [0.643, 0.655, 0.709]}\n",
    "\n",
    "table = pd.DataFrame(data, index=['DecisionTree', 'RandomForest', 'CatBoost'])\n",
    "table.sort_values('AUC_ROC', ascending=False)"
   ]
  },
  {
   "cell_type": "markdown",
   "id": "aebdaf94",
   "metadata": {},
   "source": [
    "Наилучшей моделью оказалась модель CatBoost, которая показала значение ROC-AUC 0.709, количество FN - 8709, FP - 466, при этом модель RandomForest показала количество ложноположительных ответов меньше - 7964, FP - 1202."
   ]
  },
  {
   "cell_type": "markdown",
   "id": "c23e80df",
   "metadata": {},
   "source": [
    "### Тестирование модели CatBoost"
   ]
  },
  {
   "cell_type": "code",
   "execution_count": 117,
   "id": "af739901",
   "metadata": {},
   "outputs": [],
   "source": [
    "# объединим обучающую и валидационные выбоки\n",
    "features_train_valid = pd.concat([features_train, features_valid])\n",
    "target_train_valid = pd.concat([target_train, target_valid])"
   ]
  },
  {
   "cell_type": "code",
   "execution_count": 118,
   "id": "ae153201",
   "metadata": {},
   "outputs": [
    {
     "name": "stdout",
     "output_type": "stream",
     "text": [
      "0:\ttotal: 19.3ms\tremaining: 1.92s\n",
      "99:\ttotal: 1.67s\tremaining: 0us\n",
      "CPU times: user 5.83 s, sys: 67.4 ms, total: 5.9 s\n",
      "Wall time: 1.96 s\n"
     ]
    },
    {
     "data": {
      "text/plain": [
       "<catboost.core.CatBoostClassifier at 0x1367ff700>"
      ]
     },
     "execution_count": 118,
     "metadata": {},
     "output_type": "execute_result"
    }
   ],
   "source": [
    "%%time\n",
    "# Обучим модель\n",
    "final_cat.fit(Pool(features_train_valid, target_train_valid, cat_features=cat_features)) "
   ]
  },
  {
   "cell_type": "code",
   "execution_count": 119,
   "id": "43aadd6e",
   "metadata": {},
   "outputs": [
    {
     "name": "stdout",
     "output_type": "stream",
     "text": [
      "CPU times: user 72.1 ms, sys: 4.91 ms, total: 77 ms\n",
      "Wall time: 68 ms\n"
     ]
    }
   ],
   "source": [
    "%%time\n",
    "# Предсказания модели\n",
    "pred_cat_test = final_cat.predict(features_test)"
   ]
  },
  {
   "cell_type": "code",
   "execution_count": 120,
   "id": "8a1f979b",
   "metadata": {},
   "outputs": [
    {
     "name": "stdout",
     "output_type": "stream",
     "text": [
      "F1 на валидационной выборке: 0.3469024025094461\n",
      "ROC_AUC на валидационной выборке: 0.7090199113540029\n"
     ]
    }
   ],
   "source": [
    "print('F1 на валидационной выборке:', f1_score(pred_cat_test, target_test))\n",
    "print('ROC_AUC на валидационной выборке:', roc_auc_score(pred_cat_test, target_test))"
   ]
  },
  {
   "cell_type": "code",
   "execution_count": 121,
   "id": "93584153",
   "metadata": {},
   "outputs": [
    {
     "data": {
      "image/png": "[encoded data removed]",
      "text/plain": [
       "<Figure size 432x288 with 2 Axes>"
      ]
     },
     "metadata": {
      "needs_background": "light"
     },
     "output_type": "display_data"
    }
   ],
   "source": [
    "matrix = confusion_matrix(target_test, pred_cat_test)\n",
    "cm_display = ConfusionMatrixDisplay(matrix).plot()"
   ]
  },
  {
   "cell_type": "markdown",
   "id": "ab34dc80",
   "metadata": {},
   "source": [
    "Модель CatBoost на тестовой выборке показала почти такие же результаты, как и на валидационной. ROC-AUC 0.709, количество FN ответов 8684, FP - 477."
   ]
  },
  {
   "cell_type": "markdown",
   "id": "c542378a",
   "metadata": {},
   "source": [
    "## Проведите анализ важности факторов ДТП"
   ]
  },
  {
   "cell_type": "code",
   "execution_count": 122,
   "id": "4e1b0c1f",
   "metadata": {},
   "outputs": [],
   "source": [
    "importances = final_cat.feature_importances_"
   ]
  },
  {
   "cell_type": "code",
   "execution_count": 123,
   "id": "6e91eaaa",
   "metadata": {},
   "outputs": [],
   "source": [
    "feature_list = list(features_train_valid.columns)"
   ]
  },
  {
   "cell_type": "code",
   "execution_count": 124,
   "id": "95eee9d5",
   "metadata": {},
   "outputs": [],
   "source": [
    "feature_results = pd.DataFrame({'feature': feature_list,'importance': importances})"
   ]
  },
  {
   "cell_type": "code",
   "execution_count": 125,
   "id": "42f2dbb1",
   "metadata": {},
   "outputs": [],
   "source": [
    "feature_results = feature_results.sort_values('importance',ascending = False).reset_index(drop=True)"
   ]
  },
  {
   "cell_type": "code",
   "execution_count": 126,
   "id": "14571af6",
   "metadata": {
    "scrolled": true
   },
   "outputs": [
    {
     "data": {
      "text/html": [
       "<div>\n",
       "<style scoped>\n",
       "    .dataframe tbody tr th:only-of-type {\n",
       "        vertical-align: middle;\n",
       "    }\n",
       "\n",
       "    .dataframe tbody tr th {\n",
       "        vertical-align: top;\n",
       "    }\n",
       "\n",
       "    .dataframe thead th {\n",
       "        text-align: right;\n",
       "    }\n",
       "</style>\n",
       "<table border=\"1\" class=\"dataframe\">\n",
       "  <thead>\n",
       "    <tr style=\"text-align: right;\">\n",
       "      <th></th>\n",
       "      <th>feature</th>\n",
       "      <th>importance</th>\n",
       "    </tr>\n",
       "  </thead>\n",
       "  <tbody>\n",
       "    <tr>\n",
       "      <th>0</th>\n",
       "      <td>party_sobriety</td>\n",
       "      <td>98.402430</td>\n",
       "    </tr>\n",
       "    <tr>\n",
       "      <th>1</th>\n",
       "      <td>vehicle_age</td>\n",
       "      <td>0.595397</td>\n",
       "    </tr>\n",
       "    <tr>\n",
       "      <th>2</th>\n",
       "      <td>vehicle_transmission</td>\n",
       "      <td>0.578342</td>\n",
       "    </tr>\n",
       "    <tr>\n",
       "      <th>3</th>\n",
       "      <td>intersection</td>\n",
       "      <td>0.372853</td>\n",
       "    </tr>\n",
       "    <tr>\n",
       "      <th>4</th>\n",
       "      <td>cellphone_in_use</td>\n",
       "      <td>0.050978</td>\n",
       "    </tr>\n",
       "  </tbody>\n",
       "</table>\n",
       "</div>"
      ],
      "text/plain": [
       "                feature  importance\n",
       "0        party_sobriety   98.402430\n",
       "1           vehicle_age    0.595397\n",
       "2  vehicle_transmission    0.578342\n",
       "3          intersection    0.372853\n",
       "4      cellphone_in_use    0.050978"
      ]
     },
     "execution_count": 126,
     "metadata": {},
     "output_type": "execute_result"
    }
   ],
   "source": [
    "feature_results.head()"
   ]
  },
  {
   "cell_type": "code",
   "execution_count": 127,
   "id": "142dfa35",
   "metadata": {},
   "outputs": [
    {
     "data": {
      "image/png": "[encoded data removed]",
      "text/plain": [
       "<Figure size 1080x432 with 1 Axes>"
      ]
     },
     "metadata": {
      "needs_background": "light"
     },
     "output_type": "display_data"
    }
   ],
   "source": [
    "indices = np.argsort(importances)\n",
    "\n",
    "fig, ax = plt.subplots(figsize=(15, 6))\n",
    "ax.barh(range(len(importances)), importances[indices])\n",
    "ax.set_yticks(range(len(importances)))\n",
    "_ = ax.set_yticklabels(np.array(features_train_valid.columns)[indices])"
   ]
  },
  {
   "cell_type": "code",
   "execution_count": 128,
   "id": "a5d480b7",
   "metadata": {
    "scrolled": false
   },
   "outputs": [
    {
     "data": {
      "image/png": "[encoded data removed]",
      "text/plain": [
       "<Figure size 1080x432 with 1 Axes>"
      ]
     },
     "metadata": {
      "needs_background": "light"
     },
     "output_type": "display_data"
    }
   ],
   "source": [
    "group_party_sobriety = df[df['at_fault'] == 1].groupby('party_sobriety')['at_fault'].count().plot(kind='bar', figsize=(15, 6))"
   ]
  },
  {
   "cell_type": "code",
   "execution_count": 129,
   "id": "a8b88e1c",
   "metadata": {
    "scrolled": false
   },
   "outputs": [
    {
     "data": {
      "image/png": "[encoded data removed]",
      "text/plain": [
       "<Figure size 1080x432 with 1 Axes>"
      ]
     },
     "metadata": {
      "needs_background": "light"
     },
     "output_type": "display_data"
    }
   ],
   "source": [
    "y_sobriety = df[df['at_fault'] == 0].groupby('party_sobriety')['at_fault'].count().plot(kind='bar', figsize=(15, 6))"
   ]
  },
  {
   "cell_type": "markdown",
   "id": "886ec2c8",
   "metadata": {},
   "source": [
    "Выявили, что самый важный фактор ДТП — уровень трезвости виновника party_sobriety. Из таблицы исходных данных известно, что есть несколько уровней трезвости. Благодоря столбчатой диаграмм, которая отражает зависимость  числа ДТП от уровня трезвости, можно сделать вывод, что в основном ДТП происходят, когда участник трезв, но вероятность виновности в ДТП выше, когда участник пьян.\n",
    "Для решения проблемы необходимо оборудовать автомобиль анализатором алкогольного опьянения. Измерение состояния при посадке сделать обязательным условием допуска за руль. А чтобы убедиться, что в трубку дышит именно водитель, добавить камеру, направленную на водительское место."
   ]
  },
  {
   "cell_type": "markdown",
   "id": "f367b8a2",
   "metadata": {},
   "source": [
    "Наилучшей оказалась модель CatBoost (с гиперпараметрами depth - 6, iterations - 100, learning_rate - 0.002), которая на тестовой выборке показала результаты ROC-AUC 0.709, количество FN ответов 8684, FP - 477. Для улучшения модели можно добавить такие признаки, как стаж вождения, количество штрафов за нарушение ПДД, попадал ли ранее в ДТП."
   ]
  }
 ],
 "metadata": {
  "ExecuteTimeLog": [
   {
    "duration": 8,
    "start_time": "2022-10-06T06:52:09.155Z"
   },
   {
    "duration": 1525,
    "start_time": "2022-10-06T06:54:00.967Z"
   },
   {
    "duration": 3,
    "start_time": "2022-10-06T06:54:05.300Z"
   },
   {
    "duration": 4,
    "start_time": "2022-10-06T06:54:26.494Z"
   },
   {
    "duration": 7037,
    "start_time": "2022-10-06T06:54:45.156Z"
   },
   {
    "duration": 449,
    "start_time": "2022-10-06T06:56:16.801Z"
   },
   {
    "duration": 40,
    "start_time": "2022-10-06T06:56:25.291Z"
   },
   {
    "duration": 24,
    "start_time": "2022-10-06T06:56:30.817Z"
   },
   {
    "duration": 1376,
    "start_time": "2022-10-08T15:26:32.113Z"
   },
   {
    "duration": 3,
    "start_time": "2022-10-08T15:26:34.623Z"
   },
   {
    "duration": 8156,
    "start_time": "2022-10-08T15:26:35.417Z"
   },
   {
    "duration": 64,
    "start_time": "2022-10-08T15:26:43.577Z"
   },
   {
    "duration": 33,
    "start_time": "2022-10-08T15:26:43.644Z"
   },
   {
    "duration": 19,
    "start_time": "2022-10-08T15:26:56.847Z"
   },
   {
    "duration": 8,
    "start_time": "2022-10-08T15:28:19.971Z"
   },
   {
    "duration": 104,
    "start_time": "2022-10-08T15:28:25.205Z"
   },
   {
    "duration": 12,
    "start_time": "2022-10-08T15:28:29.440Z"
   },
   {
    "duration": 6,
    "start_time": "2022-10-08T15:29:06.309Z"
   },
   {
    "duration": 8,
    "start_time": "2022-10-08T15:29:13.144Z"
   },
   {
    "duration": 100,
    "start_time": "2022-10-08T15:39:34.038Z"
   },
   {
    "duration": 371,
    "start_time": "2022-10-08T15:40:10.818Z"
   },
   {
    "duration": 552,
    "start_time": "2022-10-08T15:40:37.945Z"
   },
   {
    "duration": 123,
    "start_time": "2022-10-08T15:40:52.806Z"
   },
   {
    "duration": 99,
    "start_time": "2022-10-08T15:42:03.210Z"
   },
   {
    "duration": 96,
    "start_time": "2022-10-08T15:42:50.381Z"
   },
   {
    "duration": 95,
    "start_time": "2022-10-08T15:43:11.889Z"
   },
   {
    "duration": 16615,
    "start_time": "2022-10-08T15:44:03.317Z"
   },
   {
    "duration": 27,
    "start_time": "2022-10-08T15:44:27.522Z"
   },
   {
    "duration": 18,
    "start_time": "2022-10-08T15:44:55.608Z"
   },
   {
    "duration": 17,
    "start_time": "2022-10-08T15:44:59.076Z"
   },
   {
    "duration": 234,
    "start_time": "2022-10-08T15:45:52.147Z"
   },
   {
    "duration": 210,
    "start_time": "2022-10-08T15:46:03.074Z"
   },
   {
    "duration": 7,
    "start_time": "2022-10-08T15:46:08.410Z"
   },
   {
    "duration": 209,
    "start_time": "2022-10-08T15:46:18.796Z"
   },
   {
    "duration": 8,
    "start_time": "2022-10-08T15:46:19.572Z"
   },
   {
    "duration": 209,
    "start_time": "2022-10-08T15:46:42.869Z"
   },
   {
    "duration": 7,
    "start_time": "2022-10-08T15:46:43.759Z"
   },
   {
    "duration": 211,
    "start_time": "2022-10-08T15:47:49.118Z"
   },
   {
    "duration": 7,
    "start_time": "2022-10-08T15:47:49.828Z"
   },
   {
    "duration": 180,
    "start_time": "2022-10-08T15:48:47.726Z"
   },
   {
    "duration": 4641,
    "start_time": "2022-10-08T15:52:15.576Z"
   },
   {
    "duration": 5312,
    "start_time": "2022-10-08T15:52:40.308Z"
   },
   {
    "duration": 1243,
    "start_time": "2022-10-08T15:54:17.387Z"
   },
   {
    "duration": 124,
    "start_time": "2022-10-08T15:55:01.316Z"
   },
   {
    "duration": 128,
    "start_time": "2022-10-08T15:55:13.488Z"
   },
   {
    "duration": 130,
    "start_time": "2022-10-08T15:55:21.825Z"
   },
   {
    "duration": 137,
    "start_time": "2022-10-08T15:56:16.379Z"
   },
   {
    "duration": 131,
    "start_time": "2022-10-08T15:56:22.659Z"
   },
   {
    "duration": 127,
    "start_time": "2022-10-08T15:56:29.933Z"
   },
   {
    "duration": 25,
    "start_time": "2022-10-08T16:00:26.557Z"
   },
   {
    "duration": 352,
    "start_time": "2022-10-08T16:01:18.327Z"
   },
   {
    "duration": 218,
    "start_time": "2022-10-08T16:03:02.695Z"
   },
   {
    "duration": 134,
    "start_time": "2022-10-08T16:03:43.728Z"
   },
   {
    "duration": 149,
    "start_time": "2022-10-08T16:04:48.008Z"
   },
   {
    "duration": 125,
    "start_time": "2022-10-08T16:05:07.840Z"
   },
   {
    "duration": 147,
    "start_time": "2022-10-08T16:05:58.064Z"
   },
   {
    "duration": 4267,
    "start_time": "2022-10-08T16:12:39.176Z"
   },
   {
    "duration": 5801,
    "start_time": "2022-10-08T16:13:16.149Z"
   },
   {
    "duration": 5144,
    "start_time": "2022-10-08T16:13:37.978Z"
   },
   {
    "duration": 1274,
    "start_time": "2022-10-08T16:13:51.978Z"
   },
   {
    "duration": 1293,
    "start_time": "2022-10-08T16:16:00.082Z"
   },
   {
    "duration": 116,
    "start_time": "2022-10-08T16:17:00.083Z"
   },
   {
    "duration": 20650,
    "start_time": "2022-10-08T16:17:20.667Z"
   },
   {
    "duration": 6967,
    "start_time": "2022-10-08T16:18:51.575Z"
   },
   {
    "duration": 13577,
    "start_time": "2022-10-08T16:19:20.707Z"
   },
   {
    "duration": 123,
    "start_time": "2022-10-08T16:23:01.198Z"
   },
   {
    "duration": 195,
    "start_time": "2022-10-08T16:23:22.126Z"
   },
   {
    "duration": 202,
    "start_time": "2022-10-08T16:23:54.577Z"
   },
   {
    "duration": 202,
    "start_time": "2022-10-08T16:24:19.086Z"
   },
   {
    "duration": 223,
    "start_time": "2022-10-08T16:26:37.736Z"
   },
   {
    "duration": 16,
    "start_time": "2022-10-08T16:32:09.548Z"
   },
   {
    "duration": 275,
    "start_time": "2022-10-08T16:34:59.222Z"
   },
   {
    "duration": 317,
    "start_time": "2022-10-08T16:40:18.464Z"
   },
   {
    "duration": 102,
    "start_time": "2022-10-08T16:43:02.150Z"
   },
   {
    "duration": 138,
    "start_time": "2022-10-08T16:43:18.734Z"
   },
   {
    "duration": 319,
    "start_time": "2022-10-08T16:43:24.955Z"
   },
   {
    "duration": 271,
    "start_time": "2022-10-08T16:44:32.990Z"
   },
   {
    "duration": 257,
    "start_time": "2022-10-08T16:44:38.201Z"
   },
   {
    "duration": 75,
    "start_time": "2022-10-08T16:47:21.682Z"
   },
   {
    "duration": 284,
    "start_time": "2022-10-08T16:47:25.792Z"
   },
   {
    "duration": 202,
    "start_time": "2022-10-08T16:50:33.957Z"
   },
   {
    "duration": 241,
    "start_time": "2022-10-08T16:50:54.863Z"
   },
   {
    "duration": 144,
    "start_time": "2022-10-08T16:51:05.032Z"
   },
   {
    "duration": 277,
    "start_time": "2022-10-08T16:51:11.779Z"
   },
   {
    "duration": 281,
    "start_time": "2022-10-08T16:52:40.772Z"
   },
   {
    "duration": 109,
    "start_time": "2022-10-08T16:53:23.402Z"
   },
   {
    "duration": 148,
    "start_time": "2022-10-08T16:53:50.014Z"
   },
   {
    "duration": 99,
    "start_time": "2022-10-08T16:55:11.200Z"
   },
   {
    "duration": 102,
    "start_time": "2022-10-08T16:55:19.592Z"
   },
   {
    "duration": 199,
    "start_time": "2022-10-08T16:55:35.946Z"
   },
   {
    "duration": 200,
    "start_time": "2022-10-08T16:56:04.140Z"
   },
   {
    "duration": 173,
    "start_time": "2022-10-08T16:57:32.633Z"
   },
   {
    "duration": 1336,
    "start_time": "2022-10-09T08:26:47.551Z"
   },
   {
    "duration": 4,
    "start_time": "2022-10-09T08:26:49.668Z"
   },
   {
    "duration": 10860,
    "start_time": "2022-10-09T08:26:49.891Z"
   },
   {
    "duration": 76,
    "start_time": "2022-10-09T08:27:00.753Z"
   },
   {
    "duration": 24,
    "start_time": "2022-10-09T08:27:00.831Z"
   },
   {
    "duration": 12,
    "start_time": "2022-10-09T08:27:00.858Z"
   },
   {
    "duration": 27,
    "start_time": "2022-10-09T08:27:00.872Z"
   },
   {
    "duration": 21,
    "start_time": "2022-10-09T08:27:00.901Z"
   },
   {
    "duration": 11,
    "start_time": "2022-10-09T08:27:00.924Z"
   },
   {
    "duration": 340,
    "start_time": "2022-10-09T08:27:00.937Z"
   },
   {
    "duration": 8,
    "start_time": "2022-10-09T08:27:01.279Z"
   },
   {
    "duration": 225,
    "start_time": "2022-10-09T08:27:01.289Z"
   },
   {
    "duration": 201,
    "start_time": "2022-10-09T08:29:30.467Z"
   },
   {
    "duration": 225,
    "start_time": "2022-10-09T08:30:56.151Z"
   },
   {
    "duration": 229,
    "start_time": "2022-10-09T08:31:11.721Z"
   },
   {
    "duration": 265,
    "start_time": "2022-10-09T08:31:36.610Z"
   },
   {
    "duration": 270,
    "start_time": "2022-10-09T08:32:49.696Z"
   },
   {
    "duration": 136,
    "start_time": "2022-10-09T08:33:13.087Z"
   },
   {
    "duration": 6,
    "start_time": "2022-10-09T08:33:35.408Z"
   },
   {
    "duration": 199,
    "start_time": "2022-10-09T08:33:54.692Z"
   },
   {
    "duration": 5,
    "start_time": "2022-10-09T08:33:56.719Z"
   },
   {
    "duration": 15,
    "start_time": "2022-10-09T08:34:36.166Z"
   },
   {
    "duration": 142,
    "start_time": "2022-10-09T08:37:38.122Z"
   },
   {
    "duration": 219,
    "start_time": "2022-10-09T08:37:54.736Z"
   },
   {
    "duration": 375,
    "start_time": "2022-10-09T08:38:00.752Z"
   },
   {
    "duration": 250,
    "start_time": "2022-10-09T08:38:17.192Z"
   },
   {
    "duration": 412,
    "start_time": "2022-10-09T08:39:49.058Z"
   },
   {
    "duration": 187,
    "start_time": "2022-10-09T08:41:16.709Z"
   },
   {
    "duration": 122,
    "start_time": "2022-10-09T08:41:21.640Z"
   },
   {
    "duration": 175,
    "start_time": "2022-10-09T08:41:47.525Z"
   },
   {
    "duration": 169,
    "start_time": "2022-10-09T08:41:56.140Z"
   },
   {
    "duration": 162,
    "start_time": "2022-10-09T08:43:11.096Z"
   },
   {
    "duration": 175,
    "start_time": "2022-10-09T08:49:07.619Z"
   },
   {
    "duration": 172,
    "start_time": "2022-10-09T08:51:28.702Z"
   },
   {
    "duration": 173,
    "start_time": "2022-10-09T08:52:55.474Z"
   },
   {
    "duration": 17,
    "start_time": "2022-10-09T08:54:56.021Z"
   },
   {
    "duration": 22,
    "start_time": "2022-10-09T08:55:39.396Z"
   },
   {
    "duration": 9,
    "start_time": "2022-10-09T08:56:05.413Z"
   },
   {
    "duration": 14,
    "start_time": "2022-10-09T08:56:42.812Z"
   },
   {
    "duration": 260,
    "start_time": "2022-10-09T08:57:51.493Z"
   },
   {
    "duration": 295,
    "start_time": "2022-10-09T08:58:44.537Z"
   },
   {
    "duration": 402,
    "start_time": "2022-10-09T09:00:10.873Z"
   },
   {
    "duration": 3829,
    "start_time": "2022-10-09T09:08:31.119Z"
   },
   {
    "duration": 261,
    "start_time": "2022-10-09T09:09:18.980Z"
   },
   {
    "duration": 10163,
    "start_time": "2022-10-09T09:14:37.913Z"
   },
   {
    "duration": 348,
    "start_time": "2022-10-09T09:15:07.974Z"
   },
   {
    "duration": 114,
    "start_time": "2022-10-09T09:49:30.851Z"
   },
   {
    "duration": 96,
    "start_time": "2022-10-09T09:49:55.512Z"
   },
   {
    "duration": 104,
    "start_time": "2022-10-09T09:50:21.510Z"
   },
   {
    "duration": 92,
    "start_time": "2022-10-09T09:51:38.547Z"
   },
   {
    "duration": 90,
    "start_time": "2022-10-09T09:52:46.870Z"
   },
   {
    "duration": 27604,
    "start_time": "2022-10-09T09:53:32.166Z"
   },
   {
    "duration": 25100,
    "start_time": "2022-10-09T09:54:30.608Z"
   },
   {
    "duration": 19,
    "start_time": "2022-10-09T09:55:04.173Z"
   },
   {
    "duration": 23,
    "start_time": "2022-10-09T09:55:22.865Z"
   },
   {
    "duration": 31,
    "start_time": "2022-10-09T09:55:28.572Z"
   },
   {
    "duration": 24,
    "start_time": "2022-10-09T09:55:40.425Z"
   },
   {
    "duration": 19323,
    "start_time": "2022-10-09T10:00:22.961Z"
   },
   {
    "duration": 111,
    "start_time": "2022-10-09T10:00:44.420Z"
   },
   {
    "duration": 9,
    "start_time": "2022-10-09T10:01:01.695Z"
   },
   {
    "duration": 126,
    "start_time": "2022-10-09T10:01:07.626Z"
   },
   {
    "duration": 114,
    "start_time": "2022-10-09T10:49:58.233Z"
   },
   {
    "duration": 117,
    "start_time": "2022-10-09T10:50:12.239Z"
   },
   {
    "duration": 111,
    "start_time": "2022-10-09T10:50:18.603Z"
   },
   {
    "duration": 105,
    "start_time": "2022-10-09T10:50:39.376Z"
   },
   {
    "duration": 28,
    "start_time": "2022-10-09T10:51:36.021Z"
   },
   {
    "duration": 20,
    "start_time": "2022-10-09T10:53:13.668Z"
   },
   {
    "duration": 25,
    "start_time": "2022-10-09T10:53:25.590Z"
   },
   {
    "duration": 19,
    "start_time": "2022-10-09T10:53:31.995Z"
   },
   {
    "duration": 9,
    "start_time": "2022-10-09T10:57:06.169Z"
   },
   {
    "duration": 1295,
    "start_time": "2022-10-09T10:57:20.378Z"
   },
   {
    "duration": 4,
    "start_time": "2022-10-09T10:57:45.704Z"
   },
   {
    "duration": 5,
    "start_time": "2022-10-09T10:58:05.916Z"
   },
   {
    "duration": 6,
    "start_time": "2022-10-09T10:58:24.734Z"
   },
   {
    "duration": 4,
    "start_time": "2022-10-09T10:58:29.239Z"
   },
   {
    "duration": 18,
    "start_time": "2022-10-09T10:58:37.416Z"
   },
   {
    "duration": 34292,
    "start_time": "2022-10-09T11:03:34.998Z"
   },
   {
    "duration": 154,
    "start_time": "2022-10-09T11:04:09.292Z"
   },
   {
    "duration": 132,
    "start_time": "2022-10-09T11:04:09.448Z"
   },
   {
    "duration": 134,
    "start_time": "2022-10-09T11:04:09.583Z"
   },
   {
    "duration": 56,
    "start_time": "2022-10-09T11:06:07.422Z"
   },
   {
    "duration": 10,
    "start_time": "2022-10-09T11:08:09.338Z"
   },
   {
    "duration": 7,
    "start_time": "2022-10-09T11:08:12.352Z"
   },
   {
    "duration": 7,
    "start_time": "2022-10-09T11:08:49.634Z"
   },
   {
    "duration": 133,
    "start_time": "2022-10-09T11:10:08.355Z"
   },
   {
    "duration": 43,
    "start_time": "2022-10-09T11:14:24.574Z"
   },
   {
    "duration": 1112,
    "start_time": "2022-10-09T11:14:32.687Z"
   },
   {
    "duration": 4,
    "start_time": "2022-10-09T11:14:33.801Z"
   },
   {
    "duration": 8326,
    "start_time": "2022-10-09T11:14:33.807Z"
   },
   {
    "duration": 52,
    "start_time": "2022-10-09T11:14:42.135Z"
   },
   {
    "duration": 20,
    "start_time": "2022-10-09T11:14:42.189Z"
   },
   {
    "duration": 6,
    "start_time": "2022-10-09T11:14:42.211Z"
   },
   {
    "duration": 13,
    "start_time": "2022-10-09T11:14:42.218Z"
   },
   {
    "duration": 7,
    "start_time": "2022-10-09T11:14:42.232Z"
   },
   {
    "duration": 10,
    "start_time": "2022-10-09T11:14:42.241Z"
   },
   {
    "duration": 220,
    "start_time": "2022-10-09T11:14:42.253Z"
   },
   {
    "duration": 7,
    "start_time": "2022-10-09T11:14:42.475Z"
   },
   {
    "duration": 230,
    "start_time": "2022-10-09T11:14:42.484Z"
   },
   {
    "duration": 200,
    "start_time": "2022-10-09T11:14:42.716Z"
   },
   {
    "duration": 308,
    "start_time": "2022-10-09T11:14:42.919Z"
   },
   {
    "duration": 157,
    "start_time": "2022-10-09T11:14:43.229Z"
   },
   {
    "duration": 301,
    "start_time": "2022-10-09T11:14:43.388Z"
   },
   {
    "duration": 186,
    "start_time": "2022-10-09T11:14:43.690Z"
   },
   {
    "duration": 158,
    "start_time": "2022-10-09T11:14:43.878Z"
   },
   {
    "duration": 176,
    "start_time": "2022-10-09T11:14:44.038Z"
   },
   {
    "duration": 174,
    "start_time": "2022-10-09T11:14:44.215Z"
   },
   {
    "duration": 257,
    "start_time": "2022-10-09T11:14:44.391Z"
   },
   {
    "duration": 10540,
    "start_time": "2022-10-09T11:14:44.651Z"
   },
   {
    "duration": 290,
    "start_time": "2022-10-09T11:14:55.192Z"
   },
   {
    "duration": 33447,
    "start_time": "2022-10-09T11:14:55.483Z"
   },
   {
    "duration": 149,
    "start_time": "2022-10-09T11:15:28.932Z"
   },
   {
    "duration": 130,
    "start_time": "2022-10-09T11:15:29.083Z"
   },
   {
    "duration": 128,
    "start_time": "2022-10-09T11:15:29.214Z"
   },
   {
    "duration": 78,
    "start_time": "2022-10-09T11:15:29.344Z"
   },
   {
    "duration": 7,
    "start_time": "2022-10-09T11:15:43.590Z"
   },
   {
    "duration": 8,
    "start_time": "2022-10-09T11:16:31.422Z"
   },
   {
    "duration": 8,
    "start_time": "2022-10-09T11:16:39.139Z"
   },
   {
    "duration": 5,
    "start_time": "2022-10-09T11:18:07.357Z"
   },
   {
    "duration": 6,
    "start_time": "2022-10-09T11:18:08.007Z"
   },
   {
    "duration": 239,
    "start_time": "2022-10-09T11:18:15.548Z"
   },
   {
    "duration": 36,
    "start_time": "2022-10-09T11:20:00.024Z"
   },
   {
    "duration": 65,
    "start_time": "2022-10-09T11:22:29.448Z"
   },
   {
    "duration": 115,
    "start_time": "2022-10-09T11:22:44.378Z"
   },
   {
    "duration": 175,
    "start_time": "2022-10-09T11:24:12.318Z"
   },
   {
    "duration": 23,
    "start_time": "2022-10-09T11:24:54.400Z"
   },
   {
    "duration": 12,
    "start_time": "2022-10-09T11:32:43.841Z"
   },
   {
    "duration": 15,
    "start_time": "2022-10-09T11:32:49.933Z"
   },
   {
    "duration": 31,
    "start_time": "2022-10-09T11:33:27.705Z"
   },
   {
    "duration": 67,
    "start_time": "2022-10-09T11:34:36.808Z"
   },
   {
    "duration": 20,
    "start_time": "2022-10-09T11:34:58.634Z"
   },
   {
    "duration": 17,
    "start_time": "2022-10-09T11:35:23.636Z"
   },
   {
    "duration": 20,
    "start_time": "2022-10-09T11:35:28.545Z"
   },
   {
    "duration": 18,
    "start_time": "2022-10-09T11:35:31.091Z"
   },
   {
    "duration": 38,
    "start_time": "2022-10-09T11:35:57.277Z"
   },
   {
    "duration": 29,
    "start_time": "2022-10-09T11:36:19.717Z"
   },
   {
    "duration": 243,
    "start_time": "2022-10-09T11:38:32.895Z"
   },
   {
    "duration": 66,
    "start_time": "2022-10-09T11:41:03.896Z"
   },
   {
    "duration": 129,
    "start_time": "2022-10-09T11:41:05.242Z"
   },
   {
    "duration": 2,
    "start_time": "2022-10-09T11:41:14.212Z"
   },
   {
    "duration": 25,
    "start_time": "2022-10-09T11:41:14.216Z"
   },
   {
    "duration": 9,
    "start_time": "2022-10-09T11:41:14.243Z"
   },
   {
    "duration": 50,
    "start_time": "2022-10-09T11:41:14.254Z"
   },
   {
    "duration": 16,
    "start_time": "2022-10-09T11:41:14.305Z"
   },
   {
    "duration": 32,
    "start_time": "2022-10-09T11:41:14.322Z"
   },
   {
    "duration": 10,
    "start_time": "2022-10-09T11:41:14.355Z"
   },
   {
    "duration": 26,
    "start_time": "2022-10-09T11:41:14.367Z"
   },
   {
    "duration": 20,
    "start_time": "2022-10-09T11:41:14.394Z"
   },
   {
    "duration": 232,
    "start_time": "2022-10-09T11:41:14.417Z"
   },
   {
    "duration": 6,
    "start_time": "2022-10-09T11:41:14.651Z"
   },
   {
    "duration": 173,
    "start_time": "2022-10-09T11:41:14.658Z"
   },
   {
    "duration": 209,
    "start_time": "2022-10-09T11:41:14.832Z"
   },
   {
    "duration": 241,
    "start_time": "2022-10-09T11:41:15.042Z"
   },
   {
    "duration": 142,
    "start_time": "2022-10-09T11:41:15.285Z"
   },
   {
    "duration": 269,
    "start_time": "2022-10-09T11:41:15.430Z"
   },
   {
    "duration": 187,
    "start_time": "2022-10-09T11:41:15.701Z"
   },
   {
    "duration": 163,
    "start_time": "2022-10-09T11:41:15.890Z"
   },
   {
    "duration": 193,
    "start_time": "2022-10-09T11:41:16.054Z"
   },
   {
    "duration": 174,
    "start_time": "2022-10-09T11:41:16.249Z"
   },
   {
    "duration": 246,
    "start_time": "2022-10-09T11:41:16.425Z"
   },
   {
    "duration": 10982,
    "start_time": "2022-10-09T11:41:16.673Z"
   },
   {
    "duration": 313,
    "start_time": "2022-10-09T11:41:27.657Z"
   },
   {
    "duration": 30931,
    "start_time": "2022-10-09T11:41:27.971Z"
   },
   {
    "duration": 176,
    "start_time": "2022-10-09T11:41:58.904Z"
   },
   {
    "duration": 178,
    "start_time": "2022-10-09T11:41:59.082Z"
   },
   {
    "duration": 177,
    "start_time": "2022-10-09T11:41:59.262Z"
   },
   {
    "duration": 63,
    "start_time": "2022-10-09T11:41:59.443Z"
   },
   {
    "duration": 294,
    "start_time": "2022-10-09T11:41:59.508Z"
   },
   {
    "duration": 5,
    "start_time": "2022-10-09T11:41:59.804Z"
   },
   {
    "duration": 45,
    "start_time": "2022-10-09T11:41:59.810Z"
   },
   {
    "duration": 81,
    "start_time": "2022-10-09T11:41:59.857Z"
   },
   {
    "duration": 151,
    "start_time": "2022-10-09T11:41:59.940Z"
   },
   {
    "duration": 169,
    "start_time": "2022-10-09T11:44:11.386Z"
   },
   {
    "duration": 136,
    "start_time": "2022-10-09T11:44:19.641Z"
   },
   {
    "duration": 2,
    "start_time": "2022-10-09T11:45:14.792Z"
   },
   {
    "duration": 78,
    "start_time": "2022-10-09T11:45:30.500Z"
   },
   {
    "duration": 171,
    "start_time": "2022-10-09T11:45:50.818Z"
   },
   {
    "duration": 152,
    "start_time": "2022-10-09T11:47:44.492Z"
   },
   {
    "duration": 132,
    "start_time": "2022-10-09T11:47:54.570Z"
   },
   {
    "duration": 150,
    "start_time": "2022-10-09T11:48:00.099Z"
   },
   {
    "duration": 162,
    "start_time": "2022-10-09T11:48:11.449Z"
   },
   {
    "duration": 135,
    "start_time": "2022-10-09T11:48:31.461Z"
   },
   {
    "duration": 150,
    "start_time": "2022-10-09T11:49:24.106Z"
   },
   {
    "duration": 197,
    "start_time": "2022-10-09T11:49:58.938Z"
   },
   {
    "duration": 46,
    "start_time": "2022-10-09T11:50:43.160Z"
   },
   {
    "duration": 126,
    "start_time": "2022-10-09T11:52:59.590Z"
   },
   {
    "duration": 29969,
    "start_time": "2022-10-09T11:53:41.914Z"
   },
   {
    "duration": 149,
    "start_time": "2022-10-09T11:54:14.736Z"
   },
   {
    "duration": 127,
    "start_time": "2022-10-09T11:54:16.526Z"
   },
   {
    "duration": 136,
    "start_time": "2022-10-09T11:54:17.729Z"
   },
   {
    "duration": 55,
    "start_time": "2022-10-09T11:54:19.444Z"
   },
   {
    "duration": 202,
    "start_time": "2022-10-09T11:54:20.458Z"
   },
   {
    "duration": 4,
    "start_time": "2022-10-09T11:54:21.136Z"
   },
   {
    "duration": 33,
    "start_time": "2022-10-09T11:54:21.808Z"
   },
   {
    "duration": 59,
    "start_time": "2022-10-09T11:54:22.265Z"
   },
   {
    "duration": 133,
    "start_time": "2022-10-09T11:54:22.725Z"
   },
   {
    "duration": 137,
    "start_time": "2022-10-09T11:54:23.321Z"
   },
   {
    "duration": 3,
    "start_time": "2022-10-09T11:54:23.702Z"
   },
   {
    "duration": 62,
    "start_time": "2022-10-09T11:54:25.137Z"
   },
   {
    "duration": 134,
    "start_time": "2022-10-09T11:54:25.411Z"
   },
   {
    "duration": 135,
    "start_time": "2022-10-09T11:54:28.321Z"
   },
   {
    "duration": 1461,
    "start_time": "2022-10-09T11:54:30.167Z"
   },
   {
    "duration": 38,
    "start_time": "2022-10-09T11:55:05.315Z"
   },
   {
    "duration": 38,
    "start_time": "2022-10-09T11:55:34.755Z"
   },
   {
    "duration": 20,
    "start_time": "2022-10-09T11:55:53.672Z"
   },
   {
    "duration": 441,
    "start_time": "2022-10-09T11:58:58.975Z"
   },
   {
    "duration": 165,
    "start_time": "2022-10-09T11:59:02.615Z"
   },
   {
    "duration": 128,
    "start_time": "2022-10-09T11:59:04.371Z"
   },
   {
    "duration": 17,
    "start_time": "2022-10-09T11:59:08.137Z"
   },
   {
    "duration": 121,
    "start_time": "2022-10-09T12:00:29.032Z"
   },
   {
    "duration": 14,
    "start_time": "2022-10-09T12:01:37.387Z"
   },
   {
    "duration": 128,
    "start_time": "2022-10-09T12:02:38.654Z"
   },
   {
    "duration": 32,
    "start_time": "2022-10-09T12:11:47.075Z"
   },
   {
    "duration": 13,
    "start_time": "2022-10-09T12:12:08.221Z"
   },
   {
    "duration": 442,
    "start_time": "2022-10-09T12:12:38.668Z"
   },
   {
    "duration": 154,
    "start_time": "2022-10-09T12:12:44.707Z"
   },
   {
    "duration": 3,
    "start_time": "2022-10-09T12:17:08.992Z"
   },
   {
    "duration": 45,
    "start_time": "2022-10-09T12:18:37.707Z"
   },
   {
    "duration": 102,
    "start_time": "2022-10-09T12:19:29.381Z"
   },
   {
    "duration": 286,
    "start_time": "2022-10-09T12:19:47.469Z"
   },
   {
    "duration": 2,
    "start_time": "2022-10-09T12:19:49.160Z"
   },
   {
    "duration": 24,
    "start_time": "2022-10-09T12:19:50.756Z"
   },
   {
    "duration": 16,
    "start_time": "2022-10-09T12:20:00.045Z"
   },
   {
    "duration": 27,
    "start_time": "2022-10-09T12:21:11.940Z"
   },
   {
    "duration": 1559,
    "start_time": "2022-10-09T12:23:38.983Z"
   },
   {
    "duration": 14,
    "start_time": "2022-10-09T12:24:16.396Z"
   },
   {
    "duration": 12,
    "start_time": "2022-10-09T12:24:20.838Z"
   },
   {
    "duration": 41,
    "start_time": "2022-10-09T12:24:58.300Z"
   },
   {
    "duration": 17,
    "start_time": "2022-10-09T12:25:03.151Z"
   },
   {
    "duration": 15,
    "start_time": "2022-10-09T12:25:05.630Z"
   },
   {
    "duration": 12,
    "start_time": "2022-10-09T12:25:15.747Z"
   },
   {
    "duration": 15,
    "start_time": "2022-10-09T12:25:31.530Z"
   },
   {
    "duration": 16,
    "start_time": "2022-10-09T12:25:36.919Z"
   },
   {
    "duration": 19,
    "start_time": "2022-10-09T12:25:37.510Z"
   },
   {
    "duration": 59,
    "start_time": "2022-10-09T12:25:46.295Z"
   },
   {
    "duration": 249,
    "start_time": "2022-10-09T12:25:46.822Z"
   },
   {
    "duration": 3,
    "start_time": "2022-10-09T12:25:47.217Z"
   },
   {
    "duration": 24,
    "start_time": "2022-10-09T12:25:47.749Z"
   },
   {
    "duration": 1509,
    "start_time": "2022-10-09T12:25:48.251Z"
   },
   {
    "duration": 37,
    "start_time": "2022-10-09T12:25:49.763Z"
   },
   {
    "duration": 52,
    "start_time": "2022-10-09T12:27:14.538Z"
   },
   {
    "duration": 249,
    "start_time": "2022-10-09T12:27:15.040Z"
   },
   {
    "duration": 3,
    "start_time": "2022-10-09T12:27:15.792Z"
   },
   {
    "duration": 28,
    "start_time": "2022-10-09T12:27:16.483Z"
   },
   {
    "duration": 1514,
    "start_time": "2022-10-09T12:27:16.945Z"
   },
   {
    "duration": 48,
    "start_time": "2022-10-09T12:27:18.461Z"
   },
   {
    "duration": 1628,
    "start_time": "2022-10-09T12:27:18.510Z"
   },
   {
    "duration": 54,
    "start_time": "2022-10-09T12:27:39.148Z"
   },
   {
    "duration": 1762,
    "start_time": "2022-10-10T06:45:44.210Z"
   },
   {
    "duration": 9,
    "start_time": "2022-10-10T06:45:45.974Z"
   },
   {
    "duration": 6029,
    "start_time": "2022-10-10T06:45:45.985Z"
   },
   {
    "duration": 253,
    "start_time": "2022-10-10T06:45:52.016Z"
   },
   {
    "duration": 25,
    "start_time": "2022-10-10T06:45:52.270Z"
   },
   {
    "duration": 40,
    "start_time": "2022-10-10T06:45:52.296Z"
   },
   {
    "duration": 11,
    "start_time": "2022-10-10T06:45:52.337Z"
   },
   {
    "duration": 40,
    "start_time": "2022-10-10T06:45:52.350Z"
   },
   {
    "duration": 9,
    "start_time": "2022-10-10T06:45:52.391Z"
   },
   {
    "duration": 293,
    "start_time": "2022-10-10T06:45:52.402Z"
   },
   {
    "duration": 7,
    "start_time": "2022-10-10T06:45:52.697Z"
   },
   {
    "duration": 286,
    "start_time": "2022-10-10T06:45:52.705Z"
   },
   {
    "duration": 252,
    "start_time": "2022-10-10T06:45:52.993Z"
   },
   {
    "duration": 285,
    "start_time": "2022-10-10T06:45:53.246Z"
   },
   {
    "duration": 182,
    "start_time": "2022-10-10T06:45:53.532Z"
   },
   {
    "duration": 301,
    "start_time": "2022-10-10T06:45:53.716Z"
   },
   {
    "duration": 243,
    "start_time": "2022-10-10T06:45:54.019Z"
   },
   {
    "duration": 174,
    "start_time": "2022-10-10T06:45:54.264Z"
   },
   {
    "duration": 231,
    "start_time": "2022-10-10T06:45:54.440Z"
   },
   {
    "duration": 233,
    "start_time": "2022-10-10T06:45:54.673Z"
   },
   {
    "duration": 290,
    "start_time": "2022-10-10T06:45:54.907Z"
   },
   {
    "duration": 11962,
    "start_time": "2022-10-10T06:45:55.199Z"
   },
   {
    "duration": 330,
    "start_time": "2022-10-10T06:46:07.163Z"
   },
   {
    "duration": 30194,
    "start_time": "2022-10-10T06:46:07.496Z"
   },
   {
    "duration": 153,
    "start_time": "2022-10-10T06:46:37.695Z"
   },
   {
    "duration": 146,
    "start_time": "2022-10-10T06:46:37.849Z"
   },
   {
    "duration": 144,
    "start_time": "2022-10-10T06:46:37.996Z"
   },
   {
    "duration": 67,
    "start_time": "2022-10-10T06:46:38.143Z"
   },
   {
    "duration": 251,
    "start_time": "2022-10-10T06:46:38.212Z"
   },
   {
    "duration": 13,
    "start_time": "2022-10-10T06:46:38.465Z"
   },
   {
    "duration": 40,
    "start_time": "2022-10-10T06:46:38.492Z"
   },
   {
    "duration": 67,
    "start_time": "2022-10-10T06:46:38.533Z"
   },
   {
    "duration": 122,
    "start_time": "2022-10-10T06:46:38.602Z"
   },
   {
    "duration": 160,
    "start_time": "2022-10-10T06:46:38.726Z"
   },
   {
    "duration": 3,
    "start_time": "2022-10-10T06:46:38.891Z"
   },
   {
    "duration": 415,
    "start_time": "2022-10-10T06:46:38.895Z"
   },
   {
    "duration": 120,
    "start_time": "2022-10-10T06:46:39.312Z"
   },
   {
    "duration": 15,
    "start_time": "2022-10-10T06:46:39.435Z"
   },
   {
    "duration": 56,
    "start_time": "2022-10-10T06:46:39.452Z"
   },
   {
    "duration": 234,
    "start_time": "2022-10-10T06:46:39.510Z"
   },
   {
    "duration": 4,
    "start_time": "2022-10-10T06:46:39.746Z"
   },
   {
    "duration": 476,
    "start_time": "2022-10-10T06:49:25.291Z"
   },
   {
    "duration": 128,
    "start_time": "2022-10-10T06:49:26.794Z"
   },
   {
    "duration": 15,
    "start_time": "2022-10-10T06:49:30.131Z"
   },
   {
    "duration": 55,
    "start_time": "2022-10-10T06:49:32.766Z"
   },
   {
    "duration": 278,
    "start_time": "2022-10-10T06:49:34.285Z"
   },
   {
    "duration": 3,
    "start_time": "2022-10-10T06:49:35.864Z"
   },
   {
    "duration": 29,
    "start_time": "2022-10-10T06:49:37.135Z"
   },
   {
    "duration": 1564,
    "start_time": "2022-10-10T06:52:41.971Z"
   },
   {
    "duration": 127,
    "start_time": "2022-10-10T06:54:14.290Z"
   },
   {
    "duration": 86,
    "start_time": "2022-10-10T06:54:40.641Z"
   },
   {
    "duration": 39,
    "start_time": "2022-10-10T06:54:45.990Z"
   },
   {
    "duration": 8,
    "start_time": "2022-10-10T06:55:49.592Z"
   },
   {
    "duration": 11,
    "start_time": "2022-10-10T06:56:07.527Z"
   },
   {
    "duration": 138,
    "start_time": "2022-10-10T06:56:48.151Z"
   },
   {
    "duration": 797,
    "start_time": "2022-10-10T06:57:14.571Z"
   },
   {
    "duration": 25,
    "start_time": "2022-10-10T06:57:26.820Z"
   },
   {
    "duration": 24,
    "start_time": "2022-10-10T06:57:39.115Z"
   },
   {
    "duration": 12,
    "start_time": "2022-10-10T07:03:24.486Z"
   },
   {
    "duration": 5,
    "start_time": "2022-10-10T07:04:13.021Z"
   },
   {
    "duration": 597,
    "start_time": "2022-10-10T07:04:20.422Z"
   },
   {
    "duration": 4,
    "start_time": "2022-10-10T07:05:36.760Z"
   },
   {
    "duration": 696,
    "start_time": "2022-10-10T07:08:25.170Z"
   },
   {
    "duration": 4,
    "start_time": "2022-10-10T07:08:27.793Z"
   },
   {
    "duration": 8,
    "start_time": "2022-10-10T07:09:09.819Z"
   },
   {
    "duration": 10,
    "start_time": "2022-10-10T07:10:11.149Z"
   },
   {
    "duration": 3,
    "start_time": "2022-10-10T07:15:52.081Z"
   },
   {
    "duration": 4,
    "start_time": "2022-10-10T07:16:09.650Z"
   },
   {
    "duration": 3,
    "start_time": "2022-10-10T07:17:06.715Z"
   },
   {
    "duration": 10,
    "start_time": "2022-10-10T07:17:23.367Z"
   },
   {
    "duration": 17170,
    "start_time": "2022-10-10T07:19:07.082Z"
   },
   {
    "duration": 6,
    "start_time": "2022-10-10T07:19:45.214Z"
   },
   {
    "duration": 12,
    "start_time": "2022-10-10T07:19:48.592Z"
   },
   {
    "duration": 5,
    "start_time": "2022-10-10T07:19:50.199Z"
   },
   {
    "duration": 9,
    "start_time": "2022-10-10T07:19:51.449Z"
   },
   {
    "duration": 18870,
    "start_time": "2022-10-10T07:21:27.678Z"
   },
   {
    "duration": 6,
    "start_time": "2022-10-10T07:21:48.726Z"
   },
   {
    "duration": 10,
    "start_time": "2022-10-10T07:21:52.796Z"
   },
   {
    "duration": 4,
    "start_time": "2022-10-10T07:21:53.527Z"
   },
   {
    "duration": 12,
    "start_time": "2022-10-10T07:21:55.331Z"
   },
   {
    "duration": 19629,
    "start_time": "2022-10-10T07:25:17.357Z"
   },
   {
    "duration": 4,
    "start_time": "2022-10-10T07:25:38.086Z"
   },
   {
    "duration": 7,
    "start_time": "2022-10-10T07:25:39.759Z"
   },
   {
    "duration": 3,
    "start_time": "2022-10-10T07:25:40.773Z"
   },
   {
    "duration": 10,
    "start_time": "2022-10-10T07:25:43.027Z"
   },
   {
    "duration": 30,
    "start_time": "2022-10-10T07:27:18.399Z"
   },
   {
    "duration": 5264850,
    "start_time": "2022-10-10T07:27:35.529Z"
   },
   {
    "duration": 4,
    "start_time": "2022-10-10T09:53:22.975Z"
   },
   {
    "duration": 108,
    "start_time": "2022-10-10T09:53:29.410Z"
   },
   {
    "duration": 8,
    "start_time": "2022-10-10T09:53:32.171Z"
   }
  ],
  "kernelspec": {
   "display_name": "Python 3 (ipykernel)",
   "language": "python",
   "name": "python3"
  },
  "language_info": {
   "codemirror_mode": {
    "name": "ipython",
    "version": 3
   },
   "file_extension": ".py",
   "mimetype": "text/x-python",
   "name": "python",
   "nbconvert_exporter": "python",
   "pygments_lexer": "ipython3",
   "version": "3.9.7"
  },
  "toc": {
   "base_numbering": 1,
   "nav_menu": {},
   "number_sections": false,
   "sideBar": true,
   "skip_h1_title": false,
   "title_cell": "Table of Contents",
   "title_sidebar": "Contents",
   "toc_cell": false,
   "toc_position": {},
   "toc_section_display": true,
   "toc_window_display": false
  },
  "varInspector": {
   "cols": {
    "lenName": 16,
    "lenType": 16,
    "lenVar": 40
   },
   "kernels_config": {
    "python": {
     "delete_cmd_postfix": "",
     "delete_cmd_prefix": "del ",
     "library": "var_list.py",
     "varRefreshCmd": "print(var_dic_list())"
    },
    "r": {
     "delete_cmd_postfix": ") ",
     "delete_cmd_prefix": "rm(",
     "library": "var_list.r",
     "varRefreshCmd": "cat(var_dic_list()) "
    }
   },
   "types_to_exclude": [
    "module",
    "function",
    "builtin_function_or_method",
    "instance",
    "_Feature"
   ],
   "window_display": false
  }
 },
 "nbformat": 4,
 "nbformat_minor": 5
}
